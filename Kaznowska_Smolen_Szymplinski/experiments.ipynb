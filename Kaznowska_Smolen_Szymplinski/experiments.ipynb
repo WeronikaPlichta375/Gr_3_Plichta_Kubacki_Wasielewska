{
 "cells": [
  {
   "cell_type": "code",
   "execution_count": 18,
   "metadata": {},
   "outputs": [
    {
     "data": {
      "text/plain": [
       "<module 'optimizers' from 'c:\\\\Users\\\\user\\\\Documents\\\\GitHub\\\\Advanced-Machine-Learning\\\\project_1\\\\optimizers.py'>"
      ]
     },
     "execution_count": 18,
     "metadata": {},
     "output_type": "execute_result"
    }
   ],
   "source": [
    "import numpy as np\n",
    "import pandas as pd\n",
    "import importlib\n",
    "import os\n",
    "import sys\n",
    "from sklearn.metrics import accuracy_score, balanced_accuracy_score\n",
    "import importlib \n",
    "from sklearn.discriminant_analysis import LinearDiscriminantAnalysis, QuadraticDiscriminantAnalysis\n",
    "from scipy.stats import bernoulli, norm\n",
    "from logistic_regression import LogisticRegression\n",
    "from sklearn.ensemble import RandomForestClassifier\n",
    "from sklearn.tree import DecisionTreeClassifier\n",
    "import utils \n",
    "import optimizers\n",
    "from utils import *\n",
    "from optimizers import *\n",
    "import matplotlib.pyplot as plt\n",
    "from sklearn.preprocessing import StandardScaler\n",
    "from tqdm import tqdm\n",
    "importlib.reload(utils)\n",
    "importlib.reload(optimizers)"
   ]
  },
  {
   "cell_type": "markdown",
   "metadata": {},
   "source": [
    "# Load datasets and models"
   ]
  },
  {
   "cell_type": "code",
   "execution_count": 2,
   "metadata": {},
   "outputs": [],
   "source": [
    "datasets = {}\n",
    "datasets['covertype'] = pd.read_csv('data/covertype.csv') #load_covertype()\n",
    "datasets['banana'] = load_banana()\n",
    "datasets['magic_telescope'] = load_magic_telescope()\n",
    "datasets['penguins'] = load_penguins_df()\n",
    "datasets['sonar'] = load_sonar()\n",
    "datasets['ionosphere'] = load_ionosphere()\n",
    "\n",
    "datasets['breast_cancer'] = load_breast_cancer()\n",
    "datasets['airline'] = load_airline()\n",
    "datasets['pcos'] = load_pcos()\n",
    "\n"
   ]
  },
  {
   "cell_type": "code",
   "execution_count": 3,
   "metadata": {},
   "outputs": [],
   "source": [
    "datasets['covertype'].to_csv('data/covertype.csv', index=False)"
   ]
  },
  {
   "cell_type": "code",
   "execution_count": 4,
   "metadata": {},
   "outputs": [],
   "source": [
    "models = {}\n",
    "models['SGD'] = LogisticRegression(optimizer = SGD())\n",
    "models['SGD_INT'] = LogisticRegression(optimizer = SGD(), interactions = True)\n",
    "models['IWLS'] = LogisticRegression(optimizer = IWLS())\n",
    "models['IWLS_INT'] = LogisticRegression(optimizer = IWLS(), interactions = True)\n",
    "models['Adam'] = LogisticRegression(optimizer = Adam())\n",
    "models['Adam_INT'] = LogisticRegression(optimizer = Adam(), interactions = True)\n",
    "models['LDA'] = LinearDiscriminantAnalysis()\n",
    "models['QDA'] = QuadraticDiscriminantAnalysis()\n",
    "models['RandomForest'] = RandomForestClassifier()\n",
    "models['DecisionTree'] = DecisionTreeClassifier()"
   ]
  },
  {
   "cell_type": "code",
   "execution_count": 25,
   "metadata": {},
   "outputs": [],
   "source": [
    "optimizers = ['Adam', 'Adam_INT', \"SGD\", 'SGD_INT', 'IWLS', 'IWLS_INT']\n",
    "int_optimizers = ['Adam_INT', 'SGD_INT', 'IWLS_INT']\n",
    "small_sets = ['magic_telescope', 'penguins', 'banana']"
   ]
  },
  {
   "cell_type": "markdown",
   "metadata": {},
   "source": [
    "# Experiments"
   ]
  },
  {
   "cell_type": "code",
   "execution_count": 26,
   "metadata": {},
   "outputs": [
    {
     "name": "stderr",
     "output_type": "stream",
     "text": [
      "Model training:   0%|          | 0/500 [00:00<?, ?it/s]"
     ]
    },
    {
     "name": "stderr",
     "output_type": "stream",
     "text": [
      "Model training:  11%|█▏        | 57/500 [00:01<00:08, 49.82it/s]\n"
     ]
    },
    {
     "name": "stdout",
     "output_type": "stream",
     "text": [
      "Early stopping!\n"
     ]
    },
    {
     "name": "stderr",
     "output_type": "stream",
     "text": [
      "Model training:  13%|█▎        | 63/500 [00:00<00:06, 70.74it/s]\n"
     ]
    },
    {
     "name": "stdout",
     "output_type": "stream",
     "text": [
      "Early stopping!\n"
     ]
    },
    {
     "name": "stderr",
     "output_type": "stream",
     "text": [
      "Model training:  12%|█▏        | 58/500 [00:00<00:05, 75.64it/s]\n"
     ]
    },
    {
     "name": "stdout",
     "output_type": "stream",
     "text": [
      "Early stopping!\n"
     ]
    },
    {
     "name": "stderr",
     "output_type": "stream",
     "text": [
      "Model training:  17%|█▋        | 85/500 [00:01<00:05, 76.10it/s]\n"
     ]
    },
    {
     "name": "stdout",
     "output_type": "stream",
     "text": [
      "Early stopping!\n"
     ]
    },
    {
     "name": "stderr",
     "output_type": "stream",
     "text": [
      "Model training:  12%|█▏        | 59/500 [00:00<00:06, 70.78it/s]\n"
     ]
    },
    {
     "name": "stdout",
     "output_type": "stream",
     "text": [
      "Early stopping!\n"
     ]
    },
    {
     "name": "stderr",
     "output_type": "stream",
     "text": [
      "Model training:  13%|█▎        | 65/500 [00:00<00:05, 76.65it/s]\n"
     ]
    },
    {
     "name": "stdout",
     "output_type": "stream",
     "text": [
      "Early stopping!\n"
     ]
    },
    {
     "name": "stderr",
     "output_type": "stream",
     "text": [
      "Model training:  13%|█▎        | 66/500 [00:01<00:07, 54.58it/s]\n"
     ]
    },
    {
     "name": "stdout",
     "output_type": "stream",
     "text": [
      "Early stopping!\n"
     ]
    },
    {
     "name": "stderr",
     "output_type": "stream",
     "text": [
      "Model training:  12%|█▏        | 62/500 [00:01<00:07, 55.71it/s]\n"
     ]
    },
    {
     "name": "stdout",
     "output_type": "stream",
     "text": [
      "Early stopping!\n"
     ]
    },
    {
     "name": "stderr",
     "output_type": "stream",
     "text": [
      "Model training:  12%|█▏        | 62/500 [00:01<00:07, 55.85it/s]\n"
     ]
    },
    {
     "name": "stdout",
     "output_type": "stream",
     "text": [
      "Early stopping!\n"
     ]
    },
    {
     "name": "stderr",
     "output_type": "stream",
     "text": [
      "Model training:  13%|█▎        | 63/500 [00:00<00:06, 63.91it/s]\n"
     ]
    },
    {
     "name": "stdout",
     "output_type": "stream",
     "text": [
      "Early stopping!\n",
      "model: SGD, dataset: covertype,  Mean accuracy 0.6077334229544951\n"
     ]
    },
    {
     "name": "stderr",
     "output_type": "stream",
     "text": [
      "Model training:   6%|▌         | 29/500 [00:00<00:07, 65.92it/s]c:\\Users\\user\\Documents\\GitHub\\Advanced-Machine-Learning\\project_1\\utils.py:17: RuntimeWarning: divide by zero encountered in true_divide\n",
      "  return np.log(a/(1-a))\n",
      "c:\\Users\\user\\Documents\\GitHub\\Advanced-Machine-Learning\\project_1\\utils.py:20: RuntimeWarning: divide by zero encountered in true_divide\n",
      "  return 1/(a*(1-a))\n",
      "c:\\Users\\user\\Documents\\GitHub\\Advanced-Machine-Learning\\project_1\\optimizers.py:116: RuntimeWarning: invalid value encountered in multiply\n",
      "  W = np.diag(1 / (logit_derivative(p)**2 * p*(1-p)))\n",
      "Model training:  10%|█         | 51/500 [00:00<00:06, 71.98it/s]\n"
     ]
    },
    {
     "name": "stdout",
     "output_type": "stream",
     "text": [
      "Early stopping!\n"
     ]
    },
    {
     "name": "stderr",
     "output_type": "stream",
     "text": [
      "Model training:   6%|▋         | 32/500 [00:00<00:07, 65.88it/s]c:\\Users\\user\\Documents\\GitHub\\Advanced-Machine-Learning\\project_1\\utils.py:17: RuntimeWarning: divide by zero encountered in true_divide\n",
      "  return np.log(a/(1-a))\n",
      "c:\\Users\\user\\Documents\\GitHub\\Advanced-Machine-Learning\\project_1\\utils.py:20: RuntimeWarning: divide by zero encountered in true_divide\n",
      "  return 1/(a*(1-a))\n",
      "c:\\Users\\user\\Documents\\GitHub\\Advanced-Machine-Learning\\project_1\\optimizers.py:116: RuntimeWarning: invalid value encountered in multiply\n",
      "  W = np.diag(1 / (logit_derivative(p)**2 * p*(1-p)))\n",
      "Model training:  10%|█         | 50/500 [00:01<00:09, 46.95it/s]\n"
     ]
    },
    {
     "name": "stdout",
     "output_type": "stream",
     "text": [
      "Early stopping!\n"
     ]
    },
    {
     "name": "stderr",
     "output_type": "stream",
     "text": [
      "Model training:   6%|▌         | 28/500 [00:00<00:06, 69.72it/s]c:\\Users\\user\\Documents\\GitHub\\Advanced-Machine-Learning\\project_1\\utils.py:17: RuntimeWarning: divide by zero encountered in true_divide\n",
      "  return np.log(a/(1-a))\n",
      "c:\\Users\\user\\Documents\\GitHub\\Advanced-Machine-Learning\\project_1\\utils.py:20: RuntimeWarning: divide by zero encountered in true_divide\n",
      "  return 1/(a*(1-a))\n",
      "c:\\Users\\user\\Documents\\GitHub\\Advanced-Machine-Learning\\project_1\\optimizers.py:116: RuntimeWarning: invalid value encountered in multiply\n",
      "  W = np.diag(1 / (logit_derivative(p)**2 * p*(1-p)))\n",
      "Model training:  10%|█         | 51/500 [00:00<00:05, 75.89it/s]\n"
     ]
    },
    {
     "name": "stdout",
     "output_type": "stream",
     "text": [
      "Early stopping!\n"
     ]
    },
    {
     "name": "stderr",
     "output_type": "stream",
     "text": [
      "Model training:   6%|▌         | 28/500 [00:00<00:07, 62.86it/s]c:\\Users\\user\\Documents\\GitHub\\Advanced-Machine-Learning\\project_1\\utils.py:17: RuntimeWarning: divide by zero encountered in true_divide\n",
      "  return np.log(a/(1-a))\n",
      "c:\\Users\\user\\Documents\\GitHub\\Advanced-Machine-Learning\\project_1\\utils.py:20: RuntimeWarning: divide by zero encountered in true_divide\n",
      "  return 1/(a*(1-a))\n",
      "c:\\Users\\user\\Documents\\GitHub\\Advanced-Machine-Learning\\project_1\\optimizers.py:116: RuntimeWarning: invalid value encountered in multiply\n",
      "  W = np.diag(1 / (logit_derivative(p)**2 * p*(1-p)))\n",
      "Model training:  10%|█         | 51/500 [00:00<00:06, 70.54it/s]\n"
     ]
    },
    {
     "name": "stdout",
     "output_type": "stream",
     "text": [
      "Early stopping!\n"
     ]
    },
    {
     "name": "stderr",
     "output_type": "stream",
     "text": [
      "Model training:   6%|▌         | 28/500 [00:00<00:07, 66.54it/s]c:\\Users\\user\\Documents\\GitHub\\Advanced-Machine-Learning\\project_1\\utils.py:17: RuntimeWarning: divide by zero encountered in true_divide\n",
      "  return np.log(a/(1-a))\n",
      "c:\\Users\\user\\Documents\\GitHub\\Advanced-Machine-Learning\\project_1\\utils.py:20: RuntimeWarning: divide by zero encountered in true_divide\n",
      "  return 1/(a*(1-a))\n",
      "c:\\Users\\user\\Documents\\GitHub\\Advanced-Machine-Learning\\project_1\\optimizers.py:116: RuntimeWarning: invalid value encountered in multiply\n",
      "  W = np.diag(1 / (logit_derivative(p)**2 * p*(1-p)))\n",
      "Model training:  10%|█         | 51/500 [00:00<00:06, 70.14it/s]\n"
     ]
    },
    {
     "name": "stdout",
     "output_type": "stream",
     "text": [
      "Early stopping!\n"
     ]
    },
    {
     "name": "stderr",
     "output_type": "stream",
     "text": [
      "Model training:   6%|▌         | 30/500 [00:00<00:06, 70.81it/s]c:\\Users\\user\\Documents\\GitHub\\Advanced-Machine-Learning\\project_1\\utils.py:17: RuntimeWarning: divide by zero encountered in true_divide\n",
      "  return np.log(a/(1-a))\n",
      "c:\\Users\\user\\Documents\\GitHub\\Advanced-Machine-Learning\\project_1\\utils.py:20: RuntimeWarning: divide by zero encountered in true_divide\n",
      "  return 1/(a*(1-a))\n",
      "c:\\Users\\user\\Documents\\GitHub\\Advanced-Machine-Learning\\project_1\\optimizers.py:116: RuntimeWarning: invalid value encountered in multiply\n",
      "  W = np.diag(1 / (logit_derivative(p)**2 * p*(1-p)))\n",
      "Model training:  17%|█▋        | 84/500 [00:00<00:04, 85.20it/s]\n"
     ]
    },
    {
     "name": "stdout",
     "output_type": "stream",
     "text": [
      "Early stopping!\n"
     ]
    },
    {
     "name": "stderr",
     "output_type": "stream",
     "text": [
      "Model training:   7%|▋         | 37/500 [00:00<00:06, 71.69it/s]c:\\Users\\user\\Documents\\GitHub\\Advanced-Machine-Learning\\project_1\\utils.py:17: RuntimeWarning: divide by zero encountered in true_divide\n",
      "  return np.log(a/(1-a))\n",
      "c:\\Users\\user\\Documents\\GitHub\\Advanced-Machine-Learning\\project_1\\utils.py:20: RuntimeWarning: divide by zero encountered in true_divide\n",
      "  return 1/(a*(1-a))\n",
      "c:\\Users\\user\\Documents\\GitHub\\Advanced-Machine-Learning\\project_1\\optimizers.py:116: RuntimeWarning: invalid value encountered in multiply\n",
      "  W = np.diag(1 / (logit_derivative(p)**2 * p*(1-p)))\n",
      "Model training:  10%|█         | 50/500 [00:00<00:06, 70.53it/s]\n"
     ]
    },
    {
     "name": "stdout",
     "output_type": "stream",
     "text": [
      "Early stopping!\n"
     ]
    },
    {
     "name": "stderr",
     "output_type": "stream",
     "text": [
      "Model training:   6%|▌         | 28/500 [00:00<00:06, 68.91it/s]c:\\Users\\user\\Documents\\GitHub\\Advanced-Machine-Learning\\project_1\\utils.py:17: RuntimeWarning: divide by zero encountered in true_divide\n",
      "  return np.log(a/(1-a))\n",
      "c:\\Users\\user\\Documents\\GitHub\\Advanced-Machine-Learning\\project_1\\utils.py:20: RuntimeWarning: divide by zero encountered in true_divide\n",
      "  return 1/(a*(1-a))\n",
      "c:\\Users\\user\\Documents\\GitHub\\Advanced-Machine-Learning\\project_1\\optimizers.py:116: RuntimeWarning: invalid value encountered in multiply\n",
      "  W = np.diag(1 / (logit_derivative(p)**2 * p*(1-p)))\n",
      "Model training:  10%|█         | 50/500 [00:01<00:09, 49.38it/s]\n"
     ]
    },
    {
     "name": "stdout",
     "output_type": "stream",
     "text": [
      "Early stopping!\n"
     ]
    },
    {
     "name": "stderr",
     "output_type": "stream",
     "text": [
      "Model training:   6%|▌         | 30/500 [00:00<00:09, 52.05it/s]c:\\Users\\user\\Documents\\GitHub\\Advanced-Machine-Learning\\project_1\\utils.py:17: RuntimeWarning: divide by zero encountered in true_divide\n",
      "  return np.log(a/(1-a))\n",
      "c:\\Users\\user\\Documents\\GitHub\\Advanced-Machine-Learning\\project_1\\utils.py:20: RuntimeWarning: divide by zero encountered in true_divide\n",
      "  return 1/(a*(1-a))\n",
      "c:\\Users\\user\\Documents\\GitHub\\Advanced-Machine-Learning\\project_1\\optimizers.py:116: RuntimeWarning: invalid value encountered in multiply\n",
      "  W = np.diag(1 / (logit_derivative(p)**2 * p*(1-p)))\n",
      "Model training:  10%|█         | 52/500 [00:00<00:07, 57.97it/s]\n"
     ]
    },
    {
     "name": "stdout",
     "output_type": "stream",
     "text": [
      "Early stopping!\n"
     ]
    },
    {
     "name": "stderr",
     "output_type": "stream",
     "text": [
      "Model training:   7%|▋         | 33/500 [00:00<00:07, 64.78it/s]c:\\Users\\user\\Documents\\GitHub\\Advanced-Machine-Learning\\project_1\\utils.py:14: RuntimeWarning: overflow encountered in exp\n",
      "  return -1*(y @ (coef @ X.T + intercept) - np.sum(np.log(1 + np.exp(-1*(coef @ X.T + intercept)))))\n",
      "c:\\Users\\user\\Documents\\GitHub\\Advanced-Machine-Learning\\project_1\\utils.py:17: RuntimeWarning: divide by zero encountered in true_divide\n",
      "  return np.log(a/(1-a))\n",
      "c:\\Users\\user\\Documents\\GitHub\\Advanced-Machine-Learning\\project_1\\utils.py:17: RuntimeWarning: divide by zero encountered in log\n",
      "  return np.log(a/(1-a))\n",
      "c:\\Users\\user\\Documents\\GitHub\\Advanced-Machine-Learning\\project_1\\utils.py:20: RuntimeWarning: divide by zero encountered in true_divide\n",
      "  return 1/(a*(1-a))\n",
      "c:\\Users\\user\\Documents\\GitHub\\Advanced-Machine-Learning\\project_1\\optimizers.py:116: RuntimeWarning: overflow encountered in square\n",
      "  W = np.diag(1 / (logit_derivative(p)**2 * p*(1-p)))\n",
      "c:\\Users\\user\\Documents\\GitHub\\Advanced-Machine-Learning\\project_1\\optimizers.py:116: RuntimeWarning: invalid value encountered in multiply\n",
      "  W = np.diag(1 / (logit_derivative(p)**2 * p*(1-p)))\n",
      "Model training:  10%|█         | 50/500 [00:00<00:06, 65.74it/s]\n"
     ]
    },
    {
     "name": "stdout",
     "output_type": "stream",
     "text": [
      "Early stopping!\n",
      "model: IWLS, dataset: covertype,  Mean accuracy 0.6901821166098939\n"
     ]
    },
    {
     "name": "stderr",
     "output_type": "stream",
     "text": [
      "Model training:  47%|████▋     | 234/500 [00:00<00:00, 366.77it/s]\n"
     ]
    },
    {
     "name": "stdout",
     "output_type": "stream",
     "text": [
      "Early stopping!\n"
     ]
    },
    {
     "name": "stderr",
     "output_type": "stream",
     "text": [
      "Model training: 100%|██████████| 500/500 [00:01<00:00, 382.65it/s]\n",
      "Model training:  25%|██▍       | 124/500 [00:00<00:00, 376.85it/s]\n"
     ]
    },
    {
     "name": "stdout",
     "output_type": "stream",
     "text": [
      "Early stopping!\n"
     ]
    },
    {
     "name": "stderr",
     "output_type": "stream",
     "text": [
      "Model training: 100%|██████████| 500/500 [00:01<00:00, 326.44it/s]\n",
      "Model training: 100%|██████████| 500/500 [00:01<00:00, 391.15it/s]\n",
      "Model training:  47%|████▋     | 237/500 [00:00<00:00, 369.14it/s]\n"
     ]
    },
    {
     "name": "stdout",
     "output_type": "stream",
     "text": [
      "Early stopping!\n"
     ]
    },
    {
     "name": "stderr",
     "output_type": "stream",
     "text": [
      "Model training: 100%|██████████| 500/500 [00:01<00:00, 357.87it/s]\n",
      "Model training:  19%|█▉        | 94/500 [00:00<00:01, 352.03it/s]\n"
     ]
    },
    {
     "name": "stdout",
     "output_type": "stream",
     "text": [
      "Early stopping!\n"
     ]
    },
    {
     "name": "stderr",
     "output_type": "stream",
     "text": [
      "Model training:  10%|█         | 50/500 [00:00<00:01, 322.57it/s]"
     ]
    },
    {
     "name": "stdout",
     "output_type": "stream",
     "text": [
      "Early stopping!\n"
     ]
    },
    {
     "name": "stderr",
     "output_type": "stream",
     "text": [
      "\n",
      "Model training: 100%|██████████| 500/500 [00:01<00:00, 371.07it/s]\n"
     ]
    },
    {
     "name": "stdout",
     "output_type": "stream",
     "text": [
      "model: Adam, dataset: covertype,  Mean accuracy 0.6819468334007717\n",
      "model: LDA, dataset: covertype,  Mean accuracy 0.686685937161821\n"
     ]
    },
    {
     "name": "stderr",
     "output_type": "stream",
     "text": [
      "c:\\Users\\user\\anaconda3\\lib\\site-packages\\sklearn\\discriminant_analysis.py:926: UserWarning: Variables are collinear\n",
      "  warnings.warn(\"Variables are collinear\")\n",
      "c:\\Users\\user\\anaconda3\\lib\\site-packages\\sklearn\\discriminant_analysis.py:926: UserWarning: Variables are collinear\n",
      "  warnings.warn(\"Variables are collinear\")\n",
      "c:\\Users\\user\\anaconda3\\lib\\site-packages\\sklearn\\discriminant_analysis.py:926: UserWarning: Variables are collinear\n",
      "  warnings.warn(\"Variables are collinear\")\n",
      "c:\\Users\\user\\anaconda3\\lib\\site-packages\\sklearn\\discriminant_analysis.py:926: UserWarning: Variables are collinear\n",
      "  warnings.warn(\"Variables are collinear\")\n",
      "c:\\Users\\user\\anaconda3\\lib\\site-packages\\sklearn\\discriminant_analysis.py:926: UserWarning: Variables are collinear\n",
      "  warnings.warn(\"Variables are collinear\")\n",
      "c:\\Users\\user\\anaconda3\\lib\\site-packages\\sklearn\\discriminant_analysis.py:926: UserWarning: Variables are collinear\n",
      "  warnings.warn(\"Variables are collinear\")\n",
      "c:\\Users\\user\\anaconda3\\lib\\site-packages\\sklearn\\discriminant_analysis.py:926: UserWarning: Variables are collinear\n",
      "  warnings.warn(\"Variables are collinear\")\n",
      "c:\\Users\\user\\anaconda3\\lib\\site-packages\\sklearn\\discriminant_analysis.py:926: UserWarning: Variables are collinear\n",
      "  warnings.warn(\"Variables are collinear\")\n",
      "c:\\Users\\user\\anaconda3\\lib\\site-packages\\sklearn\\discriminant_analysis.py:926: UserWarning: Variables are collinear\n",
      "  warnings.warn(\"Variables are collinear\")\n",
      "c:\\Users\\user\\anaconda3\\lib\\site-packages\\sklearn\\discriminant_analysis.py:926: UserWarning: Variables are collinear\n",
      "  warnings.warn(\"Variables are collinear\")\n"
     ]
    },
    {
     "name": "stdout",
     "output_type": "stream",
     "text": [
      "model: QDA, dataset: covertype,  Mean accuracy 0.57936065680578\n",
      "model: RandomForest, dataset: covertype,  Mean accuracy 0.7445984629213879\n",
      "model: DecisionTree, dataset: covertype,  Mean accuracy 0.6422979845616065\n"
     ]
    },
    {
     "name": "stderr",
     "output_type": "stream",
     "text": [
      "Model training:  10%|█         | 50/500 [00:00<00:05, 76.69it/s]\n"
     ]
    },
    {
     "name": "stdout",
     "output_type": "stream",
     "text": [
      "Early stopping!\n"
     ]
    },
    {
     "name": "stderr",
     "output_type": "stream",
     "text": [
      "Model training:  10%|█         | 50/500 [00:00<00:05, 77.13it/s]\n"
     ]
    },
    {
     "name": "stdout",
     "output_type": "stream",
     "text": [
      "Early stopping!\n"
     ]
    },
    {
     "name": "stderr",
     "output_type": "stream",
     "text": [
      "Model training:  10%|█         | 50/500 [00:00<00:06, 75.00it/s]\n"
     ]
    },
    {
     "name": "stdout",
     "output_type": "stream",
     "text": [
      "Early stopping!\n"
     ]
    },
    {
     "name": "stderr",
     "output_type": "stream",
     "text": [
      "Model training:  10%|█         | 50/500 [00:00<00:05, 76.22it/s]\n"
     ]
    },
    {
     "name": "stdout",
     "output_type": "stream",
     "text": [
      "Early stopping!\n"
     ]
    },
    {
     "name": "stderr",
     "output_type": "stream",
     "text": [
      "Model training:  10%|█         | 50/500 [00:00<00:08, 56.19it/s]\n"
     ]
    },
    {
     "name": "stdout",
     "output_type": "stream",
     "text": [
      "Early stopping!\n"
     ]
    },
    {
     "name": "stderr",
     "output_type": "stream",
     "text": [
      "Model training:  10%|█         | 50/500 [00:00<00:06, 67.42it/s]\n"
     ]
    },
    {
     "name": "stdout",
     "output_type": "stream",
     "text": [
      "Early stopping!\n"
     ]
    },
    {
     "name": "stderr",
     "output_type": "stream",
     "text": [
      "Model training:  10%|█         | 50/500 [00:00<00:05, 76.56it/s]\n"
     ]
    },
    {
     "name": "stdout",
     "output_type": "stream",
     "text": [
      "Early stopping!\n"
     ]
    },
    {
     "name": "stderr",
     "output_type": "stream",
     "text": [
      "Model training:  11%|█         | 54/500 [00:00<00:06, 73.59it/s]\n"
     ]
    },
    {
     "name": "stdout",
     "output_type": "stream",
     "text": [
      "Early stopping!\n"
     ]
    },
    {
     "name": "stderr",
     "output_type": "stream",
     "text": [
      "Model training:  10%|█         | 50/500 [00:00<00:05, 76.77it/s]\n"
     ]
    },
    {
     "name": "stdout",
     "output_type": "stream",
     "text": [
      "Early stopping!\n"
     ]
    },
    {
     "name": "stderr",
     "output_type": "stream",
     "text": [
      "Model training:  10%|█         | 50/500 [00:00<00:06, 65.43it/s]\n"
     ]
    },
    {
     "name": "stdout",
     "output_type": "stream",
     "text": [
      "Early stopping!\n",
      "model: SGD, dataset: banana,  Mean accuracy 0.7727458868719269\n"
     ]
    },
    {
     "name": "stderr",
     "output_type": "stream",
     "text": [
      "Model training:  13%|█▎        | 64/500 [00:01<00:07, 55.67it/s]\n"
     ]
    },
    {
     "name": "stdout",
     "output_type": "stream",
     "text": [
      "Early stopping!\n"
     ]
    },
    {
     "name": "stderr",
     "output_type": "stream",
     "text": [
      "Model training:  13%|█▎        | 65/500 [00:00<00:06, 71.83it/s]\n"
     ]
    },
    {
     "name": "stdout",
     "output_type": "stream",
     "text": [
      "Early stopping!\n"
     ]
    },
    {
     "name": "stderr",
     "output_type": "stream",
     "text": [
      "Model training:  13%|█▎        | 65/500 [00:00<00:05, 73.80it/s]\n"
     ]
    },
    {
     "name": "stdout",
     "output_type": "stream",
     "text": [
      "Early stopping!\n"
     ]
    },
    {
     "name": "stderr",
     "output_type": "stream",
     "text": [
      "Model training:  13%|█▎        | 66/500 [00:00<00:06, 66.82it/s]\n"
     ]
    },
    {
     "name": "stdout",
     "output_type": "stream",
     "text": [
      "Early stopping!\n"
     ]
    },
    {
     "name": "stderr",
     "output_type": "stream",
     "text": [
      "Model training:  12%|█▏        | 60/500 [00:00<00:06, 71.81it/s]\n"
     ]
    },
    {
     "name": "stdout",
     "output_type": "stream",
     "text": [
      "Early stopping!\n"
     ]
    },
    {
     "name": "stderr",
     "output_type": "stream",
     "text": [
      "Model training:  13%|█▎        | 66/500 [00:01<00:07, 57.73it/s]\n"
     ]
    },
    {
     "name": "stdout",
     "output_type": "stream",
     "text": [
      "Early stopping!\n"
     ]
    },
    {
     "name": "stderr",
     "output_type": "stream",
     "text": [
      "Model training:  23%|██▎       | 114/500 [00:01<00:05, 73.20it/s]\n"
     ]
    },
    {
     "name": "stdout",
     "output_type": "stream",
     "text": [
      "Early stopping!\n"
     ]
    },
    {
     "name": "stderr",
     "output_type": "stream",
     "text": [
      "Model training:  13%|█▎        | 66/500 [00:00<00:06, 71.18it/s]\n"
     ]
    },
    {
     "name": "stdout",
     "output_type": "stream",
     "text": [
      "Early stopping!\n"
     ]
    },
    {
     "name": "stderr",
     "output_type": "stream",
     "text": [
      "Model training:  11%|█         | 54/500 [00:00<00:07, 57.76it/s]\n"
     ]
    },
    {
     "name": "stdout",
     "output_type": "stream",
     "text": [
      "Early stopping!\n"
     ]
    },
    {
     "name": "stderr",
     "output_type": "stream",
     "text": [
      "Model training:  11%|█         | 56/500 [00:01<00:10, 41.26it/s]\n"
     ]
    },
    {
     "name": "stdout",
     "output_type": "stream",
     "text": [
      "Early stopping!\n",
      "model: SGD_INT, dataset: banana,  Mean accuracy 0.8963592176267813\n"
     ]
    },
    {
     "name": "stderr",
     "output_type": "stream",
     "text": [
      "Model training:   2%|▏         | 9/500 [00:00<00:05, 85.71it/s]"
     ]
    },
    {
     "name": "stdout",
     "output_type": "stream",
     "text": [
      "Convergence detected"
     ]
    },
    {
     "name": "stderr",
     "output_type": "stream",
     "text": [
      "Model training:   3%|▎         | 14/500 [00:00<00:05, 83.33it/s]\n"
     ]
    },
    {
     "name": "stdout",
     "output_type": "stream",
     "text": [
      "\n"
     ]
    },
    {
     "name": "stderr",
     "output_type": "stream",
     "text": [
      "Model training:   3%|▎         | 14/500 [00:00<00:20, 23.81it/s]\n"
     ]
    },
    {
     "name": "stdout",
     "output_type": "stream",
     "text": [
      "Convergence detected\n"
     ]
    },
    {
     "name": "stderr",
     "output_type": "stream",
     "text": [
      "Model training:   3%|▎         | 14/500 [00:00<00:06, 77.34it/s]\n"
     ]
    },
    {
     "name": "stdout",
     "output_type": "stream",
     "text": [
      "Convergence detected\n"
     ]
    },
    {
     "name": "stderr",
     "output_type": "stream",
     "text": [
      "Model training:   2%|▏         | 9/500 [00:00<00:05, 84.91it/s]"
     ]
    },
    {
     "name": "stdout",
     "output_type": "stream",
     "text": [
      "Convergence detected"
     ]
    },
    {
     "name": "stderr",
     "output_type": "stream",
     "text": [
      "Model training:   3%|▎         | 14/500 [00:00<00:05, 82.36it/s]\n"
     ]
    },
    {
     "name": "stdout",
     "output_type": "stream",
     "text": [
      "\n"
     ]
    },
    {
     "name": "stderr",
     "output_type": "stream",
     "text": [
      "Model training:   3%|▎         | 14/500 [00:00<00:06, 72.54it/s]\n"
     ]
    },
    {
     "name": "stdout",
     "output_type": "stream",
     "text": [
      "Convergence detected\n"
     ]
    },
    {
     "name": "stderr",
     "output_type": "stream",
     "text": [
      "Model training:   3%|▎         | 14/500 [00:00<00:06, 71.43it/s]\n"
     ]
    },
    {
     "name": "stdout",
     "output_type": "stream",
     "text": [
      "Convergence detected\n"
     ]
    },
    {
     "name": "stderr",
     "output_type": "stream",
     "text": [
      "Model training:   2%|▏         | 8/500 [00:00<00:06, 78.43it/s]"
     ]
    },
    {
     "name": "stdout",
     "output_type": "stream",
     "text": [
      "Convergence detected"
     ]
    },
    {
     "name": "stderr",
     "output_type": "stream",
     "text": [
      "Model training:   3%|▎         | 14/500 [00:00<00:06, 80.00it/s]\n"
     ]
    },
    {
     "name": "stdout",
     "output_type": "stream",
     "text": [
      "\n"
     ]
    },
    {
     "name": "stderr",
     "output_type": "stream",
     "text": [
      "Model training:   3%|▎         | 14/500 [00:00<00:07, 68.29it/s]\n"
     ]
    },
    {
     "name": "stdout",
     "output_type": "stream",
     "text": [
      "Convergence detected\n"
     ]
    },
    {
     "name": "stderr",
     "output_type": "stream",
     "text": [
      "Model training:   2%|▏         | 8/500 [00:00<00:06, 79.18it/s]"
     ]
    },
    {
     "name": "stdout",
     "output_type": "stream",
     "text": [
      "Convergence detected"
     ]
    },
    {
     "name": "stderr",
     "output_type": "stream",
     "text": [
      "Model training:   3%|▎         | 14/500 [00:00<00:05, 81.62it/s]\n"
     ]
    },
    {
     "name": "stdout",
     "output_type": "stream",
     "text": [
      "\n"
     ]
    },
    {
     "name": "stderr",
     "output_type": "stream",
     "text": [
      "Model training:   3%|▎         | 14/500 [00:00<00:07, 68.29it/s]\n"
     ]
    },
    {
     "name": "stdout",
     "output_type": "stream",
     "text": [
      "Convergence detected\n",
      "model: IWLS, dataset: banana,  Mean accuracy 0.8511731556100977\n"
     ]
    },
    {
     "name": "stderr",
     "output_type": "stream",
     "text": [
      "Model training:   3%|▎         | 17/500 [00:00<00:15, 32.14it/s]\n"
     ]
    },
    {
     "name": "stdout",
     "output_type": "stream",
     "text": [
      "Convergence detected\n"
     ]
    },
    {
     "name": "stderr",
     "output_type": "stream",
     "text": [
      "Model training:   3%|▎         | 16/500 [00:00<00:06, 71.06it/s]\n"
     ]
    },
    {
     "name": "stdout",
     "output_type": "stream",
     "text": [
      "Convergence detected\n"
     ]
    },
    {
     "name": "stderr",
     "output_type": "stream",
     "text": [
      "Model training:   3%|▎         | 16/500 [00:00<00:06, 70.80it/s]\n"
     ]
    },
    {
     "name": "stdout",
     "output_type": "stream",
     "text": [
      "Convergence detected\n"
     ]
    },
    {
     "name": "stderr",
     "output_type": "stream",
     "text": [
      "Model training:   3%|▎         | 16/500 [00:00<00:07, 62.99it/s]\n"
     ]
    },
    {
     "name": "stdout",
     "output_type": "stream",
     "text": [
      "Convergence detected\n"
     ]
    },
    {
     "name": "stderr",
     "output_type": "stream",
     "text": [
      "Model training:   3%|▎         | 16/500 [00:00<00:06, 71.58it/s]\n"
     ]
    },
    {
     "name": "stdout",
     "output_type": "stream",
     "text": [
      "Convergence detected\n"
     ]
    },
    {
     "name": "stderr",
     "output_type": "stream",
     "text": [
      "Model training:   3%|▎         | 16/500 [00:00<00:06, 72.07it/s]\n"
     ]
    },
    {
     "name": "stdout",
     "output_type": "stream",
     "text": [
      "Convergence detected\n"
     ]
    },
    {
     "name": "stderr",
     "output_type": "stream",
     "text": [
      "Model training:   3%|▎         | 16/500 [00:00<00:07, 64.37it/s]\n"
     ]
    },
    {
     "name": "stdout",
     "output_type": "stream",
     "text": [
      "Convergence detected\n"
     ]
    },
    {
     "name": "stderr",
     "output_type": "stream",
     "text": [
      "Model training:   3%|▎         | 16/500 [00:00<00:08, 54.05it/s]\n"
     ]
    },
    {
     "name": "stdout",
     "output_type": "stream",
     "text": [
      "Convergence detected\n"
     ]
    },
    {
     "name": "stderr",
     "output_type": "stream",
     "text": [
      "Model training:   3%|▎         | 17/500 [00:00<00:06, 71.87it/s]\n"
     ]
    },
    {
     "name": "stdout",
     "output_type": "stream",
     "text": [
      "Convergence detected\n"
     ]
    },
    {
     "name": "stderr",
     "output_type": "stream",
     "text": [
      "Model training:   3%|▎         | 17/500 [00:00<00:14, 32.57it/s]\n"
     ]
    },
    {
     "name": "stdout",
     "output_type": "stream",
     "text": [
      "Convergence detected\n",
      "model: IWLS_INT, dataset: banana,  Mean accuracy 0.92976566862744\n"
     ]
    },
    {
     "name": "stderr",
     "output_type": "stream",
     "text": [
      "Model training: 100%|██████████| 500/500 [00:01<00:00, 407.42it/s]\n",
      "Model training:  10%|█         | 50/500 [00:00<00:01, 403.66it/s]\n"
     ]
    },
    {
     "name": "stdout",
     "output_type": "stream",
     "text": [
      "Early stopping!\n"
     ]
    },
    {
     "name": "stderr",
     "output_type": "stream",
     "text": [
      "Model training: 100%|██████████| 500/500 [00:01<00:00, 436.04it/s]\n",
      "Model training:  10%|█         | 50/500 [00:00<00:01, 400.01it/s]\n"
     ]
    },
    {
     "name": "stdout",
     "output_type": "stream",
     "text": [
      "Early stopping!\n"
     ]
    },
    {
     "name": "stderr",
     "output_type": "stream",
     "text": [
      "Model training: 100%|██████████| 500/500 [00:01<00:00, 433.40it/s]\n",
      "Model training: 100%|██████████| 500/500 [00:01<00:00, 471.50it/s]\n",
      "Model training: 100%|██████████| 500/500 [00:01<00:00, 388.63it/s]\n",
      "Model training: 100%|██████████| 500/500 [00:01<00:00, 464.41it/s]\n",
      "Model training: 100%|██████████| 500/500 [00:01<00:00, 409.46it/s]\n",
      "Model training: 100%|██████████| 500/500 [00:01<00:00, 449.69it/s]\n"
     ]
    },
    {
     "name": "stdout",
     "output_type": "stream",
     "text": [
      "model: Adam, dataset: banana,  Mean accuracy 0.8554907679580367\n"
     ]
    },
    {
     "name": "stderr",
     "output_type": "stream",
     "text": [
      "Model training:  53%|█████▎    | 263/500 [00:00<00:00, 344.94it/s]\n"
     ]
    },
    {
     "name": "stdout",
     "output_type": "stream",
     "text": [
      "Early stopping!\n"
     ]
    },
    {
     "name": "stderr",
     "output_type": "stream",
     "text": [
      "Model training: 100%|██████████| 500/500 [00:01<00:00, 281.32it/s]\n",
      "Model training: 100%|██████████| 500/500 [00:01<00:00, 342.00it/s]\n",
      "Model training: 100%|██████████| 500/500 [00:01<00:00, 363.61it/s]\n",
      "Model training: 100%|██████████| 500/500 [00:01<00:00, 364.49it/s]\n",
      "Model training:  65%|██████▍   | 324/500 [00:01<00:00, 311.27it/s]\n"
     ]
    },
    {
     "name": "stdout",
     "output_type": "stream",
     "text": [
      "Early stopping!\n"
     ]
    },
    {
     "name": "stderr",
     "output_type": "stream",
     "text": [
      "Model training:  92%|█████████▏| 459/500 [00:01<00:00, 303.43it/s]\n"
     ]
    },
    {
     "name": "stdout",
     "output_type": "stream",
     "text": [
      "Early stopping!\n"
     ]
    },
    {
     "name": "stderr",
     "output_type": "stream",
     "text": [
      "Model training: 100%|██████████| 500/500 [00:01<00:00, 314.30it/s]\n",
      "Model training: 100%|██████████| 500/500 [00:01<00:00, 303.41it/s]\n",
      "Model training: 100%|██████████| 500/500 [00:01<00:00, 374.98it/s]\n"
     ]
    },
    {
     "name": "stdout",
     "output_type": "stream",
     "text": [
      "model: Adam_INT, dataset: banana,  Mean accuracy 0.9331246379460756\n",
      "model: LDA, dataset: banana,  Mean accuracy 0.8570695634187088\n",
      "model: QDA, dataset: banana,  Mean accuracy 0.9118431356846047\n",
      "model: RandomForest, dataset: banana,  Mean accuracy 0.9445105685365502\n",
      "model: DecisionTree, dataset: banana,  Mean accuracy 0.8786841227271129\n"
     ]
    },
    {
     "name": "stderr",
     "output_type": "stream",
     "text": [
      "Model training:  18%|█▊        | 88/500 [00:01<00:05, 75.56it/s]\n"
     ]
    },
    {
     "name": "stdout",
     "output_type": "stream",
     "text": [
      "Early stopping!\n"
     ]
    },
    {
     "name": "stderr",
     "output_type": "stream",
     "text": [
      "Model training:  18%|█▊        | 92/500 [00:01<00:05, 76.78it/s]\n"
     ]
    },
    {
     "name": "stdout",
     "output_type": "stream",
     "text": [
      "Early stopping!\n"
     ]
    },
    {
     "name": "stderr",
     "output_type": "stream",
     "text": [
      "Model training:  69%|██████▉   | 347/500 [00:04<00:02, 74.21it/s]\n"
     ]
    },
    {
     "name": "stdout",
     "output_type": "stream",
     "text": [
      "Early stopping!\n"
     ]
    },
    {
     "name": "stderr",
     "output_type": "stream",
     "text": [
      "Model training:  18%|█▊        | 92/500 [00:01<00:05, 71.71it/s]\n"
     ]
    },
    {
     "name": "stdout",
     "output_type": "stream",
     "text": [
      "Early stopping!\n"
     ]
    },
    {
     "name": "stderr",
     "output_type": "stream",
     "text": [
      "Model training:  19%|█▉        | 95/500 [00:01<00:06, 65.02it/s]\n"
     ]
    },
    {
     "name": "stdout",
     "output_type": "stream",
     "text": [
      "Early stopping!\n"
     ]
    },
    {
     "name": "stderr",
     "output_type": "stream",
     "text": [
      "Model training:  12%|█▏        | 58/500 [00:00<00:06, 68.06it/s]\n"
     ]
    },
    {
     "name": "stdout",
     "output_type": "stream",
     "text": [
      "Early stopping!\n"
     ]
    },
    {
     "name": "stderr",
     "output_type": "stream",
     "text": [
      "Model training:  11%|█         | 56/500 [00:00<00:07, 62.78it/s]\n"
     ]
    },
    {
     "name": "stdout",
     "output_type": "stream",
     "text": [
      "Early stopping!\n"
     ]
    },
    {
     "name": "stderr",
     "output_type": "stream",
     "text": [
      "Model training:  21%|██        | 105/500 [00:01<00:07, 52.96it/s]\n"
     ]
    },
    {
     "name": "stdout",
     "output_type": "stream",
     "text": [
      "Early stopping!\n"
     ]
    },
    {
     "name": "stderr",
     "output_type": "stream",
     "text": [
      "Model training:  22%|██▏       | 108/500 [00:01<00:05, 76.04it/s]\n"
     ]
    },
    {
     "name": "stdout",
     "output_type": "stream",
     "text": [
      "Early stopping!\n"
     ]
    },
    {
     "name": "stderr",
     "output_type": "stream",
     "text": [
      "Model training:  18%|█▊        | 90/500 [00:01<00:06, 61.45it/s]\n"
     ]
    },
    {
     "name": "stdout",
     "output_type": "stream",
     "text": [
      "Early stopping!\n",
      "model: SGD, dataset: magic_telescope,  Mean accuracy 0.7190375120066801\n"
     ]
    },
    {
     "name": "stderr",
     "output_type": "stream",
     "text": [
      "Model training:  17%|█▋        | 87/500 [00:01<00:05, 75.07it/s]\n"
     ]
    },
    {
     "name": "stdout",
     "output_type": "stream",
     "text": [
      "Early stopping!\n"
     ]
    },
    {
     "name": "stderr",
     "output_type": "stream",
     "text": [
      "Model training:  17%|█▋        | 86/500 [00:01<00:05, 74.14it/s]\n"
     ]
    },
    {
     "name": "stdout",
     "output_type": "stream",
     "text": [
      "Early stopping!\n"
     ]
    },
    {
     "name": "stderr",
     "output_type": "stream",
     "text": [
      "Model training:  12%|█▏        | 59/500 [00:00<00:06, 67.89it/s]\n"
     ]
    },
    {
     "name": "stdout",
     "output_type": "stream",
     "text": [
      "Early stopping!\n"
     ]
    },
    {
     "name": "stderr",
     "output_type": "stream",
     "text": [
      "Model training:  15%|█▌        | 76/500 [00:01<00:06, 66.09it/s]\n"
     ]
    },
    {
     "name": "stdout",
     "output_type": "stream",
     "text": [
      "Early stopping!\n"
     ]
    },
    {
     "name": "stderr",
     "output_type": "stream",
     "text": [
      "Model training:  19%|█▉        | 94/500 [00:01<00:06, 61.34it/s]\n"
     ]
    },
    {
     "name": "stdout",
     "output_type": "stream",
     "text": [
      "Early stopping!\n"
     ]
    },
    {
     "name": "stderr",
     "output_type": "stream",
     "text": [
      "Model training:  17%|█▋        | 84/500 [00:01<00:06, 68.47it/s]\n"
     ]
    },
    {
     "name": "stdout",
     "output_type": "stream",
     "text": [
      "Early stopping!\n"
     ]
    },
    {
     "name": "stderr",
     "output_type": "stream",
     "text": [
      "Model training:  30%|███       | 151/500 [00:02<00:04, 74.89it/s]\n"
     ]
    },
    {
     "name": "stdout",
     "output_type": "stream",
     "text": [
      "Early stopping!\n"
     ]
    },
    {
     "name": "stderr",
     "output_type": "stream",
     "text": [
      "Model training:  17%|█▋        | 84/500 [00:01<00:05, 73.63it/s]\n"
     ]
    },
    {
     "name": "stdout",
     "output_type": "stream",
     "text": [
      "Early stopping!\n"
     ]
    },
    {
     "name": "stderr",
     "output_type": "stream",
     "text": [
      "Model training:  15%|█▍        | 73/500 [00:01<00:07, 56.28it/s]\n"
     ]
    },
    {
     "name": "stdout",
     "output_type": "stream",
     "text": [
      "Early stopping!\n"
     ]
    },
    {
     "name": "stderr",
     "output_type": "stream",
     "text": [
      "Model training:  15%|█▌        | 77/500 [00:01<00:06, 68.54it/s]\n"
     ]
    },
    {
     "name": "stdout",
     "output_type": "stream",
     "text": [
      "Early stopping!\n",
      "model: SGD_INT, dataset: magic_telescope,  Mean accuracy 0.7225467076513057\n"
     ]
    },
    {
     "name": "stderr",
     "output_type": "stream",
     "text": [
      "Model training:   3%|▎         | 14/500 [00:00<00:04, 97.90it/s] \n"
     ]
    },
    {
     "name": "stdout",
     "output_type": "stream",
     "text": [
      "Convergence detected\n"
     ]
    },
    {
     "name": "stderr",
     "output_type": "stream",
     "text": [
      "Model training:   3%|▎         | 14/500 [00:00<00:05, 93.34it/s]\n"
     ]
    },
    {
     "name": "stdout",
     "output_type": "stream",
     "text": [
      "Convergence detected\n"
     ]
    },
    {
     "name": "stderr",
     "output_type": "stream",
     "text": [
      "Model training:   3%|▎         | 14/500 [00:00<00:05, 85.89it/s]\n"
     ]
    },
    {
     "name": "stdout",
     "output_type": "stream",
     "text": [
      "Convergence detected\n"
     ]
    },
    {
     "name": "stderr",
     "output_type": "stream",
     "text": [
      "Model training:   3%|▎         | 14/500 [00:00<00:05, 86.42it/s]"
     ]
    },
    {
     "name": "stdout",
     "output_type": "stream",
     "text": [
      "Convergence detected\n"
     ]
    },
    {
     "name": "stderr",
     "output_type": "stream",
     "text": [
      "\n",
      "Model training:   1%|▏         | 7/500 [00:00<00:07, 64.81it/s]"
     ]
    },
    {
     "name": "stdout",
     "output_type": "stream",
     "text": [
      "Convergence detected"
     ]
    },
    {
     "name": "stderr",
     "output_type": "stream",
     "text": [
      "Model training:   3%|▎         | 14/500 [00:00<00:06, 77.35it/s]\n"
     ]
    },
    {
     "name": "stdout",
     "output_type": "stream",
     "text": [
      "\n"
     ]
    },
    {
     "name": "stderr",
     "output_type": "stream",
     "text": [
      "Model training:   3%|▎         | 14/500 [00:00<00:05, 88.05it/s]"
     ]
    },
    {
     "name": "stdout",
     "output_type": "stream",
     "text": [
      "Convergence detected\n"
     ]
    },
    {
     "name": "stderr",
     "output_type": "stream",
     "text": [
      "\n",
      "Model training:   3%|▎         | 14/500 [00:00<00:17, 27.78it/s]\n"
     ]
    },
    {
     "name": "stdout",
     "output_type": "stream",
     "text": [
      "Convergence detected\n"
     ]
    },
    {
     "name": "stderr",
     "output_type": "stream",
     "text": [
      "Model training:   3%|▎         | 14/500 [00:00<00:04, 97.22it/s] \n"
     ]
    },
    {
     "name": "stdout",
     "output_type": "stream",
     "text": [
      "Convergence detected\n"
     ]
    },
    {
     "name": "stderr",
     "output_type": "stream",
     "text": [
      "Model training:   2%|▏         | 8/500 [00:00<00:07, 69.12it/s]"
     ]
    },
    {
     "name": "stdout",
     "output_type": "stream",
     "text": [
      "Convergence detected"
     ]
    },
    {
     "name": "stderr",
     "output_type": "stream",
     "text": [
      "Model training:   3%|▎         | 14/500 [00:00<00:06, 75.38it/s]\n"
     ]
    },
    {
     "name": "stdout",
     "output_type": "stream",
     "text": [
      "\n"
     ]
    },
    {
     "name": "stderr",
     "output_type": "stream",
     "text": [
      "Model training:   2%|▏         | 9/500 [00:00<00:05, 84.11it/s]"
     ]
    },
    {
     "name": "stdout",
     "output_type": "stream",
     "text": [
      "Convergence detected\n"
     ]
    },
    {
     "name": "stderr",
     "output_type": "stream",
     "text": [
      "Model training:   3%|▎         | 14/500 [00:00<00:06, 76.50it/s]\n"
     ]
    },
    {
     "name": "stdout",
     "output_type": "stream",
     "text": [
      "model: IWLS, dataset: magic_telescope,  Mean accuracy 0.7402463330682675\n"
     ]
    },
    {
     "name": "stderr",
     "output_type": "stream",
     "text": [
      "Model training:   4%|▎         | 18/500 [00:00<00:06, 71.71it/s]\n"
     ]
    },
    {
     "name": "stdout",
     "output_type": "stream",
     "text": [
      "Convergence detected\n"
     ]
    },
    {
     "name": "stderr",
     "output_type": "stream",
     "text": [
      "Model training:   4%|▍         | 19/500 [00:00<00:05, 93.60it/s]\n"
     ]
    },
    {
     "name": "stdout",
     "output_type": "stream",
     "text": [
      "Convergence detected\n"
     ]
    },
    {
     "name": "stderr",
     "output_type": "stream",
     "text": [
      "Model training:   4%|▍         | 19/500 [00:00<00:06, 72.19it/s]\n"
     ]
    },
    {
     "name": "stdout",
     "output_type": "stream",
     "text": [
      "Convergence detected\n"
     ]
    },
    {
     "name": "stderr",
     "output_type": "stream",
     "text": [
      "Model training:   4%|▍         | 19/500 [00:00<00:05, 91.35it/s]\n"
     ]
    },
    {
     "name": "stdout",
     "output_type": "stream",
     "text": [
      "Convergence detected\n"
     ]
    },
    {
     "name": "stderr",
     "output_type": "stream",
     "text": [
      "Model training:   4%|▍         | 19/500 [00:00<00:05, 81.20it/s]\n"
     ]
    },
    {
     "name": "stdout",
     "output_type": "stream",
     "text": [
      "Convergence detected\n"
     ]
    },
    {
     "name": "stderr",
     "output_type": "stream",
     "text": [
      "Model training:   4%|▍         | 19/500 [00:00<00:14, 33.48it/s]\n"
     ]
    },
    {
     "name": "stdout",
     "output_type": "stream",
     "text": [
      "Convergence detected\n"
     ]
    },
    {
     "name": "stderr",
     "output_type": "stream",
     "text": [
      "Model training:   4%|▍         | 19/500 [00:00<00:05, 95.96it/s]\n"
     ]
    },
    {
     "name": "stdout",
     "output_type": "stream",
     "text": [
      "Convergence detected\n"
     ]
    },
    {
     "name": "stderr",
     "output_type": "stream",
     "text": [
      "Model training:   4%|▍         | 19/500 [00:00<00:05, 88.37it/s]\n"
     ]
    },
    {
     "name": "stdout",
     "output_type": "stream",
     "text": [
      "Convergence detected\n"
     ]
    },
    {
     "name": "stderr",
     "output_type": "stream",
     "text": [
      "Model training:   4%|▍         | 19/500 [00:00<00:05, 86.37it/s]\n"
     ]
    },
    {
     "name": "stdout",
     "output_type": "stream",
     "text": [
      "Convergence detected\n"
     ]
    },
    {
     "name": "stderr",
     "output_type": "stream",
     "text": [
      "Model training:   4%|▍         | 19/500 [00:00<00:05, 84.92it/s]\n"
     ]
    },
    {
     "name": "stdout",
     "output_type": "stream",
     "text": [
      "Convergence detected\n",
      "model: IWLS_INT, dataset: magic_telescope,  Mean accuracy 0.7558372746647819\n"
     ]
    },
    {
     "name": "stderr",
     "output_type": "stream",
     "text": [
      "Model training: 100%|██████████| 500/500 [00:01<00:00, 456.97it/s]\n",
      "Model training: 100%|██████████| 500/500 [00:01<00:00, 494.90it/s]\n",
      "Model training: 100%|██████████| 500/500 [00:01<00:00, 472.32it/s]\n",
      "Model training: 100%|██████████| 500/500 [00:01<00:00, 405.24it/s]\n",
      "Model training: 100%|██████████| 500/500 [00:01<00:00, 490.74it/s]\n",
      "Model training: 100%|██████████| 500/500 [00:00<00:00, 502.30it/s]\n",
      "Model training: 100%|██████████| 500/500 [00:01<00:00, 488.10it/s]\n",
      "Model training: 100%|██████████| 500/500 [00:01<00:00, 370.24it/s]\n",
      "Model training: 100%|██████████| 500/500 [00:01<00:00, 422.64it/s]\n",
      "Model training: 100%|██████████| 500/500 [00:01<00:00, 357.88it/s]\n"
     ]
    },
    {
     "name": "stdout",
     "output_type": "stream",
     "text": [
      "model: Adam, dataset: magic_telescope,  Mean accuracy 0.7067293459684042\n"
     ]
    },
    {
     "name": "stderr",
     "output_type": "stream",
     "text": [
      "Model training: 100%|██████████| 500/500 [00:01<00:00, 348.52it/s]\n",
      "Model training: 100%|██████████| 500/500 [00:01<00:00, 384.98it/s]\n",
      "Model training: 100%|██████████| 500/500 [00:01<00:00, 394.01it/s]\n",
      "Model training: 100%|██████████| 500/500 [00:01<00:00, 394.28it/s]\n",
      "Model training: 100%|██████████| 500/500 [00:01<00:00, 273.56it/s]\n",
      "Model training: 100%|██████████| 500/500 [00:01<00:00, 300.36it/s]\n",
      "Model training: 100%|██████████| 500/500 [00:01<00:00, 315.55it/s]\n",
      "Model training: 100%|██████████| 500/500 [00:01<00:00, 341.02it/s]\n",
      "Model training: 100%|██████████| 500/500 [00:01<00:00, 287.47it/s]\n",
      "Model training: 100%|██████████| 500/500 [00:01<00:00, 376.80it/s]\n"
     ]
    },
    {
     "name": "stdout",
     "output_type": "stream",
     "text": [
      "model: Adam_INT, dataset: magic_telescope,  Mean accuracy 0.7019265445921303\n",
      "model: LDA, dataset: magic_telescope,  Mean accuracy 0.7051050329142218\n",
      "model: QDA, dataset: magic_telescope,  Mean accuracy 0.7317827433612349\n",
      "model: RandomForest, dataset: magic_telescope,  Mean accuracy 0.7635290162464881\n",
      "model: DecisionTree, dataset: magic_telescope,  Mean accuracy 0.7315445034792218\n"
     ]
    },
    {
     "name": "stderr",
     "output_type": "stream",
     "text": [
      "Model training:  10%|█         | 50/500 [00:00<00:03, 131.93it/s]\n"
     ]
    },
    {
     "name": "stdout",
     "output_type": "stream",
     "text": [
      "Early stopping!\n"
     ]
    },
    {
     "name": "stderr",
     "output_type": "stream",
     "text": [
      "Model training:  11%|█         | 55/500 [00:00<00:03, 124.01it/s]\n"
     ]
    },
    {
     "name": "stdout",
     "output_type": "stream",
     "text": [
      "Early stopping!\n"
     ]
    },
    {
     "name": "stderr",
     "output_type": "stream",
     "text": [
      "Model training:  11%|█         | 53/500 [00:00<00:06, 73.91it/s] \n"
     ]
    },
    {
     "name": "stdout",
     "output_type": "stream",
     "text": [
      "Early stopping!\n"
     ]
    },
    {
     "name": "stderr",
     "output_type": "stream",
     "text": [
      "Model training:  11%|█         | 54/500 [00:00<00:03, 133.99it/s]\n"
     ]
    },
    {
     "name": "stdout",
     "output_type": "stream",
     "text": [
      "Early stopping!\n"
     ]
    },
    {
     "name": "stderr",
     "output_type": "stream",
     "text": [
      "Model training:  11%|█         | 55/500 [00:00<00:04, 103.19it/s]\n"
     ]
    },
    {
     "name": "stdout",
     "output_type": "stream",
     "text": [
      "Early stopping!\n"
     ]
    },
    {
     "name": "stderr",
     "output_type": "stream",
     "text": [
      "Model training:  11%|█         | 53/500 [00:00<00:03, 117.38it/s]\n"
     ]
    },
    {
     "name": "stdout",
     "output_type": "stream",
     "text": [
      "Early stopping!\n"
     ]
    },
    {
     "name": "stderr",
     "output_type": "stream",
     "text": [
      "Model training:  11%|█         | 55/500 [00:00<00:03, 144.53it/s]\n"
     ]
    },
    {
     "name": "stdout",
     "output_type": "stream",
     "text": [
      "Early stopping!\n"
     ]
    },
    {
     "name": "stderr",
     "output_type": "stream",
     "text": [
      "Model training:  15%|█▍        | 73/500 [00:00<00:03, 132.96it/s]\n"
     ]
    },
    {
     "name": "stdout",
     "output_type": "stream",
     "text": [
      "Early stopping!\n"
     ]
    },
    {
     "name": "stderr",
     "output_type": "stream",
     "text": [
      "Model training:  13%|█▎        | 66/500 [00:00<00:02, 152.78it/s]\n"
     ]
    },
    {
     "name": "stdout",
     "output_type": "stream",
     "text": [
      "Early stopping!\n"
     ]
    },
    {
     "name": "stderr",
     "output_type": "stream",
     "text": [
      "Model training:  11%|█         | 54/500 [00:00<00:06, 65.33it/s]\n"
     ]
    },
    {
     "name": "stdout",
     "output_type": "stream",
     "text": [
      "Early stopping!\n",
      "model: SGD, dataset: penguins,  Mean accuracy 0.8876099190688856\n"
     ]
    },
    {
     "name": "stderr",
     "output_type": "stream",
     "text": [
      "Model training:  11%|█         | 53/500 [00:00<00:05, 86.91it/s] \n"
     ]
    },
    {
     "name": "stdout",
     "output_type": "stream",
     "text": [
      "Early stopping!\n"
     ]
    },
    {
     "name": "stderr",
     "output_type": "stream",
     "text": [
      "Model training: 100%|██████████| 500/500 [00:02<00:00, 167.25it/s]\n",
      "Model training:  10%|█         | 52/500 [00:00<00:02, 177.88it/s]\n"
     ]
    },
    {
     "name": "stdout",
     "output_type": "stream",
     "text": [
      "Early stopping!\n"
     ]
    },
    {
     "name": "stderr",
     "output_type": "stream",
     "text": [
      "Model training:  12%|█▏        | 62/500 [00:00<00:05, 83.56it/s] \n"
     ]
    },
    {
     "name": "stdout",
     "output_type": "stream",
     "text": [
      "Early stopping!\n"
     ]
    },
    {
     "name": "stderr",
     "output_type": "stream",
     "text": [
      "Model training:  12%|█▏        | 58/500 [00:00<00:03, 147.21it/s]\n"
     ]
    },
    {
     "name": "stdout",
     "output_type": "stream",
     "text": [
      "Early stopping!\n"
     ]
    },
    {
     "name": "stderr",
     "output_type": "stream",
     "text": [
      "Model training:  40%|████      | 202/500 [00:01<00:02, 142.79it/s]\n"
     ]
    },
    {
     "name": "stdout",
     "output_type": "stream",
     "text": [
      "Early stopping!\n"
     ]
    },
    {
     "name": "stderr",
     "output_type": "stream",
     "text": [
      "Model training: 100%|██████████| 500/500 [00:02<00:00, 181.83it/s]\n",
      "Model training:  10%|█         | 50/500 [00:00<00:03, 113.70it/s]\n"
     ]
    },
    {
     "name": "stdout",
     "output_type": "stream",
     "text": [
      "Early stopping!\n"
     ]
    },
    {
     "name": "stderr",
     "output_type": "stream",
     "text": [
      "Model training:  11%|█         | 55/500 [00:00<00:03, 131.58it/s]\n"
     ]
    },
    {
     "name": "stdout",
     "output_type": "stream",
     "text": [
      "Early stopping!\n"
     ]
    },
    {
     "name": "stderr",
     "output_type": "stream",
     "text": [
      "Model training:  10%|█         | 52/500 [00:00<00:05, 89.16it/s] \n"
     ]
    },
    {
     "name": "stdout",
     "output_type": "stream",
     "text": [
      "Early stopping!\n",
      "model: SGD_INT, dataset: penguins,  Mean accuracy 0.9212738619966997\n"
     ]
    },
    {
     "name": "stderr",
     "output_type": "stream",
     "text": [
      "Model training:   0%|          | 0/500 [00:00<?, ?it/s]c:\\Users\\user\\Documents\\GitHub\\Advanced-Machine-Learning\\project_1\\utils.py:14: RuntimeWarning: overflow encountered in exp\n",
      "  return -1*(y @ (coef @ X.T + intercept) - np.sum(np.log(1 + np.exp(-1*(coef @ X.T + intercept)))))\n",
      "c:\\Users\\user\\Documents\\GitHub\\Advanced-Machine-Learning\\project_1\\utils.py:17: RuntimeWarning: divide by zero encountered in true_divide\n",
      "  return np.log(a/(1-a))\n",
      "c:\\Users\\user\\Documents\\GitHub\\Advanced-Machine-Learning\\project_1\\utils.py:17: RuntimeWarning: divide by zero encountered in log\n",
      "  return np.log(a/(1-a))\n",
      "c:\\Users\\user\\Documents\\GitHub\\Advanced-Machine-Learning\\project_1\\utils.py:20: RuntimeWarning: divide by zero encountered in true_divide\n",
      "  return 1/(a*(1-a))\n",
      "c:\\Users\\user\\Documents\\GitHub\\Advanced-Machine-Learning\\project_1\\optimizers.py:116: RuntimeWarning: invalid value encountered in multiply\n",
      "  W = np.diag(1 / (logit_derivative(p)**2 * p*(1-p)))\n",
      "Model training:  10%|█         | 50/500 [00:00<00:01, 271.74it/s]\n"
     ]
    },
    {
     "name": "stdout",
     "output_type": "stream",
     "text": [
      "Early stopping!\n"
     ]
    },
    {
     "name": "stderr",
     "output_type": "stream",
     "text": [
      "Model training:   0%|          | 0/500 [00:00<?, ?it/s]c:\\Users\\user\\Documents\\GitHub\\Advanced-Machine-Learning\\project_1\\utils.py:17: RuntimeWarning: divide by zero encountered in true_divide\n",
      "  return np.log(a/(1-a))\n",
      "c:\\Users\\user\\Documents\\GitHub\\Advanced-Machine-Learning\\project_1\\utils.py:20: RuntimeWarning: divide by zero encountered in true_divide\n",
      "  return 1/(a*(1-a))\n",
      "c:\\Users\\user\\Documents\\GitHub\\Advanced-Machine-Learning\\project_1\\optimizers.py:116: RuntimeWarning: overflow encountered in square\n",
      "  W = np.diag(1 / (logit_derivative(p)**2 * p*(1-p)))\n",
      "c:\\Users\\user\\Documents\\GitHub\\Advanced-Machine-Learning\\project_1\\optimizers.py:116: RuntimeWarning: invalid value encountered in multiply\n",
      "  W = np.diag(1 / (logit_derivative(p)**2 * p*(1-p)))\n",
      "Model training:  11%|█         | 55/500 [00:00<00:05, 87.07it/s] \n"
     ]
    },
    {
     "name": "stdout",
     "output_type": "stream",
     "text": [
      "Early stopping!\n"
     ]
    },
    {
     "name": "stderr",
     "output_type": "stream",
     "text": [
      "Model training:   0%|          | 0/500 [00:00<?, ?it/s]c:\\Users\\user\\Documents\\GitHub\\Advanced-Machine-Learning\\project_1\\utils.py:17: RuntimeWarning: divide by zero encountered in true_divide\n",
      "  return np.log(a/(1-a))\n",
      "c:\\Users\\user\\Documents\\GitHub\\Advanced-Machine-Learning\\project_1\\utils.py:20: RuntimeWarning: divide by zero encountered in true_divide\n",
      "  return 1/(a*(1-a))\n",
      "c:\\Users\\user\\Documents\\GitHub\\Advanced-Machine-Learning\\project_1\\optimizers.py:116: RuntimeWarning: invalid value encountered in multiply\n",
      "  W = np.diag(1 / (logit_derivative(p)**2 * p*(1-p)))\n",
      "Model training:  11%|█         | 54/500 [00:00<00:01, 296.70it/s]\n"
     ]
    },
    {
     "name": "stdout",
     "output_type": "stream",
     "text": [
      "Early stopping!\n"
     ]
    },
    {
     "name": "stderr",
     "output_type": "stream",
     "text": [
      "Model training:   0%|          | 0/500 [00:00<?, ?it/s]c:\\Users\\user\\Documents\\GitHub\\Advanced-Machine-Learning\\project_1\\utils.py:14: RuntimeWarning: overflow encountered in exp\n",
      "  return -1*(y @ (coef @ X.T + intercept) - np.sum(np.log(1 + np.exp(-1*(coef @ X.T + intercept)))))\n",
      "c:\\Users\\user\\Documents\\GitHub\\Advanced-Machine-Learning\\project_1\\utils.py:17: RuntimeWarning: divide by zero encountered in true_divide\n",
      "  return np.log(a/(1-a))\n",
      "c:\\Users\\user\\Documents\\GitHub\\Advanced-Machine-Learning\\project_1\\utils.py:17: RuntimeWarning: divide by zero encountered in log\n",
      "  return np.log(a/(1-a))\n",
      "c:\\Users\\user\\Documents\\GitHub\\Advanced-Machine-Learning\\project_1\\utils.py:20: RuntimeWarning: divide by zero encountered in true_divide\n",
      "  return 1/(a*(1-a))\n",
      "c:\\Users\\user\\Documents\\GitHub\\Advanced-Machine-Learning\\project_1\\optimizers.py:116: RuntimeWarning: overflow encountered in square\n",
      "  W = np.diag(1 / (logit_derivative(p)**2 * p*(1-p)))\n",
      "c:\\Users\\user\\Documents\\GitHub\\Advanced-Machine-Learning\\project_1\\optimizers.py:116: RuntimeWarning: invalid value encountered in multiply\n",
      "  W = np.diag(1 / (logit_derivative(p)**2 * p*(1-p)))\n",
      "Model training:   5%|▌         | 25/500 [00:00<00:01, 249.94it/s]"
     ]
    },
    {
     "name": "stdout",
     "output_type": "stream",
     "text": [
      "Early stopping!"
     ]
    },
    {
     "name": "stderr",
     "output_type": "stream",
     "text": [
      "Model training:  10%|█         | 51/500 [00:00<00:01, 269.86it/s]\n"
     ]
    },
    {
     "name": "stdout",
     "output_type": "stream",
     "text": [
      "\n"
     ]
    },
    {
     "name": "stderr",
     "output_type": "stream",
     "text": [
      "Model training:   0%|          | 0/500 [00:00<?, ?it/s]c:\\Users\\user\\Documents\\GitHub\\Advanced-Machine-Learning\\project_1\\utils.py:14: RuntimeWarning: overflow encountered in exp\n",
      "  return -1*(y @ (coef @ X.T + intercept) - np.sum(np.log(1 + np.exp(-1*(coef @ X.T + intercept)))))\n",
      "c:\\Users\\user\\Documents\\GitHub\\Advanced-Machine-Learning\\project_1\\utils.py:17: RuntimeWarning: divide by zero encountered in true_divide\n",
      "  return np.log(a/(1-a))\n",
      "c:\\Users\\user\\Documents\\GitHub\\Advanced-Machine-Learning\\project_1\\utils.py:17: RuntimeWarning: divide by zero encountered in log\n",
      "  return np.log(a/(1-a))\n",
      "c:\\Users\\user\\Documents\\GitHub\\Advanced-Machine-Learning\\project_1\\utils.py:20: RuntimeWarning: divide by zero encountered in true_divide\n",
      "  return 1/(a*(1-a))\n",
      "c:\\Users\\user\\Documents\\GitHub\\Advanced-Machine-Learning\\project_1\\optimizers.py:116: RuntimeWarning: overflow encountered in square\n",
      "  W = np.diag(1 / (logit_derivative(p)**2 * p*(1-p)))\n",
      "c:\\Users\\user\\Documents\\GitHub\\Advanced-Machine-Learning\\project_1\\optimizers.py:116: RuntimeWarning: invalid value encountered in multiply\n",
      "  W = np.diag(1 / (logit_derivative(p)**2 * p*(1-p)))\n",
      "Model training:  10%|█         | 50/500 [00:00<00:01, 378.89it/s]\n"
     ]
    },
    {
     "name": "stdout",
     "output_type": "stream",
     "text": [
      "Early stopping!\n"
     ]
    },
    {
     "name": "stderr",
     "output_type": "stream",
     "text": [
      "Model training:   0%|          | 0/500 [00:00<?, ?it/s]c:\\Users\\user\\Documents\\GitHub\\Advanced-Machine-Learning\\project_1\\utils.py:17: RuntimeWarning: divide by zero encountered in true_divide\n",
      "  return np.log(a/(1-a))\n",
      "c:\\Users\\user\\Documents\\GitHub\\Advanced-Machine-Learning\\project_1\\utils.py:20: RuntimeWarning: divide by zero encountered in true_divide\n",
      "  return 1/(a*(1-a))\n",
      "c:\\Users\\user\\Documents\\GitHub\\Advanced-Machine-Learning\\project_1\\optimizers.py:116: RuntimeWarning: invalid value encountered in multiply\n",
      "  W = np.diag(1 / (logit_derivative(p)**2 * p*(1-p)))\n",
      "Model training:  10%|█         | 50/500 [00:00<00:02, 179.21it/s]\n"
     ]
    },
    {
     "name": "stdout",
     "output_type": "stream",
     "text": [
      "Early stopping!\n"
     ]
    },
    {
     "name": "stderr",
     "output_type": "stream",
     "text": [
      "Model training:   0%|          | 0/500 [00:00<?, ?it/s]c:\\Users\\user\\Documents\\GitHub\\Advanced-Machine-Learning\\project_1\\utils.py:17: RuntimeWarning: divide by zero encountered in true_divide\n",
      "  return np.log(a/(1-a))\n",
      "c:\\Users\\user\\Documents\\GitHub\\Advanced-Machine-Learning\\project_1\\utils.py:20: RuntimeWarning: divide by zero encountered in true_divide\n",
      "  return 1/(a*(1-a))\n",
      "c:\\Users\\user\\Documents\\GitHub\\Advanced-Machine-Learning\\project_1\\optimizers.py:116: RuntimeWarning: invalid value encountered in multiply\n",
      "  W = np.diag(1 / (logit_derivative(p)**2 * p*(1-p)))\n",
      "Model training:  10%|█         | 50/500 [00:00<00:03, 143.68it/s]\n"
     ]
    },
    {
     "name": "stdout",
     "output_type": "stream",
     "text": [
      "Early stopping!\n"
     ]
    },
    {
     "name": "stderr",
     "output_type": "stream",
     "text": [
      "Model training:   0%|          | 0/500 [00:00<?, ?it/s]c:\\Users\\user\\Documents\\GitHub\\Advanced-Machine-Learning\\project_1\\utils.py:14: RuntimeWarning: overflow encountered in exp\n",
      "  return -1*(y @ (coef @ X.T + intercept) - np.sum(np.log(1 + np.exp(-1*(coef @ X.T + intercept)))))\n",
      "c:\\Users\\user\\Documents\\GitHub\\Advanced-Machine-Learning\\project_1\\utils.py:17: RuntimeWarning: divide by zero encountered in true_divide\n",
      "  return np.log(a/(1-a))\n",
      "c:\\Users\\user\\Documents\\GitHub\\Advanced-Machine-Learning\\project_1\\utils.py:17: RuntimeWarning: divide by zero encountered in log\n",
      "  return np.log(a/(1-a))\n",
      "c:\\Users\\user\\Documents\\GitHub\\Advanced-Machine-Learning\\project_1\\utils.py:20: RuntimeWarning: divide by zero encountered in true_divide\n",
      "  return 1/(a*(1-a))\n",
      "c:\\Users\\user\\Documents\\GitHub\\Advanced-Machine-Learning\\project_1\\optimizers.py:116: RuntimeWarning: invalid value encountered in multiply\n",
      "  W = np.diag(1 / (logit_derivative(p)**2 * p*(1-p)))\n",
      "Model training:  10%|█         | 50/500 [00:00<00:02, 193.80it/s]\n"
     ]
    },
    {
     "name": "stdout",
     "output_type": "stream",
     "text": [
      "Early stopping!\n"
     ]
    },
    {
     "name": "stderr",
     "output_type": "stream",
     "text": [
      "Model training:   0%|          | 0/500 [00:00<?, ?it/s]c:\\Users\\user\\Documents\\GitHub\\Advanced-Machine-Learning\\project_1\\utils.py:17: RuntimeWarning: divide by zero encountered in true_divide\n",
      "  return np.log(a/(1-a))\n",
      "c:\\Users\\user\\Documents\\GitHub\\Advanced-Machine-Learning\\project_1\\utils.py:20: RuntimeWarning: divide by zero encountered in true_divide\n",
      "  return 1/(a*(1-a))\n",
      "c:\\Users\\user\\Documents\\GitHub\\Advanced-Machine-Learning\\project_1\\optimizers.py:116: RuntimeWarning: invalid value encountered in multiply\n",
      "  W = np.diag(1 / (logit_derivative(p)**2 * p*(1-p)))\n",
      "Model training:  10%|█         | 50/500 [00:00<00:06, 69.29it/s]\n"
     ]
    },
    {
     "name": "stdout",
     "output_type": "stream",
     "text": [
      "Early stopping!\n"
     ]
    },
    {
     "name": "stderr",
     "output_type": "stream",
     "text": [
      "Model training:   0%|          | 0/500 [00:00<?, ?it/s]c:\\Users\\user\\Documents\\GitHub\\Advanced-Machine-Learning\\project_1\\utils.py:17: RuntimeWarning: divide by zero encountered in true_divide\n",
      "  return np.log(a/(1-a))\n",
      "c:\\Users\\user\\Documents\\GitHub\\Advanced-Machine-Learning\\project_1\\utils.py:20: RuntimeWarning: divide by zero encountered in true_divide\n",
      "  return 1/(a*(1-a))\n",
      "c:\\Users\\user\\Documents\\GitHub\\Advanced-Machine-Learning\\project_1\\optimizers.py:116: RuntimeWarning: invalid value encountered in multiply\n",
      "  W = np.diag(1 / (logit_derivative(p)**2 * p*(1-p)))\n",
      "Model training:  12%|█▏        | 58/500 [00:00<00:03, 119.59it/s]\n"
     ]
    },
    {
     "name": "stdout",
     "output_type": "stream",
     "text": [
      "Early stopping!\n",
      "model: IWLS, dataset: penguins,  Mean accuracy 0.944470483065021\n"
     ]
    },
    {
     "name": "stderr",
     "output_type": "stream",
     "text": [
      "Model training:   0%|          | 0/500 [00:00<?, ?it/s]c:\\Users\\user\\Documents\\GitHub\\Advanced-Machine-Learning\\project_1\\utils.py:17: RuntimeWarning: divide by zero encountered in true_divide\n",
      "  return np.log(a/(1-a))\n",
      "c:\\Users\\user\\Documents\\GitHub\\Advanced-Machine-Learning\\project_1\\utils.py:20: RuntimeWarning: divide by zero encountered in true_divide\n",
      "  return 1/(a*(1-a))\n",
      "c:\\Users\\user\\Documents\\GitHub\\Advanced-Machine-Learning\\project_1\\optimizers.py:116: RuntimeWarning: overflow encountered in square\n",
      "  W = np.diag(1 / (logit_derivative(p)**2 * p*(1-p)))\n",
      "c:\\Users\\user\\Documents\\GitHub\\Advanced-Machine-Learning\\project_1\\optimizers.py:116: RuntimeWarning: invalid value encountered in multiply\n",
      "  W = np.diag(1 / (logit_derivative(p)**2 * p*(1-p)))\n",
      "Model training:  10%|█         | 50/500 [00:00<00:02, 169.49it/s]\n"
     ]
    },
    {
     "name": "stdout",
     "output_type": "stream",
     "text": [
      "Early stopping!\n"
     ]
    },
    {
     "name": "stderr",
     "output_type": "stream",
     "text": [
      "Model training:   0%|          | 0/500 [00:00<?, ?it/s]c:\\Users\\user\\Documents\\GitHub\\Advanced-Machine-Learning\\project_1\\utils.py:14: RuntimeWarning: overflow encountered in exp\n",
      "  return -1*(y @ (coef @ X.T + intercept) - np.sum(np.log(1 + np.exp(-1*(coef @ X.T + intercept)))))\n",
      "c:\\Users\\user\\Documents\\GitHub\\Advanced-Machine-Learning\\project_1\\utils.py:17: RuntimeWarning: divide by zero encountered in true_divide\n",
      "  return np.log(a/(1-a))\n",
      "c:\\Users\\user\\Documents\\GitHub\\Advanced-Machine-Learning\\project_1\\utils.py:17: RuntimeWarning: divide by zero encountered in log\n",
      "  return np.log(a/(1-a))\n",
      "c:\\Users\\user\\Documents\\GitHub\\Advanced-Machine-Learning\\project_1\\utils.py:20: RuntimeWarning: divide by zero encountered in true_divide\n",
      "  return 1/(a*(1-a))\n",
      "c:\\Users\\user\\Documents\\GitHub\\Advanced-Machine-Learning\\project_1\\optimizers.py:116: RuntimeWarning: overflow encountered in square\n",
      "  W = np.diag(1 / (logit_derivative(p)**2 * p*(1-p)))\n",
      "c:\\Users\\user\\Documents\\GitHub\\Advanced-Machine-Learning\\project_1\\optimizers.py:116: RuntimeWarning: invalid value encountered in multiply\n",
      "  W = np.diag(1 / (logit_derivative(p)**2 * p*(1-p)))\n",
      "Model training:  10%|█         | 50/500 [00:00<00:02, 188.68it/s]\n"
     ]
    },
    {
     "name": "stdout",
     "output_type": "stream",
     "text": [
      "Early stopping!\n"
     ]
    },
    {
     "name": "stderr",
     "output_type": "stream",
     "text": [
      "Model training:   0%|          | 0/500 [00:00<?, ?it/s]c:\\Users\\user\\Documents\\GitHub\\Advanced-Machine-Learning\\project_1\\utils.py:14: RuntimeWarning: overflow encountered in exp\n",
      "  return -1*(y @ (coef @ X.T + intercept) - np.sum(np.log(1 + np.exp(-1*(coef @ X.T + intercept)))))\n",
      "c:\\Users\\user\\Documents\\GitHub\\Advanced-Machine-Learning\\project_1\\utils.py:17: RuntimeWarning: divide by zero encountered in true_divide\n",
      "  return np.log(a/(1-a))\n",
      "c:\\Users\\user\\Documents\\GitHub\\Advanced-Machine-Learning\\project_1\\utils.py:17: RuntimeWarning: divide by zero encountered in log\n",
      "  return np.log(a/(1-a))\n",
      "c:\\Users\\user\\Documents\\GitHub\\Advanced-Machine-Learning\\project_1\\utils.py:20: RuntimeWarning: divide by zero encountered in true_divide\n",
      "  return 1/(a*(1-a))\n",
      "c:\\Users\\user\\Documents\\GitHub\\Advanced-Machine-Learning\\project_1\\utils.py:20: RuntimeWarning: overflow encountered in true_divide\n",
      "  return 1/(a*(1-a))\n",
      "c:\\Users\\user\\Documents\\GitHub\\Advanced-Machine-Learning\\project_1\\optimizers.py:116: RuntimeWarning: overflow encountered in square\n",
      "  W = np.diag(1 / (logit_derivative(p)**2 * p*(1-p)))\n",
      "c:\\Users\\user\\Documents\\GitHub\\Advanced-Machine-Learning\\project_1\\optimizers.py:116: RuntimeWarning: invalid value encountered in multiply\n",
      "  W = np.diag(1 / (logit_derivative(p)**2 * p*(1-p)))\n",
      "Model training:  10%|█         | 50/500 [00:00<00:02, 163.93it/s]\n"
     ]
    },
    {
     "name": "stdout",
     "output_type": "stream",
     "text": [
      "Early stopping!\n"
     ]
    },
    {
     "name": "stderr",
     "output_type": "stream",
     "text": [
      "Model training:   0%|          | 0/500 [00:00<?, ?it/s]c:\\Users\\user\\Documents\\GitHub\\Advanced-Machine-Learning\\project_1\\utils.py:14: RuntimeWarning: overflow encountered in exp\n",
      "  return -1*(y @ (coef @ X.T + intercept) - np.sum(np.log(1 + np.exp(-1*(coef @ X.T + intercept)))))\n",
      "c:\\Users\\user\\Documents\\GitHub\\Advanced-Machine-Learning\\project_1\\utils.py:17: RuntimeWarning: divide by zero encountered in true_divide\n",
      "  return np.log(a/(1-a))\n",
      "c:\\Users\\user\\Documents\\GitHub\\Advanced-Machine-Learning\\project_1\\utils.py:20: RuntimeWarning: divide by zero encountered in true_divide\n",
      "  return 1/(a*(1-a))\n",
      "c:\\Users\\user\\Documents\\GitHub\\Advanced-Machine-Learning\\project_1\\optimizers.py:116: RuntimeWarning: invalid value encountered in multiply\n",
      "  W = np.diag(1 / (logit_derivative(p)**2 * p*(1-p)))\n",
      "Model training:  10%|█         | 50/500 [00:00<00:02, 175.01it/s]\n"
     ]
    },
    {
     "name": "stdout",
     "output_type": "stream",
     "text": [
      "Early stopping!\n"
     ]
    },
    {
     "name": "stderr",
     "output_type": "stream",
     "text": [
      "Model training:   0%|          | 1/500 [00:00<02:25,  3.42it/s]c:\\Users\\user\\Documents\\GitHub\\Advanced-Machine-Learning\\project_1\\utils.py:14: RuntimeWarning: overflow encountered in exp\n",
      "  return -1*(y @ (coef @ X.T + intercept) - np.sum(np.log(1 + np.exp(-1*(coef @ X.T + intercept)))))\n",
      "c:\\Users\\user\\Documents\\GitHub\\Advanced-Machine-Learning\\project_1\\utils.py:17: RuntimeWarning: divide by zero encountered in true_divide\n",
      "  return np.log(a/(1-a))\n",
      "c:\\Users\\user\\Documents\\GitHub\\Advanced-Machine-Learning\\project_1\\utils.py:17: RuntimeWarning: divide by zero encountered in log\n",
      "  return np.log(a/(1-a))\n",
      "c:\\Users\\user\\Documents\\GitHub\\Advanced-Machine-Learning\\project_1\\utils.py:20: RuntimeWarning: divide by zero encountered in true_divide\n",
      "  return 1/(a*(1-a))\n",
      "c:\\Users\\user\\Documents\\GitHub\\Advanced-Machine-Learning\\project_1\\optimizers.py:116: RuntimeWarning: overflow encountered in square\n",
      "  W = np.diag(1 / (logit_derivative(p)**2 * p*(1-p)))\n",
      "c:\\Users\\user\\Documents\\GitHub\\Advanced-Machine-Learning\\project_1\\optimizers.py:116: RuntimeWarning: invalid value encountered in multiply\n",
      "  W = np.diag(1 / (logit_derivative(p)**2 * p*(1-p)))\n",
      "Model training:  10%|█         | 51/500 [00:00<00:05, 77.10it/s] \n"
     ]
    },
    {
     "name": "stdout",
     "output_type": "stream",
     "text": [
      "Early stopping!\n"
     ]
    },
    {
     "name": "stderr",
     "output_type": "stream",
     "text": [
      "Model training:   0%|          | 0/500 [00:00<?, ?it/s]c:\\Users\\user\\Documents\\GitHub\\Advanced-Machine-Learning\\project_1\\utils.py:17: RuntimeWarning: divide by zero encountered in true_divide\n",
      "  return np.log(a/(1-a))\n",
      "c:\\Users\\user\\Documents\\GitHub\\Advanced-Machine-Learning\\project_1\\utils.py:20: RuntimeWarning: divide by zero encountered in true_divide\n",
      "  return 1/(a*(1-a))\n",
      "c:\\Users\\user\\Documents\\GitHub\\Advanced-Machine-Learning\\project_1\\optimizers.py:116: RuntimeWarning: invalid value encountered in multiply\n",
      "  W = np.diag(1 / (logit_derivative(p)**2 * p*(1-p)))\n",
      "Model training:  10%|█         | 51/500 [00:00<00:02, 180.21it/s]\n"
     ]
    },
    {
     "name": "stdout",
     "output_type": "stream",
     "text": [
      "Early stopping!\n"
     ]
    },
    {
     "name": "stderr",
     "output_type": "stream",
     "text": [
      "Model training:   0%|          | 0/500 [00:00<?, ?it/s]c:\\Users\\user\\Documents\\GitHub\\Advanced-Machine-Learning\\project_1\\utils.py:14: RuntimeWarning: overflow encountered in exp\n",
      "  return -1*(y @ (coef @ X.T + intercept) - np.sum(np.log(1 + np.exp(-1*(coef @ X.T + intercept)))))\n",
      "c:\\Users\\user\\Documents\\GitHub\\Advanced-Machine-Learning\\project_1\\utils.py:17: RuntimeWarning: divide by zero encountered in true_divide\n",
      "  return np.log(a/(1-a))\n",
      "c:\\Users\\user\\Documents\\GitHub\\Advanced-Machine-Learning\\project_1\\utils.py:17: RuntimeWarning: divide by zero encountered in log\n",
      "  return np.log(a/(1-a))\n",
      "c:\\Users\\user\\Documents\\GitHub\\Advanced-Machine-Learning\\project_1\\utils.py:20: RuntimeWarning: divide by zero encountered in true_divide\n",
      "  return 1/(a*(1-a))\n",
      "c:\\Users\\user\\Documents\\GitHub\\Advanced-Machine-Learning\\project_1\\utils.py:20: RuntimeWarning: overflow encountered in true_divide\n",
      "  return 1/(a*(1-a))\n",
      "c:\\Users\\user\\Documents\\GitHub\\Advanced-Machine-Learning\\project_1\\optimizers.py:116: RuntimeWarning: overflow encountered in square\n",
      "  W = np.diag(1 / (logit_derivative(p)**2 * p*(1-p)))\n",
      "c:\\Users\\user\\Documents\\GitHub\\Advanced-Machine-Learning\\project_1\\optimizers.py:116: RuntimeWarning: invalid value encountered in multiply\n",
      "  W = np.diag(1 / (logit_derivative(p)**2 * p*(1-p)))\n",
      "Model training:  10%|█         | 50/500 [00:00<00:02, 175.44it/s]\n"
     ]
    },
    {
     "name": "stdout",
     "output_type": "stream",
     "text": [
      "Early stopping!\n"
     ]
    },
    {
     "name": "stderr",
     "output_type": "stream",
     "text": [
      "Model training:   0%|          | 0/500 [00:00<?, ?it/s]c:\\Users\\user\\Documents\\GitHub\\Advanced-Machine-Learning\\project_1\\utils.py:17: RuntimeWarning: divide by zero encountered in true_divide\n",
      "  return np.log(a/(1-a))\n",
      "c:\\Users\\user\\Documents\\GitHub\\Advanced-Machine-Learning\\project_1\\utils.py:20: RuntimeWarning: divide by zero encountered in true_divide\n",
      "  return 1/(a*(1-a))\n",
      "c:\\Users\\user\\Documents\\GitHub\\Advanced-Machine-Learning\\project_1\\optimizers.py:116: RuntimeWarning: invalid value encountered in multiply\n",
      "  W = np.diag(1 / (logit_derivative(p)**2 * p*(1-p)))\n",
      "Model training:  10%|█         | 51/500 [00:00<00:02, 156.92it/s]\n"
     ]
    },
    {
     "name": "stdout",
     "output_type": "stream",
     "text": [
      "Early stopping!\n"
     ]
    },
    {
     "name": "stderr",
     "output_type": "stream",
     "text": [
      "Model training:   0%|          | 0/500 [00:00<?, ?it/s]c:\\Users\\user\\Documents\\GitHub\\Advanced-Machine-Learning\\project_1\\utils.py:14: RuntimeWarning: overflow encountered in exp\n",
      "  return -1*(y @ (coef @ X.T + intercept) - np.sum(np.log(1 + np.exp(-1*(coef @ X.T + intercept)))))\n",
      "c:\\Users\\user\\Documents\\GitHub\\Advanced-Machine-Learning\\project_1\\utils.py:17: RuntimeWarning: divide by zero encountered in true_divide\n",
      "  return np.log(a/(1-a))\n",
      "c:\\Users\\user\\Documents\\GitHub\\Advanced-Machine-Learning\\project_1\\utils.py:17: RuntimeWarning: divide by zero encountered in log\n",
      "  return np.log(a/(1-a))\n",
      "c:\\Users\\user\\Documents\\GitHub\\Advanced-Machine-Learning\\project_1\\utils.py:20: RuntimeWarning: divide by zero encountered in true_divide\n",
      "  return 1/(a*(1-a))\n",
      "c:\\Users\\user\\Documents\\GitHub\\Advanced-Machine-Learning\\project_1\\optimizers.py:116: RuntimeWarning: overflow encountered in square\n",
      "  W = np.diag(1 / (logit_derivative(p)**2 * p*(1-p)))\n",
      "c:\\Users\\user\\Documents\\GitHub\\Advanced-Machine-Learning\\project_1\\optimizers.py:116: RuntimeWarning: invalid value encountered in multiply\n",
      "  W = np.diag(1 / (logit_derivative(p)**2 * p*(1-p)))\n",
      "Model training:  10%|█         | 51/500 [00:00<00:04, 97.33it/s] \n"
     ]
    },
    {
     "name": "stdout",
     "output_type": "stream",
     "text": [
      "Early stopping!\n"
     ]
    },
    {
     "name": "stderr",
     "output_type": "stream",
     "text": [
      "Model training:   0%|          | 0/500 [00:00<?, ?it/s]c:\\Users\\user\\Documents\\GitHub\\Advanced-Machine-Learning\\project_1\\utils.py:14: RuntimeWarning: overflow encountered in exp\n",
      "  return -1*(y @ (coef @ X.T + intercept) - np.sum(np.log(1 + np.exp(-1*(coef @ X.T + intercept)))))\n",
      "c:\\Users\\user\\Documents\\GitHub\\Advanced-Machine-Learning\\project_1\\utils.py:17: RuntimeWarning: divide by zero encountered in true_divide\n",
      "  return np.log(a/(1-a))\n",
      "c:\\Users\\user\\Documents\\GitHub\\Advanced-Machine-Learning\\project_1\\utils.py:20: RuntimeWarning: divide by zero encountered in true_divide\n",
      "  return 1/(a*(1-a))\n",
      "c:\\Users\\user\\Documents\\GitHub\\Advanced-Machine-Learning\\project_1\\optimizers.py:116: RuntimeWarning: invalid value encountered in multiply\n",
      "  W = np.diag(1 / (logit_derivative(p)**2 * p*(1-p)))\n",
      "Model training:  10%|█         | 50/500 [00:00<00:03, 142.75it/s]\n"
     ]
    },
    {
     "name": "stdout",
     "output_type": "stream",
     "text": [
      "Early stopping!\n",
      "model: IWLS_INT, dataset: penguins,  Mean accuracy 0.5993206651075446\n"
     ]
    },
    {
     "name": "stderr",
     "output_type": "stream",
     "text": [
      "Model training: 100%|██████████| 500/500 [00:01<00:00, 310.83it/s]\n",
      "Model training:  44%|████▍     | 222/500 [00:00<00:00, 410.82it/s]\n"
     ]
    },
    {
     "name": "stdout",
     "output_type": "stream",
     "text": [
      "Early stopping!\n"
     ]
    },
    {
     "name": "stderr",
     "output_type": "stream",
     "text": [
      "Model training:  33%|███▎      | 167/500 [00:00<00:00, 345.04it/s]\n"
     ]
    },
    {
     "name": "stdout",
     "output_type": "stream",
     "text": [
      "Early stopping!\n"
     ]
    },
    {
     "name": "stderr",
     "output_type": "stream",
     "text": [
      "Model training:  46%|████▌     | 231/500 [00:00<00:00, 524.99it/s]\n"
     ]
    },
    {
     "name": "stdout",
     "output_type": "stream",
     "text": [
      "Early stopping!\n"
     ]
    },
    {
     "name": "stderr",
     "output_type": "stream",
     "text": [
      "Model training:  78%|███████▊  | 392/500 [00:00<00:00, 664.20it/s]\n"
     ]
    },
    {
     "name": "stdout",
     "output_type": "stream",
     "text": [
      "Early stopping!\n"
     ]
    },
    {
     "name": "stderr",
     "output_type": "stream",
     "text": [
      "Model training:  28%|██▊       | 142/500 [00:00<00:00, 498.25it/s]\n"
     ]
    },
    {
     "name": "stdout",
     "output_type": "stream",
     "text": [
      "Early stopping!\n"
     ]
    },
    {
     "name": "stderr",
     "output_type": "stream",
     "text": [
      "Model training:  96%|█████████▌| 480/500 [00:00<00:00, 649.52it/s]\n"
     ]
    },
    {
     "name": "stdout",
     "output_type": "stream",
     "text": [
      "Early stopping!\n"
     ]
    },
    {
     "name": "stderr",
     "output_type": "stream",
     "text": [
      "Model training:  49%|████▉     | 246/500 [00:00<00:00, 345.74it/s]\n"
     ]
    },
    {
     "name": "stdout",
     "output_type": "stream",
     "text": [
      "Early stopping!\n"
     ]
    },
    {
     "name": "stderr",
     "output_type": "stream",
     "text": [
      "Model training:  85%|████████▌ | 425/500 [00:00<00:00, 977.01it/s] \n"
     ]
    },
    {
     "name": "stdout",
     "output_type": "stream",
     "text": [
      "Early stopping!\n"
     ]
    },
    {
     "name": "stderr",
     "output_type": "stream",
     "text": [
      "Model training: 100%|██████████| 500/500 [00:00<00:00, 621.14it/s]\n"
     ]
    },
    {
     "name": "stdout",
     "output_type": "stream",
     "text": [
      "model: Adam, dataset: penguins,  Mean accuracy 0.9862658061398237\n"
     ]
    },
    {
     "name": "stderr",
     "output_type": "stream",
     "text": [
      "Model training:  33%|███▎      | 163/500 [00:00<00:00, 537.92it/s]\n"
     ]
    },
    {
     "name": "stdout",
     "output_type": "stream",
     "text": [
      "Early stopping!\n"
     ]
    },
    {
     "name": "stderr",
     "output_type": "stream",
     "text": [
      "Model training:  40%|████      | 200/500 [00:00<00:00, 944.85it/s]\n"
     ]
    },
    {
     "name": "stdout",
     "output_type": "stream",
     "text": [
      "Early stopping!\n"
     ]
    },
    {
     "name": "stderr",
     "output_type": "stream",
     "text": [
      "Model training:  82%|████████▏ | 411/500 [00:00<00:00, 942.67it/s]\n"
     ]
    },
    {
     "name": "stdout",
     "output_type": "stream",
     "text": [
      "Early stopping!\n"
     ]
    },
    {
     "name": "stderr",
     "output_type": "stream",
     "text": [
      "Model training:  34%|███▍      | 170/500 [00:00<00:00, 894.18it/s]\n"
     ]
    },
    {
     "name": "stdout",
     "output_type": "stream",
     "text": [
      "Early stopping!\n"
     ]
    },
    {
     "name": "stderr",
     "output_type": "stream",
     "text": [
      "Model training:  54%|█████▍    | 272/500 [00:00<00:00, 836.78it/s]\n"
     ]
    },
    {
     "name": "stdout",
     "output_type": "stream",
     "text": [
      "Early stopping!\n"
     ]
    },
    {
     "name": "stderr",
     "output_type": "stream",
     "text": [
      "Model training: 100%|██████████| 500/500 [00:00<00:00, 709.17it/s]\n",
      "Model training: 100%|██████████| 500/500 [00:01<00:00, 287.30it/s]\n",
      "Model training:  28%|██▊       | 140/500 [00:00<00:01, 355.36it/s]\n"
     ]
    },
    {
     "name": "stdout",
     "output_type": "stream",
     "text": [
      "Early stopping!\n"
     ]
    },
    {
     "name": "stderr",
     "output_type": "stream",
     "text": [
      "Model training:  44%|████▍     | 221/500 [00:00<00:00, 393.56it/s]\n"
     ]
    },
    {
     "name": "stdout",
     "output_type": "stream",
     "text": [
      "Early stopping!\n"
     ]
    },
    {
     "name": "stderr",
     "output_type": "stream",
     "text": [
      "Model training:  50%|████▉     | 248/500 [00:00<00:00, 414.03it/s]\n",
      "c:\\Users\\user\\anaconda3\\lib\\site-packages\\sklearn\\discriminant_analysis.py:926: UserWarning: Variables are collinear\n",
      "  warnings.warn(\"Variables are collinear\")\n",
      "c:\\Users\\user\\anaconda3\\lib\\site-packages\\sklearn\\discriminant_analysis.py:926: UserWarning: Variables are collinear\n",
      "  warnings.warn(\"Variables are collinear\")\n",
      "c:\\Users\\user\\anaconda3\\lib\\site-packages\\sklearn\\discriminant_analysis.py:926: UserWarning: Variables are collinear\n",
      "  warnings.warn(\"Variables are collinear\")\n",
      "c:\\Users\\user\\anaconda3\\lib\\site-packages\\sklearn\\discriminant_analysis.py:926: UserWarning: Variables are collinear\n",
      "  warnings.warn(\"Variables are collinear\")\n",
      "c:\\Users\\user\\anaconda3\\lib\\site-packages\\sklearn\\discriminant_analysis.py:926: UserWarning: Variables are collinear\n",
      "  warnings.warn(\"Variables are collinear\")\n",
      "c:\\Users\\user\\anaconda3\\lib\\site-packages\\sklearn\\discriminant_analysis.py:926: UserWarning: Variables are collinear\n",
      "  warnings.warn(\"Variables are collinear\")\n",
      "c:\\Users\\user\\anaconda3\\lib\\site-packages\\sklearn\\discriminant_analysis.py:926: UserWarning: Variables are collinear\n",
      "  warnings.warn(\"Variables are collinear\")\n",
      "c:\\Users\\user\\anaconda3\\lib\\site-packages\\sklearn\\discriminant_analysis.py:926: UserWarning: Variables are collinear\n",
      "  warnings.warn(\"Variables are collinear\")\n"
     ]
    },
    {
     "name": "stdout",
     "output_type": "stream",
     "text": [
      "Early stopping!\n",
      "model: Adam_INT, dataset: penguins,  Mean accuracy 0.9921396648597073\n",
      "model: LDA, dataset: penguins,  Mean accuracy 1.0\n"
     ]
    },
    {
     "name": "stderr",
     "output_type": "stream",
     "text": [
      "c:\\Users\\user\\anaconda3\\lib\\site-packages\\sklearn\\discriminant_analysis.py:926: UserWarning: Variables are collinear\n",
      "  warnings.warn(\"Variables are collinear\")\n",
      "c:\\Users\\user\\anaconda3\\lib\\site-packages\\sklearn\\discriminant_analysis.py:926: UserWarning: Variables are collinear\n",
      "  warnings.warn(\"Variables are collinear\")\n"
     ]
    },
    {
     "name": "stdout",
     "output_type": "stream",
     "text": [
      "model: QDA, dataset: penguins,  Mean accuracy 0.8232333522993194\n",
      "model: RandomForest, dataset: penguins,  Mean accuracy 1.0\n",
      "model: DecisionTree, dataset: penguins,  Mean accuracy 0.9976136363636364\n"
     ]
    },
    {
     "name": "stderr",
     "output_type": "stream",
     "text": [
      "Model training:  26%|██▌       | 131/500 [00:00<00:01, 226.25it/s]\n"
     ]
    },
    {
     "name": "stdout",
     "output_type": "stream",
     "text": [
      "Early stopping!\n"
     ]
    },
    {
     "name": "stderr",
     "output_type": "stream",
     "text": [
      "Model training:  16%|█▌        | 81/500 [00:00<00:02, 202.49it/s]\n"
     ]
    },
    {
     "name": "stdout",
     "output_type": "stream",
     "text": [
      "Early stopping!\n"
     ]
    },
    {
     "name": "stderr",
     "output_type": "stream",
     "text": [
      "Model training:  15%|█▍        | 73/500 [00:00<00:02, 197.29it/s]\n"
     ]
    },
    {
     "name": "stdout",
     "output_type": "stream",
     "text": [
      "Early stopping!\n"
     ]
    },
    {
     "name": "stderr",
     "output_type": "stream",
     "text": [
      "Model training:  26%|██▌       | 131/500 [00:00<00:01, 241.50it/s]\n"
     ]
    },
    {
     "name": "stdout",
     "output_type": "stream",
     "text": [
      "Early stopping!\n"
     ]
    },
    {
     "name": "stderr",
     "output_type": "stream",
     "text": [
      "Model training:  28%|██▊       | 140/500 [00:00<00:01, 237.28it/s]\n"
     ]
    },
    {
     "name": "stdout",
     "output_type": "stream",
     "text": [
      "Early stopping!\n"
     ]
    },
    {
     "name": "stderr",
     "output_type": "stream",
     "text": [
      "Model training:  77%|███████▋  | 385/500 [00:01<00:00, 232.64it/s]\n"
     ]
    },
    {
     "name": "stdout",
     "output_type": "stream",
     "text": [
      "Early stopping!\n"
     ]
    },
    {
     "name": "stderr",
     "output_type": "stream",
     "text": [
      "Model training:  19%|█▉        | 97/500 [00:00<00:01, 212.26it/s]\n"
     ]
    },
    {
     "name": "stdout",
     "output_type": "stream",
     "text": [
      "Early stopping!\n"
     ]
    },
    {
     "name": "stderr",
     "output_type": "stream",
     "text": [
      "Model training:  12%|█▏        | 62/500 [00:00<00:01, 230.48it/s]\n"
     ]
    },
    {
     "name": "stdout",
     "output_type": "stream",
     "text": [
      "Early stopping!\n"
     ]
    },
    {
     "name": "stderr",
     "output_type": "stream",
     "text": [
      "Model training:  12%|█▏        | 62/500 [00:00<00:02, 189.87it/s]\n"
     ]
    },
    {
     "name": "stdout",
     "output_type": "stream",
     "text": [
      "Early stopping!\n"
     ]
    },
    {
     "name": "stderr",
     "output_type": "stream",
     "text": [
      "Model training:  33%|███▎      | 165/500 [00:00<00:01, 250.64it/s]\n"
     ]
    },
    {
     "name": "stdout",
     "output_type": "stream",
     "text": [
      "Early stopping!\n",
      "model: SGD, dataset: sonar,  Mean accuracy 0.7138871912401324\n"
     ]
    },
    {
     "name": "stderr",
     "output_type": "stream",
     "text": [
      "Model training:   0%|          | 0/500 [00:00<?, ?it/s]c:\\Users\\user\\Documents\\GitHub\\Advanced-Machine-Learning\\project_1\\utils.py:17: RuntimeWarning: divide by zero encountered in true_divide\n",
      "  return np.log(a/(1-a))\n",
      "c:\\Users\\user\\Documents\\GitHub\\Advanced-Machine-Learning\\project_1\\utils.py:20: RuntimeWarning: divide by zero encountered in true_divide\n",
      "  return 1/(a*(1-a))\n",
      "c:\\Users\\user\\Documents\\GitHub\\Advanced-Machine-Learning\\project_1\\optimizers.py:116: RuntimeWarning: invalid value encountered in multiply\n",
      "  W = np.diag(1 / (logit_derivative(p)**2 * p*(1-p)))\n",
      "Model training:  10%|█         | 51/500 [00:00<00:01, 270.27it/s]\n"
     ]
    },
    {
     "name": "stdout",
     "output_type": "stream",
     "text": [
      "Early stopping!\n"
     ]
    },
    {
     "name": "stderr",
     "output_type": "stream",
     "text": [
      "Model training:   0%|          | 0/500 [00:00<?, ?it/s]c:\\Users\\user\\Documents\\GitHub\\Advanced-Machine-Learning\\project_1\\utils.py:17: RuntimeWarning: divide by zero encountered in true_divide\n",
      "  return np.log(a/(1-a))\n",
      "c:\\Users\\user\\Documents\\GitHub\\Advanced-Machine-Learning\\project_1\\utils.py:20: RuntimeWarning: divide by zero encountered in true_divide\n",
      "  return 1/(a*(1-a))\n",
      "c:\\Users\\user\\Documents\\GitHub\\Advanced-Machine-Learning\\project_1\\optimizers.py:116: RuntimeWarning: invalid value encountered in multiply\n",
      "  W = np.diag(1 / (logit_derivative(p)**2 * p*(1-p)))\n",
      "Model training:  10%|█         | 50/500 [00:00<00:01, 267.38it/s]\n"
     ]
    },
    {
     "name": "stdout",
     "output_type": "stream",
     "text": [
      "Early stopping!\n"
     ]
    },
    {
     "name": "stderr",
     "output_type": "stream",
     "text": [
      "Model training:   0%|          | 0/500 [00:00<?, ?it/s]c:\\Users\\user\\Documents\\GitHub\\Advanced-Machine-Learning\\project_1\\utils.py:17: RuntimeWarning: divide by zero encountered in true_divide\n",
      "  return np.log(a/(1-a))\n",
      "c:\\Users\\user\\Documents\\GitHub\\Advanced-Machine-Learning\\project_1\\utils.py:20: RuntimeWarning: divide by zero encountered in true_divide\n",
      "  return 1/(a*(1-a))\n",
      "c:\\Users\\user\\Documents\\GitHub\\Advanced-Machine-Learning\\project_1\\optimizers.py:116: RuntimeWarning: invalid value encountered in multiply\n",
      "  W = np.diag(1 / (logit_derivative(p)**2 * p*(1-p)))\n",
      "Model training:  11%|█         | 54/500 [00:00<00:04, 96.09it/s] \n"
     ]
    },
    {
     "name": "stdout",
     "output_type": "stream",
     "text": [
      "Early stopping!\n"
     ]
    },
    {
     "name": "stderr",
     "output_type": "stream",
     "text": [
      "Model training:   0%|          | 0/500 [00:00<?, ?it/s]c:\\Users\\user\\Documents\\GitHub\\Advanced-Machine-Learning\\project_1\\utils.py:17: RuntimeWarning: divide by zero encountered in true_divide\n",
      "  return np.log(a/(1-a))\n",
      "c:\\Users\\user\\Documents\\GitHub\\Advanced-Machine-Learning\\project_1\\utils.py:20: RuntimeWarning: divide by zero encountered in true_divide\n",
      "  return 1/(a*(1-a))\n",
      "c:\\Users\\user\\Documents\\GitHub\\Advanced-Machine-Learning\\project_1\\optimizers.py:116: RuntimeWarning: invalid value encountered in multiply\n",
      "  W = np.diag(1 / (logit_derivative(p)**2 * p*(1-p)))\n",
      "Model training:  11%|█         | 54/500 [00:00<00:01, 235.81it/s]\n"
     ]
    },
    {
     "name": "stdout",
     "output_type": "stream",
     "text": [
      "Early stopping!\n"
     ]
    },
    {
     "name": "stderr",
     "output_type": "stream",
     "text": [
      "Model training:   0%|          | 0/500 [00:00<?, ?it/s]c:\\Users\\user\\Documents\\GitHub\\Advanced-Machine-Learning\\project_1\\utils.py:17: RuntimeWarning: divide by zero encountered in true_divide\n",
      "  return np.log(a/(1-a))\n",
      "c:\\Users\\user\\Documents\\GitHub\\Advanced-Machine-Learning\\project_1\\utils.py:20: RuntimeWarning: divide by zero encountered in true_divide\n",
      "  return 1/(a*(1-a))\n",
      "c:\\Users\\user\\Documents\\GitHub\\Advanced-Machine-Learning\\project_1\\optimizers.py:116: RuntimeWarning: invalid value encountered in multiply\n",
      "  W = np.diag(1 / (logit_derivative(p)**2 * p*(1-p)))\n",
      "Model training:  10%|█         | 50/500 [00:00<00:01, 250.00it/s]\n"
     ]
    },
    {
     "name": "stdout",
     "output_type": "stream",
     "text": [
      "Early stopping!\n"
     ]
    },
    {
     "name": "stderr",
     "output_type": "stream",
     "text": [
      "Model training:   0%|          | 0/500 [00:00<?, ?it/s]c:\\Users\\user\\Documents\\GitHub\\Advanced-Machine-Learning\\project_1\\utils.py:17: RuntimeWarning: divide by zero encountered in true_divide\n",
      "  return np.log(a/(1-a))\n",
      "c:\\Users\\user\\Documents\\GitHub\\Advanced-Machine-Learning\\project_1\\utils.py:20: RuntimeWarning: divide by zero encountered in true_divide\n",
      "  return 1/(a*(1-a))\n",
      "c:\\Users\\user\\Documents\\GitHub\\Advanced-Machine-Learning\\project_1\\optimizers.py:116: RuntimeWarning: invalid value encountered in multiply\n",
      "  W = np.diag(1 / (logit_derivative(p)**2 * p*(1-p)))\n",
      "Model training:   4%|▍         | 22/500 [00:00<00:02, 215.61it/s]"
     ]
    },
    {
     "name": "stdout",
     "output_type": "stream",
     "text": [
      "Early stopping!"
     ]
    },
    {
     "name": "stderr",
     "output_type": "stream",
     "text": [
      "Model training:  10%|█         | 50/500 [00:00<00:01, 279.27it/s]\n"
     ]
    },
    {
     "name": "stdout",
     "output_type": "stream",
     "text": [
      "\n"
     ]
    },
    {
     "name": "stderr",
     "output_type": "stream",
     "text": [
      "Model training:   0%|          | 0/500 [00:00<?, ?it/s]c:\\Users\\user\\Documents\\GitHub\\Advanced-Machine-Learning\\project_1\\utils.py:17: RuntimeWarning: divide by zero encountered in true_divide\n",
      "  return np.log(a/(1-a))\n",
      "c:\\Users\\user\\Documents\\GitHub\\Advanced-Machine-Learning\\project_1\\utils.py:20: RuntimeWarning: divide by zero encountered in true_divide\n",
      "  return 1/(a*(1-a))\n",
      "c:\\Users\\user\\Documents\\GitHub\\Advanced-Machine-Learning\\project_1\\optimizers.py:116: RuntimeWarning: invalid value encountered in multiply\n",
      "  W = np.diag(1 / (logit_derivative(p)**2 * p*(1-p)))\n",
      "Model training:  10%|█         | 50/500 [00:00<00:01, 248.76it/s]\n"
     ]
    },
    {
     "name": "stdout",
     "output_type": "stream",
     "text": [
      "Early stopping!\n"
     ]
    },
    {
     "name": "stderr",
     "output_type": "stream",
     "text": [
      "Model training:   0%|          | 0/500 [00:00<?, ?it/s]c:\\Users\\user\\Documents\\GitHub\\Advanced-Machine-Learning\\project_1\\utils.py:17: RuntimeWarning: divide by zero encountered in true_divide\n",
      "  return np.log(a/(1-a))\n",
      "c:\\Users\\user\\Documents\\GitHub\\Advanced-Machine-Learning\\project_1\\utils.py:20: RuntimeWarning: divide by zero encountered in true_divide\n",
      "  return 1/(a*(1-a))\n",
      "c:\\Users\\user\\Documents\\GitHub\\Advanced-Machine-Learning\\project_1\\optimizers.py:116: RuntimeWarning: invalid value encountered in multiply\n",
      "  W = np.diag(1 / (logit_derivative(p)**2 * p*(1-p)))\n",
      "Model training:  11%|█         | 54/500 [00:00<00:01, 288.78it/s]\n"
     ]
    },
    {
     "name": "stdout",
     "output_type": "stream",
     "text": [
      "Early stopping!\n"
     ]
    },
    {
     "name": "stderr",
     "output_type": "stream",
     "text": [
      "Model training:   0%|          | 0/500 [00:00<?, ?it/s]c:\\Users\\user\\Documents\\GitHub\\Advanced-Machine-Learning\\project_1\\utils.py:17: RuntimeWarning: divide by zero encountered in true_divide\n",
      "  return np.log(a/(1-a))\n",
      "c:\\Users\\user\\Documents\\GitHub\\Advanced-Machine-Learning\\project_1\\utils.py:20: RuntimeWarning: divide by zero encountered in true_divide\n",
      "  return 1/(a*(1-a))\n",
      "c:\\Users\\user\\Documents\\GitHub\\Advanced-Machine-Learning\\project_1\\optimizers.py:116: RuntimeWarning: invalid value encountered in multiply\n",
      "  W = np.diag(1 / (logit_derivative(p)**2 * p*(1-p)))\n",
      "Model training:  10%|█         | 50/500 [00:00<00:02, 205.75it/s]\n"
     ]
    },
    {
     "name": "stdout",
     "output_type": "stream",
     "text": [
      "Early stopping!\n"
     ]
    },
    {
     "name": "stderr",
     "output_type": "stream",
     "text": [
      "Model training:   0%|          | 1/500 [00:00<01:03,  7.87it/s]c:\\Users\\user\\Documents\\GitHub\\Advanced-Machine-Learning\\project_1\\utils.py:17: RuntimeWarning: divide by zero encountered in true_divide\n",
      "  return np.log(a/(1-a))\n",
      "c:\\Users\\user\\Documents\\GitHub\\Advanced-Machine-Learning\\project_1\\utils.py:20: RuntimeWarning: divide by zero encountered in true_divide\n",
      "  return 1/(a*(1-a))\n",
      "c:\\Users\\user\\Documents\\GitHub\\Advanced-Machine-Learning\\project_1\\optimizers.py:116: RuntimeWarning: invalid value encountered in multiply\n",
      "  W = np.diag(1 / (logit_derivative(p)**2 * p*(1-p)))\n",
      "Model training:  11%|█         | 54/500 [00:00<00:02, 178.22it/s]\n"
     ]
    },
    {
     "name": "stdout",
     "output_type": "stream",
     "text": [
      "Early stopping!\n",
      "model: IWLS, dataset: sonar,  Mean accuracy 0.7188262047786547\n"
     ]
    },
    {
     "name": "stderr",
     "output_type": "stream",
     "text": [
      "Model training: 100%|██████████| 500/500 [00:00<00:00, 590.92it/s]\n",
      "Model training: 100%|██████████| 500/500 [00:00<00:00, 1028.81it/s]\n",
      "Model training: 100%|██████████| 500/500 [00:00<00:00, 1039.44it/s]\n",
      "Model training: 100%|██████████| 500/500 [00:00<00:00, 1094.09it/s]\n",
      "Model training: 100%|██████████| 500/500 [00:00<00:00, 1055.40it/s]\n",
      "Model training: 100%|██████████| 500/500 [00:00<00:00, 1084.61it/s]\n",
      "Model training: 100%|██████████| 500/500 [00:00<00:00, 1059.33it/s]\n",
      "Model training:  20%|██        | 100/500 [00:00<00:00, 729.95it/s]\n"
     ]
    },
    {
     "name": "stdout",
     "output_type": "stream",
     "text": [
      "Early stopping!\n"
     ]
    },
    {
     "name": "stderr",
     "output_type": "stream",
     "text": [
      "Model training: 100%|██████████| 500/500 [00:00<00:00, 965.26it/s] \n",
      "Model training: 100%|██████████| 500/500 [00:00<00:00, 1099.42it/s]\n"
     ]
    },
    {
     "name": "stdout",
     "output_type": "stream",
     "text": [
      "model: Adam, dataset: sonar,  Mean accuracy 0.7609250834035809\n",
      "model: LDA, dataset: sonar,  Mean accuracy 0.7526199927523456\n",
      "model: QDA, dataset: sonar,  Mean accuracy 0.7173221328054246\n",
      "model: RandomForest, dataset: sonar,  Mean accuracy 0.7975906517335882\n",
      "model: DecisionTree, dataset: sonar,  Mean accuracy 0.7429399385363344\n"
     ]
    },
    {
     "name": "stderr",
     "output_type": "stream",
     "text": [
      "Model training: 100%|██████████| 500/500 [00:03<00:00, 144.63it/s]\n",
      "Model training:  50%|████▉     | 248/500 [00:01<00:01, 193.57it/s]\n"
     ]
    },
    {
     "name": "stdout",
     "output_type": "stream",
     "text": [
      "Early stopping!\n"
     ]
    },
    {
     "name": "stderr",
     "output_type": "stream",
     "text": [
      "Model training:  36%|███▌      | 178/500 [00:00<00:01, 179.61it/s]\n"
     ]
    },
    {
     "name": "stdout",
     "output_type": "stream",
     "text": [
      "Early stopping!\n"
     ]
    },
    {
     "name": "stderr",
     "output_type": "stream",
     "text": [
      "Model training:  15%|█▍        | 73/500 [00:00<00:04, 102.43it/s]\n"
     ]
    },
    {
     "name": "stdout",
     "output_type": "stream",
     "text": [
      "Early stopping!\n"
     ]
    },
    {
     "name": "stderr",
     "output_type": "stream",
     "text": [
      "Model training:  89%|████████▊ | 443/500 [00:02<00:00, 189.76it/s]\n"
     ]
    },
    {
     "name": "stdout",
     "output_type": "stream",
     "text": [
      "Early stopping!\n"
     ]
    },
    {
     "name": "stderr",
     "output_type": "stream",
     "text": [
      "Model training:  17%|█▋        | 83/500 [00:00<00:02, 171.49it/s]\n"
     ]
    },
    {
     "name": "stdout",
     "output_type": "stream",
     "text": [
      "Early stopping!\n"
     ]
    },
    {
     "name": "stderr",
     "output_type": "stream",
     "text": [
      "Model training: 100%|██████████| 500/500 [00:02<00:00, 188.62it/s]\n",
      "Model training:  32%|███▏      | 160/500 [00:01<00:02, 147.05it/s]\n"
     ]
    },
    {
     "name": "stdout",
     "output_type": "stream",
     "text": [
      "Early stopping!\n"
     ]
    },
    {
     "name": "stderr",
     "output_type": "stream",
     "text": [
      "Model training:  38%|███▊      | 191/500 [00:01<00:01, 179.99it/s]\n"
     ]
    },
    {
     "name": "stdout",
     "output_type": "stream",
     "text": [
      "Early stopping!\n"
     ]
    },
    {
     "name": "stderr",
     "output_type": "stream",
     "text": [
      "Model training:  11%|█         | 55/500 [00:00<00:02, 149.46it/s]\n"
     ]
    },
    {
     "name": "stdout",
     "output_type": "stream",
     "text": [
      "Early stopping!\n",
      "model: SGD, dataset: ionosphere,  Mean accuracy 0.8378653596315143\n"
     ]
    },
    {
     "name": "stderr",
     "output_type": "stream",
     "text": [
      "Model training:   7%|▋         | 34/500 [00:00<00:02, 168.14it/s]c:\\Users\\user\\Documents\\GitHub\\Advanced-Machine-Learning\\project_1\\utils.py:17: RuntimeWarning: divide by zero encountered in true_divide\n",
      "  return np.log(a/(1-a))\n",
      "c:\\Users\\user\\Documents\\GitHub\\Advanced-Machine-Learning\\project_1\\utils.py:20: RuntimeWarning: divide by zero encountered in true_divide\n",
      "  return 1/(a*(1-a))\n",
      "c:\\Users\\user\\Documents\\GitHub\\Advanced-Machine-Learning\\project_1\\optimizers.py:116: RuntimeWarning: invalid value encountered in multiply\n",
      "  W = np.diag(1 / (logit_derivative(p)**2 * p*(1-p)))\n",
      "Model training:  10%|█         | 50/500 [00:00<00:02, 191.57it/s]\n"
     ]
    },
    {
     "name": "stdout",
     "output_type": "stream",
     "text": [
      "Early stopping!\n"
     ]
    },
    {
     "name": "stderr",
     "output_type": "stream",
     "text": [
      "Model training:   4%|▍         | 21/500 [00:00<00:02, 207.92it/s]c:\\Users\\user\\Documents\\GitHub\\Advanced-Machine-Learning\\project_1\\utils.py:17: RuntimeWarning: divide by zero encountered in true_divide\n",
      "  return np.log(a/(1-a))\n",
      "c:\\Users\\user\\Documents\\GitHub\\Advanced-Machine-Learning\\project_1\\utils.py:20: RuntimeWarning: divide by zero encountered in true_divide\n",
      "  return 1/(a*(1-a))\n",
      "c:\\Users\\user\\Documents\\GitHub\\Advanced-Machine-Learning\\project_1\\optimizers.py:116: RuntimeWarning: invalid value encountered in multiply\n",
      "  W = np.diag(1 / (logit_derivative(p)**2 * p*(1-p)))\n",
      "Model training:  18%|█▊        | 88/500 [00:00<00:01, 242.42it/s]\n"
     ]
    },
    {
     "name": "stdout",
     "output_type": "stream",
     "text": [
      "Early stopping!\n"
     ]
    },
    {
     "name": "stderr",
     "output_type": "stream",
     "text": [
      "Model training:   0%|          | 0/500 [00:00<?, ?it/s]c:\\Users\\user\\Documents\\GitHub\\Advanced-Machine-Learning\\project_1\\utils.py:17: RuntimeWarning: divide by zero encountered in true_divide\n",
      "  return np.log(a/(1-a))\n",
      "c:\\Users\\user\\Documents\\GitHub\\Advanced-Machine-Learning\\project_1\\utils.py:20: RuntimeWarning: divide by zero encountered in true_divide\n",
      "  return 1/(a*(1-a))\n",
      "c:\\Users\\user\\Documents\\GitHub\\Advanced-Machine-Learning\\project_1\\optimizers.py:116: RuntimeWarning: invalid value encountered in multiply\n",
      "  W = np.diag(1 / (logit_derivative(p)**2 * p*(1-p)))\n",
      "Model training:   5%|▍         | 23/500 [00:00<00:02, 225.49it/s]"
     ]
    },
    {
     "name": "stdout",
     "output_type": "stream",
     "text": [
      "Early stopping!"
     ]
    },
    {
     "name": "stderr",
     "output_type": "stream",
     "text": [
      "Model training:  10%|█         | 50/500 [00:00<00:01, 259.07it/s]\n"
     ]
    },
    {
     "name": "stdout",
     "output_type": "stream",
     "text": [
      "\n"
     ]
    },
    {
     "name": "stderr",
     "output_type": "stream",
     "text": [
      "Model training:   2%|▏         | 8/500 [00:00<00:06, 80.00it/s]c:\\Users\\user\\Documents\\GitHub\\Advanced-Machine-Learning\\project_1\\utils.py:17: RuntimeWarning: divide by zero encountered in true_divide\n",
      "  return np.log(a/(1-a))\n",
      "c:\\Users\\user\\Documents\\GitHub\\Advanced-Machine-Learning\\project_1\\utils.py:20: RuntimeWarning: divide by zero encountered in true_divide\n",
      "  return 1/(a*(1-a))\n",
      "c:\\Users\\user\\Documents\\GitHub\\Advanced-Machine-Learning\\project_1\\optimizers.py:116: RuntimeWarning: invalid value encountered in multiply\n",
      "  W = np.diag(1 / (logit_derivative(p)**2 * p*(1-p)))\n",
      "Model training:  10%|█         | 50/500 [00:00<00:02, 181.82it/s]\n"
     ]
    },
    {
     "name": "stdout",
     "output_type": "stream",
     "text": [
      "Early stopping!\n"
     ]
    },
    {
     "name": "stderr",
     "output_type": "stream",
     "text": [
      "Model training:   0%|          | 0/500 [00:00<?, ?it/s]c:\\Users\\user\\Documents\\GitHub\\Advanced-Machine-Learning\\project_1\\utils.py:17: RuntimeWarning: divide by zero encountered in true_divide\n",
      "  return np.log(a/(1-a))\n",
      "c:\\Users\\user\\Documents\\GitHub\\Advanced-Machine-Learning\\project_1\\utils.py:20: RuntimeWarning: divide by zero encountered in true_divide\n",
      "  return 1/(a*(1-a))\n",
      "c:\\Users\\user\\Documents\\GitHub\\Advanced-Machine-Learning\\project_1\\optimizers.py:116: RuntimeWarning: invalid value encountered in multiply\n",
      "  W = np.diag(1 / (logit_derivative(p)**2 * p*(1-p)))\n",
      "Model training:  10%|█         | 50/500 [00:00<00:05, 79.84it/s] \n"
     ]
    },
    {
     "name": "stdout",
     "output_type": "stream",
     "text": [
      "Early stopping!\n"
     ]
    },
    {
     "name": "stderr",
     "output_type": "stream",
     "text": [
      "Model training:   0%|          | 0/500 [00:00<?, ?it/s]c:\\Users\\user\\Documents\\GitHub\\Advanced-Machine-Learning\\project_1\\utils.py:17: RuntimeWarning: divide by zero encountered in true_divide\n",
      "  return np.log(a/(1-a))\n",
      "c:\\Users\\user\\Documents\\GitHub\\Advanced-Machine-Learning\\project_1\\utils.py:20: RuntimeWarning: divide by zero encountered in true_divide\n",
      "  return 1/(a*(1-a))\n",
      "c:\\Users\\user\\Documents\\GitHub\\Advanced-Machine-Learning\\project_1\\optimizers.py:116: RuntimeWarning: invalid value encountered in multiply\n",
      "  W = np.diag(1 / (logit_derivative(p)**2 * p*(1-p)))\n",
      "Model training:  10%|█         | 50/500 [00:00<00:02, 188.68it/s]\n"
     ]
    },
    {
     "name": "stdout",
     "output_type": "stream",
     "text": [
      "Early stopping!\n"
     ]
    },
    {
     "name": "stderr",
     "output_type": "stream",
     "text": [
      "Model training:   0%|          | 0/500 [00:00<?, ?it/s]c:\\Users\\user\\Documents\\GitHub\\Advanced-Machine-Learning\\project_1\\utils.py:17: RuntimeWarning: divide by zero encountered in true_divide\n",
      "  return np.log(a/(1-a))\n",
      "c:\\Users\\user\\Documents\\GitHub\\Advanced-Machine-Learning\\project_1\\utils.py:20: RuntimeWarning: divide by zero encountered in true_divide\n",
      "  return 1/(a*(1-a))\n",
      "c:\\Users\\user\\Documents\\GitHub\\Advanced-Machine-Learning\\project_1\\optimizers.py:116: RuntimeWarning: invalid value encountered in multiply\n",
      "  W = np.diag(1 / (logit_derivative(p)**2 * p*(1-p)))\n",
      "Model training:  11%|█         | 56/500 [00:00<00:02, 169.15it/s]\n"
     ]
    },
    {
     "name": "stdout",
     "output_type": "stream",
     "text": [
      "Early stopping!\n"
     ]
    },
    {
     "name": "stderr",
     "output_type": "stream",
     "text": [
      "Model training:   0%|          | 0/500 [00:00<?, ?it/s]c:\\Users\\user\\Documents\\GitHub\\Advanced-Machine-Learning\\project_1\\utils.py:17: RuntimeWarning: divide by zero encountered in true_divide\n",
      "  return np.log(a/(1-a))\n",
      "c:\\Users\\user\\Documents\\GitHub\\Advanced-Machine-Learning\\project_1\\utils.py:20: RuntimeWarning: divide by zero encountered in true_divide\n",
      "  return 1/(a*(1-a))\n",
      "c:\\Users\\user\\Documents\\GitHub\\Advanced-Machine-Learning\\project_1\\optimizers.py:116: RuntimeWarning: invalid value encountered in multiply\n",
      "  W = np.diag(1 / (logit_derivative(p)**2 * p*(1-p)))\n",
      "Model training:  11%|█         | 53/500 [00:00<00:02, 191.32it/s]\n"
     ]
    },
    {
     "name": "stdout",
     "output_type": "stream",
     "text": [
      "Early stopping!\n"
     ]
    },
    {
     "name": "stderr",
     "output_type": "stream",
     "text": [
      "Model training:   0%|          | 0/500 [00:00<?, ?it/s]c:\\Users\\user\\Documents\\GitHub\\Advanced-Machine-Learning\\project_1\\utils.py:17: RuntimeWarning: divide by zero encountered in true_divide\n",
      "  return np.log(a/(1-a))\n",
      "c:\\Users\\user\\Documents\\GitHub\\Advanced-Machine-Learning\\project_1\\utils.py:20: RuntimeWarning: divide by zero encountered in true_divide\n",
      "  return 1/(a*(1-a))\n",
      "c:\\Users\\user\\Documents\\GitHub\\Advanced-Machine-Learning\\project_1\\optimizers.py:116: RuntimeWarning: invalid value encountered in multiply\n",
      "  W = np.diag(1 / (logit_derivative(p)**2 * p*(1-p)))\n",
      "Model training:  10%|█         | 51/500 [00:00<00:02, 187.50it/s]\n"
     ]
    },
    {
     "name": "stdout",
     "output_type": "stream",
     "text": [
      "Early stopping!\n"
     ]
    },
    {
     "name": "stderr",
     "output_type": "stream",
     "text": [
      "Model training:   1%|          | 4/500 [00:00<00:13, 38.10it/s]c:\\Users\\user\\Documents\\GitHub\\Advanced-Machine-Learning\\project_1\\utils.py:17: RuntimeWarning: divide by zero encountered in true_divide\n",
      "  return np.log(a/(1-a))\n",
      "c:\\Users\\user\\Documents\\GitHub\\Advanced-Machine-Learning\\project_1\\utils.py:20: RuntimeWarning: divide by zero encountered in true_divide\n",
      "  return 1/(a*(1-a))\n",
      "c:\\Users\\user\\Documents\\GitHub\\Advanced-Machine-Learning\\project_1\\optimizers.py:116: RuntimeWarning: invalid value encountered in multiply\n",
      "  W = np.diag(1 / (logit_derivative(p)**2 * p*(1-p)))\n",
      "Model training:  10%|█         | 52/500 [00:00<00:02, 166.14it/s]\n"
     ]
    },
    {
     "name": "stdout",
     "output_type": "stream",
     "text": [
      "Early stopping!\n",
      "model: IWLS, dataset: ionosphere,  Mean accuracy 0.819430798894525\n"
     ]
    },
    {
     "name": "stderr",
     "output_type": "stream",
     "text": [
      "Model training: 100%|██████████| 500/500 [00:00<00:00, 628.85it/s]\n",
      "Model training: 100%|██████████| 500/500 [00:00<00:00, 902.50it/s]\n",
      "Model training: 100%|██████████| 500/500 [00:00<00:00, 770.37it/s]\n",
      "Model training: 100%|██████████| 500/500 [00:01<00:00, 433.80it/s]\n",
      "Model training: 100%|██████████| 500/500 [00:00<00:00, 732.03it/s]\n",
      "Model training: 100%|██████████| 500/500 [00:00<00:00, 882.15it/s]\n",
      "Model training: 100%|██████████| 500/500 [00:00<00:00, 834.29it/s]\n",
      "Model training: 100%|██████████| 500/500 [00:00<00:00, 878.41it/s]\n",
      "Model training: 100%|██████████| 500/500 [00:00<00:00, 886.84it/s]\n",
      "Model training: 100%|██████████| 500/500 [00:00<00:00, 870.22it/s]\n",
      "c:\\Users\\user\\anaconda3\\lib\\site-packages\\sklearn\\discriminant_analysis.py:926: UserWarning: Variables are collinear\n",
      "  warnings.warn(\"Variables are collinear\")\n",
      "c:\\Users\\user\\anaconda3\\lib\\site-packages\\sklearn\\discriminant_analysis.py:926: UserWarning: Variables are collinear\n",
      "  warnings.warn(\"Variables are collinear\")\n",
      "c:\\Users\\user\\anaconda3\\lib\\site-packages\\sklearn\\discriminant_analysis.py:926: UserWarning: Variables are collinear\n",
      "  warnings.warn(\"Variables are collinear\")\n",
      "c:\\Users\\user\\anaconda3\\lib\\site-packages\\sklearn\\discriminant_analysis.py:926: UserWarning: Variables are collinear\n",
      "  warnings.warn(\"Variables are collinear\")\n",
      "c:\\Users\\user\\anaconda3\\lib\\site-packages\\sklearn\\discriminant_analysis.py:926: UserWarning: Variables are collinear\n",
      "  warnings.warn(\"Variables are collinear\")\n",
      "c:\\Users\\user\\anaconda3\\lib\\site-packages\\sklearn\\discriminant_analysis.py:926: UserWarning: Variables are collinear\n",
      "  warnings.warn(\"Variables are collinear\")\n",
      "c:\\Users\\user\\anaconda3\\lib\\site-packages\\sklearn\\discriminant_analysis.py:926: UserWarning: Variables are collinear\n",
      "  warnings.warn(\"Variables are collinear\")\n"
     ]
    },
    {
     "name": "stdout",
     "output_type": "stream",
     "text": [
      "model: Adam, dataset: ionosphere,  Mean accuracy 0.8514951418080121\n",
      "model: LDA, dataset: ionosphere,  Mean accuracy 0.829551938463158\n"
     ]
    },
    {
     "name": "stderr",
     "output_type": "stream",
     "text": [
      "c:\\Users\\user\\anaconda3\\lib\\site-packages\\sklearn\\discriminant_analysis.py:926: UserWarning: Variables are collinear\n",
      "  warnings.warn(\"Variables are collinear\")\n",
      "c:\\Users\\user\\anaconda3\\lib\\site-packages\\sklearn\\discriminant_analysis.py:926: UserWarning: Variables are collinear\n",
      "  warnings.warn(\"Variables are collinear\")\n",
      "c:\\Users\\user\\anaconda3\\lib\\site-packages\\sklearn\\discriminant_analysis.py:926: UserWarning: Variables are collinear\n",
      "  warnings.warn(\"Variables are collinear\")\n"
     ]
    },
    {
     "name": "stdout",
     "output_type": "stream",
     "text": [
      "model: QDA, dataset: ionosphere,  Mean accuracy 0.8782180380635441\n",
      "model: RandomForest, dataset: ionosphere,  Mean accuracy 0.9311828706596772\n",
      "model: DecisionTree, dataset: ionosphere,  Mean accuracy 0.8687842585704878\n"
     ]
    },
    {
     "name": "stderr",
     "output_type": "stream",
     "text": [
      "Model training:  12%|█▏        | 59/500 [00:00<00:04, 100.98it/s]\n"
     ]
    },
    {
     "name": "stdout",
     "output_type": "stream",
     "text": [
      "Early stopping!\n"
     ]
    },
    {
     "name": "stderr",
     "output_type": "stream",
     "text": [
      "Model training:  12%|█▏        | 60/500 [00:00<00:04, 99.47it/s] \n"
     ]
    },
    {
     "name": "stdout",
     "output_type": "stream",
     "text": [
      "Early stopping!\n"
     ]
    },
    {
     "name": "stderr",
     "output_type": "stream",
     "text": [
      "Model training:  12%|█▏        | 61/500 [00:01<00:08, 49.80it/s]\n"
     ]
    },
    {
     "name": "stdout",
     "output_type": "stream",
     "text": [
      "Early stopping!\n"
     ]
    },
    {
     "name": "stderr",
     "output_type": "stream",
     "text": [
      "Model training:  11%|█▏        | 57/500 [00:00<00:05, 74.32it/s]\n"
     ]
    },
    {
     "name": "stdout",
     "output_type": "stream",
     "text": [
      "Early stopping!\n"
     ]
    },
    {
     "name": "stderr",
     "output_type": "stream",
     "text": [
      "Model training:  14%|█▍        | 71/500 [00:00<00:05, 72.03it/s]\n"
     ]
    },
    {
     "name": "stdout",
     "output_type": "stream",
     "text": [
      "Early stopping!\n"
     ]
    },
    {
     "name": "stderr",
     "output_type": "stream",
     "text": [
      "Model training:  13%|█▎        | 63/500 [00:00<00:06, 64.78it/s]\n"
     ]
    },
    {
     "name": "stdout",
     "output_type": "stream",
     "text": [
      "Early stopping!\n"
     ]
    },
    {
     "name": "stderr",
     "output_type": "stream",
     "text": [
      "Model training:  14%|█▍        | 69/500 [00:00<00:05, 80.05it/s]\n"
     ]
    },
    {
     "name": "stdout",
     "output_type": "stream",
     "text": [
      "Early stopping!\n"
     ]
    },
    {
     "name": "stderr",
     "output_type": "stream",
     "text": [
      "Model training:  13%|█▎        | 63/500 [00:00<00:06, 70.79it/s]\n"
     ]
    },
    {
     "name": "stdout",
     "output_type": "stream",
     "text": [
      "Early stopping!\n"
     ]
    },
    {
     "name": "stderr",
     "output_type": "stream",
     "text": [
      "Model training:  13%|█▎        | 67/500 [00:01<00:06, 65.65it/s]\n"
     ]
    },
    {
     "name": "stdout",
     "output_type": "stream",
     "text": [
      "Early stopping!\n"
     ]
    },
    {
     "name": "stderr",
     "output_type": "stream",
     "text": [
      "Model training:  14%|█▎        | 68/500 [00:00<00:04, 105.26it/s]\n"
     ]
    },
    {
     "name": "stdout",
     "output_type": "stream",
     "text": [
      "Early stopping!\n",
      "model: SGD, dataset: breast_cancer,  Mean accuracy 0.9278470513048619\n"
     ]
    },
    {
     "name": "stderr",
     "output_type": "stream",
     "text": [
      "Model training:   0%|          | 0/500 [00:00<?, ?it/s]c:\\Users\\user\\Documents\\GitHub\\Advanced-Machine-Learning\\project_1\\utils.py:17: RuntimeWarning: divide by zero encountered in true_divide\n",
      "  return np.log(a/(1-a))\n",
      "c:\\Users\\user\\Documents\\GitHub\\Advanced-Machine-Learning\\project_1\\utils.py:20: RuntimeWarning: divide by zero encountered in true_divide\n",
      "  return 1/(a*(1-a))\n",
      "c:\\Users\\user\\Documents\\GitHub\\Advanced-Machine-Learning\\project_1\\optimizers.py:116: RuntimeWarning: invalid value encountered in multiply\n",
      "  W = np.diag(1 / (logit_derivative(p)**2 * p*(1-p)))\n",
      "Model training:  10%|█         | 50/500 [00:00<00:03, 117.92it/s]\n"
     ]
    },
    {
     "name": "stdout",
     "output_type": "stream",
     "text": [
      "Early stopping!\n"
     ]
    },
    {
     "name": "stderr",
     "output_type": "stream",
     "text": [
      "Model training:   0%|          | 0/500 [00:00<?, ?it/s]c:\\Users\\user\\Documents\\GitHub\\Advanced-Machine-Learning\\project_1\\utils.py:17: RuntimeWarning: divide by zero encountered in true_divide\n",
      "  return np.log(a/(1-a))\n",
      "c:\\Users\\user\\Documents\\GitHub\\Advanced-Machine-Learning\\project_1\\utils.py:20: RuntimeWarning: divide by zero encountered in true_divide\n",
      "  return 1/(a*(1-a))\n",
      "c:\\Users\\user\\Documents\\GitHub\\Advanced-Machine-Learning\\project_1\\optimizers.py:116: RuntimeWarning: invalid value encountered in multiply\n",
      "  W = np.diag(1 / (logit_derivative(p)**2 * p*(1-p)))\n",
      "Model training:  10%|█         | 50/500 [00:00<00:06, 71.26it/s]\n"
     ]
    },
    {
     "name": "stdout",
     "output_type": "stream",
     "text": [
      "Early stopping!\n"
     ]
    },
    {
     "name": "stderr",
     "output_type": "stream",
     "text": [
      "Model training:   0%|          | 0/500 [00:00<?, ?it/s]c:\\Users\\user\\Documents\\GitHub\\Advanced-Machine-Learning\\project_1\\utils.py:17: RuntimeWarning: divide by zero encountered in true_divide\n",
      "  return np.log(a/(1-a))\n",
      "c:\\Users\\user\\Documents\\GitHub\\Advanced-Machine-Learning\\project_1\\utils.py:20: RuntimeWarning: divide by zero encountered in true_divide\n",
      "  return 1/(a*(1-a))\n",
      "c:\\Users\\user\\Documents\\GitHub\\Advanced-Machine-Learning\\project_1\\optimizers.py:116: RuntimeWarning: invalid value encountered in multiply\n",
      "  W = np.diag(1 / (logit_derivative(p)**2 * p*(1-p)))\n",
      "Model training:  11%|█         | 55/500 [00:00<00:03, 126.85it/s]\n"
     ]
    },
    {
     "name": "stdout",
     "output_type": "stream",
     "text": [
      "Early stopping!\n"
     ]
    },
    {
     "name": "stderr",
     "output_type": "stream",
     "text": [
      "Model training:   0%|          | 0/500 [00:00<?, ?it/s]c:\\Users\\user\\Documents\\GitHub\\Advanced-Machine-Learning\\project_1\\utils.py:17: RuntimeWarning: divide by zero encountered in true_divide\n",
      "  return np.log(a/(1-a))\n",
      "c:\\Users\\user\\Documents\\GitHub\\Advanced-Machine-Learning\\project_1\\utils.py:20: RuntimeWarning: divide by zero encountered in true_divide\n",
      "  return 1/(a*(1-a))\n",
      "c:\\Users\\user\\Documents\\GitHub\\Advanced-Machine-Learning\\project_1\\optimizers.py:116: RuntimeWarning: invalid value encountered in multiply\n",
      "  W = np.diag(1 / (logit_derivative(p)**2 * p*(1-p)))\n",
      "Model training:  11%|█         | 55/500 [00:00<00:03, 138.36it/s]\n"
     ]
    },
    {
     "name": "stdout",
     "output_type": "stream",
     "text": [
      "Early stopping!\n"
     ]
    },
    {
     "name": "stderr",
     "output_type": "stream",
     "text": [
      "Model training:   0%|          | 0/500 [00:00<?, ?it/s]c:\\Users\\user\\Documents\\GitHub\\Advanced-Machine-Learning\\project_1\\utils.py:17: RuntimeWarning: divide by zero encountered in true_divide\n",
      "  return np.log(a/(1-a))\n",
      "c:\\Users\\user\\Documents\\GitHub\\Advanced-Machine-Learning\\project_1\\utils.py:20: RuntimeWarning: divide by zero encountered in true_divide\n",
      "  return 1/(a*(1-a))\n",
      "c:\\Users\\user\\Documents\\GitHub\\Advanced-Machine-Learning\\project_1\\optimizers.py:116: RuntimeWarning: invalid value encountered in multiply\n",
      "  W = np.diag(1 / (logit_derivative(p)**2 * p*(1-p)))\n",
      "Model training:  11%|█         | 55/500 [00:00<00:03, 131.89it/s]\n"
     ]
    },
    {
     "name": "stdout",
     "output_type": "stream",
     "text": [
      "Early stopping!\n"
     ]
    },
    {
     "name": "stderr",
     "output_type": "stream",
     "text": [
      "Model training:   1%|          | 6/500 [00:00<00:08, 58.82it/s]c:\\Users\\user\\Documents\\GitHub\\Advanced-Machine-Learning\\project_1\\utils.py:17: RuntimeWarning: divide by zero encountered in true_divide\n",
      "  return np.log(a/(1-a))\n",
      "c:\\Users\\user\\Documents\\GitHub\\Advanced-Machine-Learning\\project_1\\utils.py:20: RuntimeWarning: divide by zero encountered in true_divide\n",
      "  return 1/(a*(1-a))\n",
      "c:\\Users\\user\\Documents\\GitHub\\Advanced-Machine-Learning\\project_1\\optimizers.py:116: RuntimeWarning: invalid value encountered in multiply\n",
      "  W = np.diag(1 / (logit_derivative(p)**2 * p*(1-p)))\n",
      "Model training:  10%|█         | 50/500 [00:00<00:03, 118.26it/s]\n"
     ]
    },
    {
     "name": "stdout",
     "output_type": "stream",
     "text": [
      "Early stopping!\n"
     ]
    },
    {
     "name": "stderr",
     "output_type": "stream",
     "text": [
      "Model training:   0%|          | 0/500 [00:00<?, ?it/s]c:\\Users\\user\\Documents\\GitHub\\Advanced-Machine-Learning\\project_1\\utils.py:17: RuntimeWarning: divide by zero encountered in true_divide\n",
      "  return np.log(a/(1-a))\n",
      "c:\\Users\\user\\Documents\\GitHub\\Advanced-Machine-Learning\\project_1\\utils.py:20: RuntimeWarning: divide by zero encountered in true_divide\n",
      "  return 1/(a*(1-a))\n",
      "c:\\Users\\user\\Documents\\GitHub\\Advanced-Machine-Learning\\project_1\\optimizers.py:116: RuntimeWarning: invalid value encountered in multiply\n",
      "  W = np.diag(1 / (logit_derivative(p)**2 * p*(1-p)))\n",
      "Model training:  11%|█         | 55/500 [00:00<00:03, 121.68it/s]\n"
     ]
    },
    {
     "name": "stdout",
     "output_type": "stream",
     "text": [
      "Early stopping!\n"
     ]
    },
    {
     "name": "stderr",
     "output_type": "stream",
     "text": [
      "Model training:   0%|          | 2/500 [00:00<00:31, 15.62it/s]c:\\Users\\user\\Documents\\GitHub\\Advanced-Machine-Learning\\project_1\\utils.py:17: RuntimeWarning: divide by zero encountered in true_divide\n",
      "  return np.log(a/(1-a))\n",
      "c:\\Users\\user\\Documents\\GitHub\\Advanced-Machine-Learning\\project_1\\utils.py:20: RuntimeWarning: divide by zero encountered in true_divide\n",
      "  return 1/(a*(1-a))\n",
      "c:\\Users\\user\\Documents\\GitHub\\Advanced-Machine-Learning\\project_1\\optimizers.py:116: RuntimeWarning: invalid value encountered in multiply\n",
      "  W = np.diag(1 / (logit_derivative(p)**2 * p*(1-p)))\n",
      "Model training:  10%|█         | 50/500 [00:00<00:04, 111.86it/s]\n"
     ]
    },
    {
     "name": "stdout",
     "output_type": "stream",
     "text": [
      "Early stopping!\n"
     ]
    },
    {
     "name": "stderr",
     "output_type": "stream",
     "text": [
      "Model training:   1%|          | 6/500 [00:00<00:17, 28.17it/s]c:\\Users\\user\\Documents\\GitHub\\Advanced-Machine-Learning\\project_1\\utils.py:17: RuntimeWarning: divide by zero encountered in true_divide\n",
      "  return np.log(a/(1-a))\n",
      "c:\\Users\\user\\Documents\\GitHub\\Advanced-Machine-Learning\\project_1\\utils.py:20: RuntimeWarning: divide by zero encountered in true_divide\n",
      "  return 1/(a*(1-a))\n",
      "c:\\Users\\user\\Documents\\GitHub\\Advanced-Machine-Learning\\project_1\\optimizers.py:116: RuntimeWarning: invalid value encountered in multiply\n",
      "  W = np.diag(1 / (logit_derivative(p)**2 * p*(1-p)))\n",
      "Model training:  10%|█         | 50/500 [00:00<00:06, 73.53it/s]\n"
     ]
    },
    {
     "name": "stdout",
     "output_type": "stream",
     "text": [
      "Early stopping!\n"
     ]
    },
    {
     "name": "stderr",
     "output_type": "stream",
     "text": [
      "Model training:   1%|          | 6/500 [00:00<00:08, 57.69it/s]c:\\Users\\user\\Documents\\GitHub\\Advanced-Machine-Learning\\project_1\\utils.py:17: RuntimeWarning: divide by zero encountered in true_divide\n",
      "  return np.log(a/(1-a))\n",
      "c:\\Users\\user\\Documents\\GitHub\\Advanced-Machine-Learning\\project_1\\utils.py:20: RuntimeWarning: divide by zero encountered in true_divide\n",
      "  return 1/(a*(1-a))\n",
      "c:\\Users\\user\\Documents\\GitHub\\Advanced-Machine-Learning\\project_1\\optimizers.py:116: RuntimeWarning: invalid value encountered in multiply\n",
      "  W = np.diag(1 / (logit_derivative(p)**2 * p*(1-p)))\n",
      "Model training:  11%|█         | 55/500 [00:00<00:03, 113.68it/s]\n"
     ]
    },
    {
     "name": "stdout",
     "output_type": "stream",
     "text": [
      "Early stopping!\n",
      "model: IWLS, dataset: breast_cancer,  Mean accuracy 0.9547667878804529\n"
     ]
    },
    {
     "name": "stderr",
     "output_type": "stream",
     "text": [
      "Model training:  53%|█████▎    | 266/500 [00:00<00:00, 426.95it/s]\n"
     ]
    },
    {
     "name": "stdout",
     "output_type": "stream",
     "text": [
      "Early stopping!\n"
     ]
    },
    {
     "name": "stderr",
     "output_type": "stream",
     "text": [
      "Model training:  35%|███▌      | 176/500 [00:00<00:00, 438.91it/s]\n"
     ]
    },
    {
     "name": "stdout",
     "output_type": "stream",
     "text": [
      "Early stopping!\n"
     ]
    },
    {
     "name": "stderr",
     "output_type": "stream",
     "text": [
      "Model training: 100%|██████████| 500/500 [00:01<00:00, 448.01it/s]\n",
      "Model training:  45%|████▌     | 225/500 [00:00<00:00, 474.65it/s]\n"
     ]
    },
    {
     "name": "stdout",
     "output_type": "stream",
     "text": [
      "Early stopping!\n"
     ]
    },
    {
     "name": "stderr",
     "output_type": "stream",
     "text": [
      "Model training: 100%|██████████| 500/500 [00:01<00:00, 399.38it/s]\n",
      "Model training: 100%|██████████| 500/500 [00:01<00:00, 490.52it/s]\n",
      "Model training:  36%|███▌      | 181/500 [00:00<00:00, 451.19it/s]\n"
     ]
    },
    {
     "name": "stdout",
     "output_type": "stream",
     "text": [
      "Early stopping!\n"
     ]
    },
    {
     "name": "stderr",
     "output_type": "stream",
     "text": [
      "Model training:  28%|██▊       | 142/500 [00:00<00:00, 378.63it/s]\n"
     ]
    },
    {
     "name": "stdout",
     "output_type": "stream",
     "text": [
      "Early stopping!\n"
     ]
    },
    {
     "name": "stderr",
     "output_type": "stream",
     "text": [
      "Model training:  34%|███▍      | 172/500 [00:00<00:00, 395.53it/s]\n"
     ]
    },
    {
     "name": "stdout",
     "output_type": "stream",
     "text": [
      "Early stopping!\n"
     ]
    },
    {
     "name": "stderr",
     "output_type": "stream",
     "text": [
      "Model training: 100%|██████████| 500/500 [00:00<00:00, 526.53it/s]\n"
     ]
    },
    {
     "name": "stdout",
     "output_type": "stream",
     "text": [
      "model: Adam, dataset: breast_cancer,  Mean accuracy 0.9589867645298866\n",
      "model: LDA, dataset: breast_cancer,  Mean accuracy 0.9505769446430323\n",
      "model: QDA, dataset: breast_cancer,  Mean accuracy 0.9626364328014946\n",
      "model: RandomForest, dataset: breast_cancer,  Mean accuracy 0.9433387845815361\n",
      "model: DecisionTree, dataset: breast_cancer,  Mean accuracy 0.928659702017851\n"
     ]
    },
    {
     "name": "stderr",
     "output_type": "stream",
     "text": [
      "Model training:  10%|█         | 50/500 [00:00<00:05, 76.44it/s]\n"
     ]
    },
    {
     "name": "stdout",
     "output_type": "stream",
     "text": [
      "Early stopping!\n"
     ]
    },
    {
     "name": "stderr",
     "output_type": "stream",
     "text": [
      "Model training:  11%|█         | 53/500 [00:00<00:05, 78.65it/s]\n"
     ]
    },
    {
     "name": "stdout",
     "output_type": "stream",
     "text": [
      "Early stopping!\n"
     ]
    },
    {
     "name": "stderr",
     "output_type": "stream",
     "text": [
      "Model training:  11%|█         | 54/500 [00:00<00:05, 77.08it/s]\n"
     ]
    },
    {
     "name": "stdout",
     "output_type": "stream",
     "text": [
      "Early stopping!\n"
     ]
    },
    {
     "name": "stderr",
     "output_type": "stream",
     "text": [
      "Model training:  11%|█         | 55/500 [00:00<00:05, 77.80it/s]\n"
     ]
    },
    {
     "name": "stdout",
     "output_type": "stream",
     "text": [
      "Early stopping!\n"
     ]
    },
    {
     "name": "stderr",
     "output_type": "stream",
     "text": [
      "Model training:  11%|█         | 54/500 [00:00<00:05, 74.48it/s]\n"
     ]
    },
    {
     "name": "stdout",
     "output_type": "stream",
     "text": [
      "Early stopping!\n"
     ]
    },
    {
     "name": "stderr",
     "output_type": "stream",
     "text": [
      "Model training:  15%|█▌        | 75/500 [00:00<00:05, 79.51it/s]\n"
     ]
    },
    {
     "name": "stdout",
     "output_type": "stream",
     "text": [
      "Early stopping!\n"
     ]
    },
    {
     "name": "stderr",
     "output_type": "stream",
     "text": [
      "Model training:  10%|█         | 51/500 [00:00<00:08, 53.54it/s]\n"
     ]
    },
    {
     "name": "stdout",
     "output_type": "stream",
     "text": [
      "Early stopping!\n"
     ]
    },
    {
     "name": "stderr",
     "output_type": "stream",
     "text": [
      "Model training:  13%|█▎        | 66/500 [00:00<00:05, 80.52it/s]\n"
     ]
    },
    {
     "name": "stdout",
     "output_type": "stream",
     "text": [
      "Early stopping!\n"
     ]
    },
    {
     "name": "stderr",
     "output_type": "stream",
     "text": [
      "Model training:  12%|█▏        | 61/500 [00:00<00:05, 81.31it/s]\n"
     ]
    },
    {
     "name": "stdout",
     "output_type": "stream",
     "text": [
      "Early stopping!\n"
     ]
    },
    {
     "name": "stderr",
     "output_type": "stream",
     "text": [
      "Model training:  11%|█         | 55/500 [00:00<00:05, 79.56it/s]\n"
     ]
    },
    {
     "name": "stdout",
     "output_type": "stream",
     "text": [
      "Early stopping!\n",
      "model: SGD, dataset: airline,  Mean accuracy 0.7788071217046797\n"
     ]
    },
    {
     "name": "stderr",
     "output_type": "stream",
     "text": [
      "Model training:   3%|▎         | 14/500 [00:00<00:03, 121.73it/s]\n"
     ]
    },
    {
     "name": "stdout",
     "output_type": "stream",
     "text": [
      "Convergence detected\n"
     ]
    },
    {
     "name": "stderr",
     "output_type": "stream",
     "text": [
      "Model training:   3%|▎         | 14/500 [00:00<00:04, 119.66it/s]\n"
     ]
    },
    {
     "name": "stdout",
     "output_type": "stream",
     "text": [
      "Convergence detected\n"
     ]
    },
    {
     "name": "stderr",
     "output_type": "stream",
     "text": [
      "Model training:   3%|▎         | 14/500 [00:00<00:05, 95.89it/s]\n"
     ]
    },
    {
     "name": "stdout",
     "output_type": "stream",
     "text": [
      "Convergence detected\n"
     ]
    },
    {
     "name": "stderr",
     "output_type": "stream",
     "text": [
      "Model training:   3%|▎         | 14/500 [00:00<00:04, 112.00it/s]\n"
     ]
    },
    {
     "name": "stdout",
     "output_type": "stream",
     "text": [
      "Convergence detected\n"
     ]
    },
    {
     "name": "stderr",
     "output_type": "stream",
     "text": [
      "Model training:   3%|▎         | 14/500 [00:00<00:04, 120.70it/s]\n"
     ]
    },
    {
     "name": "stdout",
     "output_type": "stream",
     "text": [
      "Convergence detected\n"
     ]
    },
    {
     "name": "stderr",
     "output_type": "stream",
     "text": [
      "Model training:   3%|▎         | 14/500 [00:00<00:04, 99.28it/s] \n"
     ]
    },
    {
     "name": "stdout",
     "output_type": "stream",
     "text": [
      "Convergence detected\n"
     ]
    },
    {
     "name": "stderr",
     "output_type": "stream",
     "text": [
      "Model training:   3%|▎         | 14/500 [00:00<00:04, 118.91it/s]\n"
     ]
    },
    {
     "name": "stdout",
     "output_type": "stream",
     "text": [
      "Convergence detected\n"
     ]
    },
    {
     "name": "stderr",
     "output_type": "stream",
     "text": [
      "Model training:   3%|▎         | 14/500 [00:00<00:04, 117.65it/s]\n"
     ]
    },
    {
     "name": "stdout",
     "output_type": "stream",
     "text": [
      "Convergence detected\n"
     ]
    },
    {
     "name": "stderr",
     "output_type": "stream",
     "text": [
      "Model training:   3%|▎         | 14/500 [00:00<00:04, 112.91it/s]\n"
     ]
    },
    {
     "name": "stdout",
     "output_type": "stream",
     "text": [
      "Convergence detected\n"
     ]
    },
    {
     "name": "stderr",
     "output_type": "stream",
     "text": [
      "Model training:   3%|▎         | 14/500 [00:00<00:04, 97.91it/s]\n"
     ]
    },
    {
     "name": "stdout",
     "output_type": "stream",
     "text": [
      "Convergence detected\n",
      "model: IWLS, dataset: airline,  Mean accuracy 0.8809107970782021\n"
     ]
    },
    {
     "name": "stderr",
     "output_type": "stream",
     "text": [
      "Model training:  28%|██▊       | 140/500 [00:00<00:00, 406.94it/s]\n"
     ]
    },
    {
     "name": "stdout",
     "output_type": "stream",
     "text": [
      "Early stopping!\n"
     ]
    },
    {
     "name": "stderr",
     "output_type": "stream",
     "text": [
      "Model training:  28%|██▊       | 141/500 [00:00<00:01, 324.89it/s]\n"
     ]
    },
    {
     "name": "stdout",
     "output_type": "stream",
     "text": [
      "Early stopping!\n"
     ]
    },
    {
     "name": "stderr",
     "output_type": "stream",
     "text": [
      "Model training:  19%|█▉        | 94/500 [00:00<00:01, 300.32it/s]\n"
     ]
    },
    {
     "name": "stdout",
     "output_type": "stream",
     "text": [
      "Early stopping!\n"
     ]
    },
    {
     "name": "stderr",
     "output_type": "stream",
     "text": [
      "Model training:  53%|█████▎    | 265/500 [00:01<00:00, 248.49it/s]\n"
     ]
    },
    {
     "name": "stdout",
     "output_type": "stream",
     "text": [
      "Early stopping!\n"
     ]
    },
    {
     "name": "stderr",
     "output_type": "stream",
     "text": [
      "Model training:  25%|██▌       | 125/500 [00:00<00:01, 322.17it/s]\n"
     ]
    },
    {
     "name": "stdout",
     "output_type": "stream",
     "text": [
      "Early stopping!\n"
     ]
    },
    {
     "name": "stderr",
     "output_type": "stream",
     "text": [
      "Model training:  40%|████      | 200/500 [00:00<00:00, 303.10it/s]\n"
     ]
    },
    {
     "name": "stdout",
     "output_type": "stream",
     "text": [
      "Early stopping!\n"
     ]
    },
    {
     "name": "stderr",
     "output_type": "stream",
     "text": [
      "Model training:  33%|███▎      | 163/500 [00:00<00:01, 326.79it/s]\n"
     ]
    },
    {
     "name": "stdout",
     "output_type": "stream",
     "text": [
      "Early stopping!\n"
     ]
    },
    {
     "name": "stderr",
     "output_type": "stream",
     "text": [
      "Model training:  52%|█████▏    | 262/500 [00:00<00:00, 345.65it/s]\n"
     ]
    },
    {
     "name": "stdout",
     "output_type": "stream",
     "text": [
      "Early stopping!\n"
     ]
    },
    {
     "name": "stderr",
     "output_type": "stream",
     "text": [
      "Model training: 100%|██████████| 500/500 [00:01<00:00, 367.21it/s]\n",
      "Model training: 100%|██████████| 500/500 [00:01<00:00, 408.39it/s]\n"
     ]
    },
    {
     "name": "stdout",
     "output_type": "stream",
     "text": [
      "model: Adam, dataset: airline,  Mean accuracy 0.8266150950384643\n",
      "model: LDA, dataset: airline,  Mean accuracy 0.8569668189942498\n",
      "model: QDA, dataset: airline,  Mean accuracy 0.8407368514194603\n",
      "model: RandomForest, dataset: airline,  Mean accuracy 0.9010511932787717\n",
      "model: DecisionTree, dataset: airline,  Mean accuracy 0.8899159435983777\n"
     ]
    },
    {
     "name": "stderr",
     "output_type": "stream",
     "text": [
      "Model training:  10%|█         | 51/500 [00:00<00:03, 133.67it/s]\n"
     ]
    },
    {
     "name": "stdout",
     "output_type": "stream",
     "text": [
      "Early stopping!\n"
     ]
    },
    {
     "name": "stderr",
     "output_type": "stream",
     "text": [
      "Model training:  10%|█         | 50/500 [00:00<00:03, 115.47it/s]\n"
     ]
    },
    {
     "name": "stdout",
     "output_type": "stream",
     "text": [
      "Early stopping!\n"
     ]
    },
    {
     "name": "stderr",
     "output_type": "stream",
     "text": [
      "Model training:  10%|█         | 50/500 [00:00<00:03, 137.49it/s]\n"
     ]
    },
    {
     "name": "stdout",
     "output_type": "stream",
     "text": [
      "Early stopping!\n"
     ]
    },
    {
     "name": "stderr",
     "output_type": "stream",
     "text": [
      "Model training:  10%|█         | 50/500 [00:00<00:03, 135.10it/s]\n"
     ]
    },
    {
     "name": "stdout",
     "output_type": "stream",
     "text": [
      "Early stopping!\n"
     ]
    },
    {
     "name": "stderr",
     "output_type": "stream",
     "text": [
      "Model training:  10%|█         | 50/500 [00:00<00:03, 130.85it/s]\n"
     ]
    },
    {
     "name": "stdout",
     "output_type": "stream",
     "text": [
      "Early stopping!\n"
     ]
    },
    {
     "name": "stderr",
     "output_type": "stream",
     "text": [
      "Model training:  10%|█         | 50/500 [00:00<00:03, 132.18it/s]\n"
     ]
    },
    {
     "name": "stdout",
     "output_type": "stream",
     "text": [
      "Early stopping!\n"
     ]
    },
    {
     "name": "stderr",
     "output_type": "stream",
     "text": [
      "Model training:  10%|█         | 50/500 [00:00<00:03, 140.18it/s]\n"
     ]
    },
    {
     "name": "stdout",
     "output_type": "stream",
     "text": [
      "Early stopping!\n"
     ]
    },
    {
     "name": "stderr",
     "output_type": "stream",
     "text": [
      "Model training:  11%|█         | 54/500 [00:00<00:03, 121.78it/s]\n"
     ]
    },
    {
     "name": "stdout",
     "output_type": "stream",
     "text": [
      "Early stopping!\n"
     ]
    },
    {
     "name": "stderr",
     "output_type": "stream",
     "text": [
      "Model training:  11%|█         | 56/500 [00:00<00:03, 137.98it/s]\n"
     ]
    },
    {
     "name": "stdout",
     "output_type": "stream",
     "text": [
      "Early stopping!\n"
     ]
    },
    {
     "name": "stderr",
     "output_type": "stream",
     "text": [
      "Model training:  10%|█         | 50/500 [00:00<00:05, 81.82it/s] \n"
     ]
    },
    {
     "name": "stdout",
     "output_type": "stream",
     "text": [
      "Early stopping!\n",
      "model: SGD, dataset: pcos,  Mean accuracy 0.7720406027561606\n"
     ]
    },
    {
     "name": "stderr",
     "output_type": "stream",
     "text": [
      "Model training:   3%|▎         | 16/500 [00:00<00:02, 235.29it/s]\n"
     ]
    },
    {
     "name": "stdout",
     "output_type": "stream",
     "text": [
      "Convergence detected\n"
     ]
    },
    {
     "name": "stderr",
     "output_type": "stream",
     "text": [
      "Model training:   3%|▎         | 17/500 [00:00<00:02, 232.89it/s]\n"
     ]
    },
    {
     "name": "stdout",
     "output_type": "stream",
     "text": [
      "Convergence detected\n"
     ]
    },
    {
     "name": "stderr",
     "output_type": "stream",
     "text": [
      "Model training:   0%|          | 0/500 [00:00<?, ?it/s]c:\\Users\\user\\Documents\\GitHub\\Advanced-Machine-Learning\\project_1\\utils.py:17: RuntimeWarning: divide by zero encountered in true_divide\n",
      "  return np.log(a/(1-a))\n",
      "c:\\Users\\user\\Documents\\GitHub\\Advanced-Machine-Learning\\project_1\\utils.py:20: RuntimeWarning: divide by zero encountered in true_divide\n",
      "  return 1/(a*(1-a))\n",
      "c:\\Users\\user\\Documents\\GitHub\\Advanced-Machine-Learning\\project_1\\optimizers.py:116: RuntimeWarning: invalid value encountered in multiply\n",
      "  W = np.diag(1 / (logit_derivative(p)**2 * p*(1-p)))\n",
      "Model training:   5%|▌         | 27/500 [00:00<00:01, 262.15it/s]"
     ]
    },
    {
     "name": "stdout",
     "output_type": "stream",
     "text": [
      "Early stopping!"
     ]
    },
    {
     "name": "stderr",
     "output_type": "stream",
     "text": [
      "Model training:  10%|█         | 50/500 [00:00<00:01, 277.79it/s]\n"
     ]
    },
    {
     "name": "stdout",
     "output_type": "stream",
     "text": [
      "\n"
     ]
    },
    {
     "name": "stderr",
     "output_type": "stream",
     "text": [
      "Model training:   0%|          | 0/500 [00:00<?, ?it/s]c:\\Users\\user\\Documents\\GitHub\\Advanced-Machine-Learning\\project_1\\utils.py:17: RuntimeWarning: divide by zero encountered in true_divide\n",
      "  return np.log(a/(1-a))\n",
      "c:\\Users\\user\\Documents\\GitHub\\Advanced-Machine-Learning\\project_1\\utils.py:20: RuntimeWarning: divide by zero encountered in true_divide\n",
      "  return 1/(a*(1-a))\n",
      "c:\\Users\\user\\Documents\\GitHub\\Advanced-Machine-Learning\\project_1\\optimizers.py:116: RuntimeWarning: invalid value encountered in multiply\n",
      "  W = np.diag(1 / (logit_derivative(p)**2 * p*(1-p)))\n",
      "Model training:  10%|█         | 50/500 [00:00<00:01, 251.26it/s]\n"
     ]
    },
    {
     "name": "stdout",
     "output_type": "stream",
     "text": [
      "Early stopping!\n"
     ]
    },
    {
     "name": "stderr",
     "output_type": "stream",
     "text": [
      "Model training:   0%|          | 0/500 [00:00<?, ?it/s]c:\\Users\\user\\Documents\\GitHub\\Advanced-Machine-Learning\\project_1\\utils.py:17: RuntimeWarning: divide by zero encountered in true_divide\n",
      "  return np.log(a/(1-a))\n",
      "c:\\Users\\user\\Documents\\GitHub\\Advanced-Machine-Learning\\project_1\\utils.py:20: RuntimeWarning: divide by zero encountered in true_divide\n",
      "  return 1/(a*(1-a))\n",
      "c:\\Users\\user\\Documents\\GitHub\\Advanced-Machine-Learning\\project_1\\optimizers.py:116: RuntimeWarning: invalid value encountered in multiply\n",
      "  W = np.diag(1 / (logit_derivative(p)**2 * p*(1-p)))\n",
      "Model training:   6%|▌         | 29/500 [00:00<00:01, 288.11it/s]"
     ]
    },
    {
     "name": "stdout",
     "output_type": "stream",
     "text": [
      "Early stopping!"
     ]
    },
    {
     "name": "stderr",
     "output_type": "stream",
     "text": [
      "Model training:  10%|█         | 50/500 [00:00<00:01, 291.12it/s]\n"
     ]
    },
    {
     "name": "stdout",
     "output_type": "stream",
     "text": [
      "\n"
     ]
    },
    {
     "name": "stderr",
     "output_type": "stream",
     "text": [
      "Model training:   4%|▎         | 18/500 [00:00<00:02, 211.77it/s]\n"
     ]
    },
    {
     "name": "stdout",
     "output_type": "stream",
     "text": [
      "Convergence detected\n"
     ]
    },
    {
     "name": "stderr",
     "output_type": "stream",
     "text": [
      "Model training:   0%|          | 0/500 [00:00<?, ?it/s]c:\\Users\\user\\Documents\\GitHub\\Advanced-Machine-Learning\\project_1\\utils.py:17: RuntimeWarning: divide by zero encountered in true_divide\n",
      "  return np.log(a/(1-a))\n",
      "c:\\Users\\user\\Documents\\GitHub\\Advanced-Machine-Learning\\project_1\\utils.py:20: RuntimeWarning: divide by zero encountered in true_divide\n",
      "  return 1/(a*(1-a))\n",
      "c:\\Users\\user\\Documents\\GitHub\\Advanced-Machine-Learning\\project_1\\optimizers.py:116: RuntimeWarning: invalid value encountered in multiply\n",
      "  W = np.diag(1 / (logit_derivative(p)**2 * p*(1-p)))\n",
      "Model training:   4%|▍         | 22/500 [00:00<00:02, 217.83it/s]"
     ]
    },
    {
     "name": "stdout",
     "output_type": "stream",
     "text": [
      "Early stopping!"
     ]
    },
    {
     "name": "stderr",
     "output_type": "stream",
     "text": [
      "Model training:  10%|█         | 50/500 [00:00<00:01, 256.42it/s]\n"
     ]
    },
    {
     "name": "stdout",
     "output_type": "stream",
     "text": [
      "\n"
     ]
    },
    {
     "name": "stderr",
     "output_type": "stream",
     "text": [
      "Model training:   4%|▎         | 18/500 [00:00<00:02, 219.52it/s]\n"
     ]
    },
    {
     "name": "stdout",
     "output_type": "stream",
     "text": [
      "Convergence detected\n"
     ]
    },
    {
     "name": "stderr",
     "output_type": "stream",
     "text": [
      "Model training:   0%|          | 0/500 [00:00<?, ?it/s]"
     ]
    },
    {
     "name": "stdout",
     "output_type": "stream",
     "text": [
      "Convergence detected"
     ]
    },
    {
     "name": "stderr",
     "output_type": "stream",
     "text": [
      "Model training:   4%|▎         | 18/500 [00:00<00:02, 236.86it/s]"
     ]
    },
    {
     "name": "stdout",
     "output_type": "stream",
     "text": [
      "\n"
     ]
    },
    {
     "name": "stderr",
     "output_type": "stream",
     "text": [
      "\n",
      "Model training:   3%|▎         | 17/500 [00:00<00:02, 238.88it/s]\n"
     ]
    },
    {
     "name": "stdout",
     "output_type": "stream",
     "text": [
      "Convergence detected\n",
      "model: IWLS, dataset: pcos,  Mean accuracy 0.851857766522552\n"
     ]
    },
    {
     "name": "stderr",
     "output_type": "stream",
     "text": [
      "Model training:  22%|██▏       | 110/500 [00:00<00:01, 242.83it/s]\n"
     ]
    },
    {
     "name": "stdout",
     "output_type": "stream",
     "text": [
      "Early stopping!\n"
     ]
    },
    {
     "name": "stderr",
     "output_type": "stream",
     "text": [
      "Model training:  44%|████▍     | 219/500 [00:00<00:00, 498.83it/s]\n"
     ]
    },
    {
     "name": "stdout",
     "output_type": "stream",
     "text": [
      "Early stopping!\n"
     ]
    },
    {
     "name": "stderr",
     "output_type": "stream",
     "text": [
      "Model training:  42%|████▏     | 208/500 [00:00<00:00, 529.07it/s]\n"
     ]
    },
    {
     "name": "stdout",
     "output_type": "stream",
     "text": [
      "Early stopping!\n"
     ]
    },
    {
     "name": "stderr",
     "output_type": "stream",
     "text": [
      "Model training:  30%|███       | 152/500 [00:00<00:00, 423.73it/s]\n"
     ]
    },
    {
     "name": "stdout",
     "output_type": "stream",
     "text": [
      "Early stopping!\n"
     ]
    },
    {
     "name": "stderr",
     "output_type": "stream",
     "text": [
      "Model training:  34%|███▍      | 171/500 [00:00<00:00, 496.55it/s]\n"
     ]
    },
    {
     "name": "stdout",
     "output_type": "stream",
     "text": [
      "Early stopping!\n"
     ]
    },
    {
     "name": "stderr",
     "output_type": "stream",
     "text": [
      "Model training:  43%|████▎     | 213/500 [00:00<00:00, 490.76it/s]\n"
     ]
    },
    {
     "name": "stdout",
     "output_type": "stream",
     "text": [
      "Early stopping!\n"
     ]
    },
    {
     "name": "stderr",
     "output_type": "stream",
     "text": [
      "Model training:  29%|██▉       | 147/500 [00:00<00:00, 404.96it/s]\n"
     ]
    },
    {
     "name": "stdout",
     "output_type": "stream",
     "text": [
      "Early stopping!\n"
     ]
    },
    {
     "name": "stderr",
     "output_type": "stream",
     "text": [
      "Model training:  22%|██▏       | 110/500 [00:00<00:00, 410.45it/s]\n"
     ]
    },
    {
     "name": "stdout",
     "output_type": "stream",
     "text": [
      "Early stopping!\n"
     ]
    },
    {
     "name": "stderr",
     "output_type": "stream",
     "text": [
      "Model training:  38%|███▊      | 192/500 [00:00<00:00, 472.73it/s]\n"
     ]
    },
    {
     "name": "stdout",
     "output_type": "stream",
     "text": [
      "Early stopping!\n"
     ]
    },
    {
     "name": "stderr",
     "output_type": "stream",
     "text": [
      "Model training:  45%|████▌     | 225/500 [00:00<00:00, 470.89it/s]\n"
     ]
    },
    {
     "name": "stdout",
     "output_type": "stream",
     "text": [
      "Early stopping!\n",
      "model: Adam, dataset: pcos,  Mean accuracy 0.8227491816827099\n",
      "model: LDA, dataset: pcos,  Mean accuracy 0.8872082118860029\n",
      "model: QDA, dataset: pcos,  Mean accuracy 0.7850398847457633\n",
      "model: RandomForest, dataset: pcos,  Mean accuracy 0.8756436672855921\n",
      "model: DecisionTree, dataset: pcos,  Mean accuracy 0.8069512313345385\n"
     ]
    }
   ],
   "source": [
    "results = {}\n",
    "num_of_experiments = 10\n",
    "for dataset_name in datasets.keys():\n",
    "    results[dataset_name] = {}\n",
    "    df = datasets[dataset_name]\n",
    "    if len(df)>1000:\n",
    "        df = df.sample(n=1000)\n",
    "    X = df.iloc[:,:-1]\n",
    "    y= df.iloc[:, -1]\n",
    "    for model_name in models.keys():\n",
    "        results[dataset_name][model_name] = {}\n",
    "        results[dataset_name][model_name]['score'] = []\n",
    "        results[dataset_name][model_name]['n_of_iterations'] = []\n",
    "        model = models[model_name]\n",
    "        if model_name in int_optimizers and dataset_name not in small_sets:\n",
    "            continue\n",
    "        for _ in range(num_of_experiments):\n",
    "            X_train, X_test, y_train, y_test = train_test_split(X, y, test_size=0.2)\n",
    "            scaler = StandardScaler()\n",
    "            scaler.fit(X_train)\n",
    "            X_train = scaler.transform(X_train)\n",
    "            X_test = scaler.transform(X_test)\n",
    "            if model_name in optimizers:\n",
    "                _, n_of_iterations = model.fit(X_train, y_train)\n",
    "            else:\n",
    "                model.fit(X_train, y_train)\n",
    "                n_of_iterations = 0\n",
    "            y_hat = model.predict(X_test)\n",
    "            acc = balanced_accuracy_score(y_test, y_hat)\n",
    "            results[dataset_name][model_name]['score'].append(acc)\n",
    "            results[dataset_name][model_name]['n_of_iterations'].append(n_of_iterations)\n",
    "        print(f'model: {model_name}, dataset: {dataset_name},  Mean accuracy {np.mean(results[dataset_name][model_name][\"score\"])}')\n",
    "        \n",
    "\n"
   ]
  },
  {
   "cell_type": "code",
   "execution_count": 27,
   "metadata": {},
   "outputs": [],
   "source": [
    "import json\n",
    "with open('results.json', 'w') as fp:\n",
    "    json.dump(results, fp)"
   ]
  },
  {
   "cell_type": "markdown",
   "metadata": {},
   "source": [
    "## Average accuracy and n_of_iterations"
   ]
  },
  {
   "cell_type": "code",
   "execution_count": 39,
   "metadata": {},
   "outputs": [
    {
     "data": {
      "text/html": [
       "<div>\n",
       "<style scoped>\n",
       "    .dataframe tbody tr th:only-of-type {\n",
       "        vertical-align: middle;\n",
       "    }\n",
       "\n",
       "    .dataframe tbody tr th {\n",
       "        vertical-align: top;\n",
       "    }\n",
       "\n",
       "    .dataframe thead th {\n",
       "        text-align: right;\n",
       "    }\n",
       "</style>\n",
       "<table border=\"1\" class=\"dataframe\">\n",
       "  <thead>\n",
       "    <tr style=\"text-align: right;\">\n",
       "      <th></th>\n",
       "      <th>SGD</th>\n",
       "      <th>IWLS</th>\n",
       "      <th>Adam</th>\n",
       "      <th>LDA</th>\n",
       "      <th>QDA</th>\n",
       "      <th>RandomForest</th>\n",
       "      <th>DecisionTree</th>\n",
       "      <th>mean</th>\n",
       "    </tr>\n",
       "  </thead>\n",
       "  <tbody>\n",
       "    <tr>\n",
       "      <th>banana</th>\n",
       "      <td>0.77</td>\n",
       "      <td>0.85</td>\n",
       "      <td>0.86</td>\n",
       "      <td>0.86</td>\n",
       "      <td>0.91</td>\n",
       "      <td>0.94</td>\n",
       "      <td>0.88</td>\n",
       "      <td>0.87</td>\n",
       "    </tr>\n",
       "    <tr>\n",
       "      <th>magic_telescope</th>\n",
       "      <td>0.72</td>\n",
       "      <td>0.74</td>\n",
       "      <td>0.71</td>\n",
       "      <td>0.71</td>\n",
       "      <td>0.73</td>\n",
       "      <td>0.76</td>\n",
       "      <td>0.73</td>\n",
       "      <td>0.73</td>\n",
       "    </tr>\n",
       "    <tr>\n",
       "      <th>penguins</th>\n",
       "      <td>0.89</td>\n",
       "      <td>0.94</td>\n",
       "      <td>0.99</td>\n",
       "      <td>1.00</td>\n",
       "      <td>0.82</td>\n",
       "      <td>1.00</td>\n",
       "      <td>1.00</td>\n",
       "      <td>0.95</td>\n",
       "    </tr>\n",
       "    <tr>\n",
       "      <th>sonar</th>\n",
       "      <td>0.71</td>\n",
       "      <td>0.72</td>\n",
       "      <td>0.76</td>\n",
       "      <td>0.75</td>\n",
       "      <td>0.72</td>\n",
       "      <td>0.80</td>\n",
       "      <td>0.74</td>\n",
       "      <td>0.74</td>\n",
       "    </tr>\n",
       "    <tr>\n",
       "      <th>ionosphere</th>\n",
       "      <td>0.84</td>\n",
       "      <td>0.82</td>\n",
       "      <td>0.85</td>\n",
       "      <td>0.83</td>\n",
       "      <td>0.88</td>\n",
       "      <td>0.93</td>\n",
       "      <td>0.87</td>\n",
       "      <td>0.86</td>\n",
       "    </tr>\n",
       "    <tr>\n",
       "      <th>breast_cancer</th>\n",
       "      <td>0.93</td>\n",
       "      <td>0.95</td>\n",
       "      <td>0.96</td>\n",
       "      <td>0.95</td>\n",
       "      <td>0.96</td>\n",
       "      <td>0.94</td>\n",
       "      <td>0.93</td>\n",
       "      <td>0.95</td>\n",
       "    </tr>\n",
       "    <tr>\n",
       "      <th>airline</th>\n",
       "      <td>0.78</td>\n",
       "      <td>0.88</td>\n",
       "      <td>0.83</td>\n",
       "      <td>0.86</td>\n",
       "      <td>0.84</td>\n",
       "      <td>0.90</td>\n",
       "      <td>0.89</td>\n",
       "      <td>0.85</td>\n",
       "    </tr>\n",
       "    <tr>\n",
       "      <th>covertype</th>\n",
       "      <td>0.61</td>\n",
       "      <td>0.69</td>\n",
       "      <td>0.68</td>\n",
       "      <td>0.69</td>\n",
       "      <td>0.58</td>\n",
       "      <td>0.74</td>\n",
       "      <td>0.64</td>\n",
       "      <td>0.66</td>\n",
       "    </tr>\n",
       "    <tr>\n",
       "      <th>pcos</th>\n",
       "      <td>0.77</td>\n",
       "      <td>0.85</td>\n",
       "      <td>0.82</td>\n",
       "      <td>0.89</td>\n",
       "      <td>0.79</td>\n",
       "      <td>0.88</td>\n",
       "      <td>0.81</td>\n",
       "      <td>0.83</td>\n",
       "    </tr>\n",
       "    <tr>\n",
       "      <th>mean</th>\n",
       "      <td>0.78</td>\n",
       "      <td>0.83</td>\n",
       "      <td>0.83</td>\n",
       "      <td>0.84</td>\n",
       "      <td>0.80</td>\n",
       "      <td>0.88</td>\n",
       "      <td>0.83</td>\n",
       "      <td>0.83</td>\n",
       "    </tr>\n",
       "  </tbody>\n",
       "</table>\n",
       "</div>"
      ],
      "text/plain": [
       "                 SGD IWLS Adam  LDA  QDA RandomForest DecisionTree  mean\n",
       "banana          0.77 0.85 0.86 0.86 0.91         0.94         0.88  0.87\n",
       "magic_telescope 0.72 0.74 0.71 0.71 0.73         0.76         0.73  0.73\n",
       "penguins        0.89 0.94 0.99 1.00 0.82         1.00         1.00  0.95\n",
       "sonar           0.71 0.72 0.76 0.75 0.72         0.80         0.74  0.74\n",
       "ionosphere      0.84 0.82 0.85 0.83 0.88         0.93         0.87  0.86\n",
       "breast_cancer   0.93 0.95 0.96 0.95 0.96         0.94         0.93  0.95\n",
       "airline         0.78 0.88 0.83 0.86 0.84         0.90         0.89  0.85\n",
       "covertype       0.61 0.69 0.68 0.69 0.58         0.74         0.64  0.66\n",
       "pcos            0.77 0.85 0.82 0.89 0.79         0.88         0.81  0.83\n",
       "mean            0.78 0.83 0.83 0.84 0.80         0.88         0.83  0.83"
      ]
     },
     "execution_count": 39,
     "metadata": {},
     "output_type": "execute_result"
    }
   ],
   "source": [
    "index_datasets = ['banana', 'magic_telescope', 'penguins', 'sonar', 'ionosphere', 'breast_cancer', 'airline', 'covertype', 'pcos']\n",
    "col_models = ['SGD', 'IWLS', 'Adam', 'LDA', 'QDA', 'RandomForest', 'DecisionTree']\n",
    "avg_df = pd.DataFrame(columns = col_models, index=index_datasets)\n",
    "for ind in index_datasets:\n",
    "    for col in col_models:\n",
    "        avg = np.mean(results[ind][col]['score'])\n",
    "        avg_df.loc[ind, col] = avg\n",
    "\n",
    "avg_df.loc['mean'] = avg_df.mean()\n",
    "\n",
    "\n",
    "avg_df['mean'] = avg_df.mean(axis=1)\n",
    "pd.options.display.float_format = '{:,.2f}'.format\n",
    "avg_df"
   ]
  },
  {
   "cell_type": "code",
   "execution_count": 40,
   "metadata": {},
   "outputs": [
    {
     "data": {
      "text/plain": [
       "'\\\\begin{tabular}{llllllllr}\\n\\\\toprule\\n{} &  SGD & IWLS & Adam &  LDA &  QDA & RandomForest & DecisionTree &  mean \\\\\\\\\\n\\\\midrule\\nbanana          & 0.77 & 0.85 & 0.86 & 0.86 & 0.91 &         0.94 &         0.88 &  0.87 \\\\\\\\\\nmagic\\\\_telescope & 0.72 & 0.74 & 0.71 & 0.71 & 0.73 &         0.76 &         0.73 &  0.73 \\\\\\\\\\npenguins        & 0.89 & 0.94 & 0.99 & 1.00 & 0.82 &         1.00 &         1.00 &  0.95 \\\\\\\\\\nsonar           & 0.71 & 0.72 & 0.76 & 0.75 & 0.72 &         0.80 &         0.74 &  0.74 \\\\\\\\\\nionosphere      & 0.84 & 0.82 & 0.85 & 0.83 & 0.88 &         0.93 &         0.87 &  0.86 \\\\\\\\\\nbreast\\\\_cancer   & 0.93 & 0.95 & 0.96 & 0.95 & 0.96 &         0.94 &         0.93 &  0.95 \\\\\\\\\\nairline         & 0.78 & 0.88 & 0.83 & 0.86 & 0.84 &         0.90 &         0.89 &  0.85 \\\\\\\\\\ncovertype       & 0.61 & 0.69 & 0.68 & 0.69 & 0.58 &         0.74 &         0.64 &  0.66 \\\\\\\\\\npcos            & 0.77 & 0.85 & 0.82 & 0.89 & 0.79 &         0.88 &         0.81 &  0.83 \\\\\\\\\\nmean            & 0.78 & 0.83 & 0.83 & 0.84 & 0.80 &         0.88 &         0.83 &  0.83 \\\\\\\\\\n\\\\bottomrule\\n\\\\end{tabular}\\n'"
      ]
     },
     "execution_count": 40,
     "metadata": {},
     "output_type": "execute_result"
    }
   ],
   "source": [
    "avg_df.to_latex()"
   ]
  },
  {
   "cell_type": "code",
   "execution_count": 42,
   "metadata": {},
   "outputs": [
    {
     "data": {
      "text/html": [
       "<div>\n",
       "<style scoped>\n",
       "    .dataframe tbody tr th:only-of-type {\n",
       "        vertical-align: middle;\n",
       "    }\n",
       "\n",
       "    .dataframe tbody tr th {\n",
       "        vertical-align: top;\n",
       "    }\n",
       "\n",
       "    .dataframe thead th {\n",
       "        text-align: right;\n",
       "    }\n",
       "</style>\n",
       "<table border=\"1\" class=\"dataframe\">\n",
       "  <thead>\n",
       "    <tr style=\"text-align: right;\">\n",
       "      <th></th>\n",
       "      <th>SGD</th>\n",
       "      <th>IWLS</th>\n",
       "      <th>Adam</th>\n",
       "      <th>mean</th>\n",
       "    </tr>\n",
       "  </thead>\n",
       "  <tbody>\n",
       "    <tr>\n",
       "      <th>banana</th>\n",
       "      <td>50.40</td>\n",
       "      <td>14.00</td>\n",
       "      <td>410.00</td>\n",
       "      <td>158.13</td>\n",
       "    </tr>\n",
       "    <tr>\n",
       "      <th>magic_telescope</th>\n",
       "      <td>113.10</td>\n",
       "      <td>14.00</td>\n",
       "      <td>500.00</td>\n",
       "      <td>209.03</td>\n",
       "    </tr>\n",
       "    <tr>\n",
       "      <th>penguins</th>\n",
       "      <td>56.80</td>\n",
       "      <td>51.80</td>\n",
       "      <td>330.50</td>\n",
       "      <td>146.37</td>\n",
       "    </tr>\n",
       "    <tr>\n",
       "      <th>sonar</th>\n",
       "      <td>132.70</td>\n",
       "      <td>51.70</td>\n",
       "      <td>460.00</td>\n",
       "      <td>214.80</td>\n",
       "    </tr>\n",
       "    <tr>\n",
       "      <th>ionosphere</th>\n",
       "      <td>243.10</td>\n",
       "      <td>55.00</td>\n",
       "      <td>500.00</td>\n",
       "      <td>266.03</td>\n",
       "    </tr>\n",
       "    <tr>\n",
       "      <th>breast_cancer</th>\n",
       "      <td>63.80</td>\n",
       "      <td>52.50</td>\n",
       "      <td>316.20</td>\n",
       "      <td>144.17</td>\n",
       "    </tr>\n",
       "    <tr>\n",
       "      <th>airline</th>\n",
       "      <td>57.40</td>\n",
       "      <td>14.00</td>\n",
       "      <td>239.00</td>\n",
       "      <td>103.47</td>\n",
       "    </tr>\n",
       "    <tr>\n",
       "      <th>covertype</th>\n",
       "      <td>64.00</td>\n",
       "      <td>54.00</td>\n",
       "      <td>323.90</td>\n",
       "      <td>147.30</td>\n",
       "    </tr>\n",
       "    <tr>\n",
       "      <th>pcos</th>\n",
       "      <td>51.10</td>\n",
       "      <td>30.40</td>\n",
       "      <td>174.70</td>\n",
       "      <td>85.40</td>\n",
       "    </tr>\n",
       "    <tr>\n",
       "      <th>mean</th>\n",
       "      <td>92.49</td>\n",
       "      <td>37.49</td>\n",
       "      <td>361.59</td>\n",
       "      <td>163.86</td>\n",
       "    </tr>\n",
       "  </tbody>\n",
       "</table>\n",
       "</div>"
      ],
      "text/plain": [
       "                   SGD  IWLS   Adam   mean\n",
       "banana           50.40 14.00 410.00 158.13\n",
       "magic_telescope 113.10 14.00 500.00 209.03\n",
       "penguins         56.80 51.80 330.50 146.37\n",
       "sonar           132.70 51.70 460.00 214.80\n",
       "ionosphere      243.10 55.00 500.00 266.03\n",
       "breast_cancer    63.80 52.50 316.20 144.17\n",
       "airline          57.40 14.00 239.00 103.47\n",
       "covertype        64.00 54.00 323.90 147.30\n",
       "pcos             51.10 30.40 174.70  85.40\n",
       "mean             92.49 37.49 361.59 163.86"
      ]
     },
     "execution_count": 42,
     "metadata": {},
     "output_type": "execute_result"
    }
   ],
   "source": [
    "index_datasets = ['banana', 'magic_telescope', 'penguins', 'sonar', 'ionosphere', 'breast_cancer', 'airline', 'covertype', 'pcos']\n",
    "col_models = ['SGD', 'IWLS', 'Adam']\n",
    "avg_df = pd.DataFrame(columns = col_models, index=index_datasets)\n",
    "for ind in index_datasets:\n",
    "    for col in col_models:\n",
    "        avg = np.mean(results[ind][col]['n_of_iterations'])\n",
    "        avg_df.loc[ind, col] = avg\n",
    "\n",
    "avg_df.loc['mean'] = avg_df.mean()\n",
    "\n",
    "pd.options.display.float_format = '{:,.2f}'.format\n",
    "avg_df['mean'] = avg_df.mean(axis=1)\n",
    "avg_df"
   ]
  },
  {
   "cell_type": "markdown",
   "metadata": {},
   "source": [
    "## Compare interactions"
   ]
  },
  {
   "cell_type": "code",
   "execution_count": 46,
   "metadata": {},
   "outputs": [
    {
     "data": {
      "text/html": [
       "<div>\n",
       "<style scoped>\n",
       "    .dataframe tbody tr th:only-of-type {\n",
       "        vertical-align: middle;\n",
       "    }\n",
       "\n",
       "    .dataframe tbody tr th {\n",
       "        vertical-align: top;\n",
       "    }\n",
       "\n",
       "    .dataframe thead th {\n",
       "        text-align: right;\n",
       "    }\n",
       "</style>\n",
       "<table border=\"1\" class=\"dataframe\">\n",
       "  <thead>\n",
       "    <tr style=\"text-align: right;\">\n",
       "      <th></th>\n",
       "      <th>SGD</th>\n",
       "      <th>SGD_INT</th>\n",
       "      <th>IWLS</th>\n",
       "      <th>IWLS_INT</th>\n",
       "      <th>Adam</th>\n",
       "      <th>Adam_INT</th>\n",
       "      <th>mean</th>\n",
       "    </tr>\n",
       "  </thead>\n",
       "  <tbody>\n",
       "    <tr>\n",
       "      <th>banana</th>\n",
       "      <td>0.77</td>\n",
       "      <td>0.90</td>\n",
       "      <td>0.85</td>\n",
       "      <td>0.93</td>\n",
       "      <td>0.86</td>\n",
       "      <td>0.93</td>\n",
       "      <td>0.87</td>\n",
       "    </tr>\n",
       "    <tr>\n",
       "      <th>magic_telescope</th>\n",
       "      <td>0.72</td>\n",
       "      <td>0.72</td>\n",
       "      <td>0.74</td>\n",
       "      <td>0.76</td>\n",
       "      <td>0.71</td>\n",
       "      <td>0.70</td>\n",
       "      <td>0.72</td>\n",
       "    </tr>\n",
       "    <tr>\n",
       "      <th>penguins</th>\n",
       "      <td>0.89</td>\n",
       "      <td>0.92</td>\n",
       "      <td>0.94</td>\n",
       "      <td>0.60</td>\n",
       "      <td>0.99</td>\n",
       "      <td>0.99</td>\n",
       "      <td>0.89</td>\n",
       "    </tr>\n",
       "    <tr>\n",
       "      <th>mean</th>\n",
       "      <td>0.79</td>\n",
       "      <td>0.85</td>\n",
       "      <td>0.85</td>\n",
       "      <td>0.76</td>\n",
       "      <td>0.85</td>\n",
       "      <td>0.88</td>\n",
       "      <td>0.83</td>\n",
       "    </tr>\n",
       "  </tbody>\n",
       "</table>\n",
       "</div>"
      ],
      "text/plain": [
       "                 SGD SGD_INT IWLS IWLS_INT Adam Adam_INT  mean\n",
       "banana          0.77    0.90 0.85     0.93 0.86     0.93  0.87\n",
       "magic_telescope 0.72    0.72 0.74     0.76 0.71     0.70  0.72\n",
       "penguins        0.89    0.92 0.94     0.60 0.99     0.99  0.89\n",
       "mean            0.79    0.85 0.85     0.76 0.85     0.88  0.83"
      ]
     },
     "execution_count": 46,
     "metadata": {},
     "output_type": "execute_result"
    }
   ],
   "source": [
    "index_datasets = ['banana', 'magic_telescope', 'penguins']\n",
    "col_models = ['SGD', 'SGD_INT', 'IWLS', 'IWLS_INT',  'Adam', 'Adam_INT']\n",
    "avg_df = pd.DataFrame(columns = col_models, index=index_datasets)\n",
    "for ind in index_datasets:\n",
    "    for col in col_models:\n",
    "        avg = np.mean(results[ind][col]['score'])\n",
    "        avg_df.loc[ind, col] = avg\n",
    "\n",
    "avg_df.loc['mean'] = avg_df.mean()\n",
    "\n",
    "\n",
    "avg_df['mean'] = avg_df.mean(axis=1)\n",
    "pd.options.display.float_format = '{:,.2f}'.format\n",
    "avg_df"
   ]
  },
  {
   "cell_type": "code",
   "execution_count": 45,
   "metadata": {},
   "outputs": [
    {
     "data": {
      "text/html": [
       "<div>\n",
       "<style scoped>\n",
       "    .dataframe tbody tr th:only-of-type {\n",
       "        vertical-align: middle;\n",
       "    }\n",
       "\n",
       "    .dataframe tbody tr th {\n",
       "        vertical-align: top;\n",
       "    }\n",
       "\n",
       "    .dataframe thead th {\n",
       "        text-align: right;\n",
       "    }\n",
       "</style>\n",
       "<table border=\"1\" class=\"dataframe\">\n",
       "  <thead>\n",
       "    <tr style=\"text-align: right;\">\n",
       "      <th></th>\n",
       "      <th>SGD</th>\n",
       "      <th>SGD_INT</th>\n",
       "      <th>IWLS</th>\n",
       "      <th>IWLS_INT</th>\n",
       "      <th>Adam</th>\n",
       "      <th>Adam_INT</th>\n",
       "      <th>mean</th>\n",
       "    </tr>\n",
       "  </thead>\n",
       "  <tbody>\n",
       "    <tr>\n",
       "      <th>banana</th>\n",
       "      <td>50.40</td>\n",
       "      <td>67.60</td>\n",
       "      <td>14.00</td>\n",
       "      <td>16.30</td>\n",
       "      <td>410.00</td>\n",
       "      <td>454.60</td>\n",
       "      <td>168.82</td>\n",
       "    </tr>\n",
       "    <tr>\n",
       "      <th>magic_telescope</th>\n",
       "      <td>113.10</td>\n",
       "      <td>87.10</td>\n",
       "      <td>14.00</td>\n",
       "      <td>18.90</td>\n",
       "      <td>500.00</td>\n",
       "      <td>500.00</td>\n",
       "      <td>205.52</td>\n",
       "    </tr>\n",
       "    <tr>\n",
       "      <th>penguins</th>\n",
       "      <td>56.80</td>\n",
       "      <td>158.40</td>\n",
       "      <td>51.80</td>\n",
       "      <td>50.40</td>\n",
       "      <td>330.50</td>\n",
       "      <td>282.50</td>\n",
       "      <td>155.07</td>\n",
       "    </tr>\n",
       "    <tr>\n",
       "      <th>mean</th>\n",
       "      <td>73.43</td>\n",
       "      <td>104.37</td>\n",
       "      <td>26.60</td>\n",
       "      <td>28.53</td>\n",
       "      <td>413.50</td>\n",
       "      <td>412.37</td>\n",
       "      <td>176.47</td>\n",
       "    </tr>\n",
       "  </tbody>\n",
       "</table>\n",
       "</div>"
      ],
      "text/plain": [
       "                   SGD SGD_INT  IWLS IWLS_INT   Adam Adam_INT   mean\n",
       "banana           50.40   67.60 14.00    16.30 410.00   454.60 168.82\n",
       "magic_telescope 113.10   87.10 14.00    18.90 500.00   500.00 205.52\n",
       "penguins         56.80  158.40 51.80    50.40 330.50   282.50 155.07\n",
       "mean             73.43  104.37 26.60    28.53 413.50   412.37 176.47"
      ]
     },
     "execution_count": 45,
     "metadata": {},
     "output_type": "execute_result"
    }
   ],
   "source": [
    "index_datasets = ['banana', 'magic_telescope', 'penguins']\n",
    "col_models = ['SGD', 'SGD_INT', 'IWLS', 'IWLS_INT',  'Adam', 'Adam_INT']\n",
    "avg_df = pd.DataFrame(columns = col_models, index=index_datasets)\n",
    "for ind in index_datasets:\n",
    "    for col in col_models:\n",
    "        avg = np.mean(results[ind][col]['n_of_iterations'])\n",
    "        avg_df.loc[ind, col] = avg\n",
    "\n",
    "avg_df.loc['mean'] = avg_df.mean()\n",
    "\n",
    "\n",
    "avg_df['mean'] = avg_df.mean(axis=1)\n",
    "pd.options.display.float_format = '{:,.2f}'.format\n",
    "avg_df"
   ]
  },
  {
   "cell_type": "code",
   "execution_count": 30,
   "metadata": {},
   "outputs": [],
   "source": [
    "df_dic = {}\n",
    "optimizers = ['SGD', 'SGD_INT', 'IWLS', 'IWLS_INT', 'Adam', 'Adam_INT']\n",
    "for set_name in small_sets:\n",
    "    df_dic[set_name] = pd.DataFrame(columns=optimizers)\n",
    "    for opt_name in optimizers:\n",
    "        df_dic[set_name][opt_name] = results[set_name][opt_name]['score']"
   ]
  },
  {
   "cell_type": "code",
   "execution_count": 31,
   "metadata": {},
   "outputs": [
    {
     "data": {
      "image/png": "[encoded data removed]",
      "text/plain": [
       "<Figure size 1500x500 with 3 Axes>"
      ]
     },
     "metadata": {},
     "output_type": "display_data"
    }
   ],
   "source": [
    "# Plotting side-by-side histograms\n",
    "fig, axs = plt.subplots(1, len(df_dic), figsize=(15, 5))\n",
    "\n",
    "for i, (key, df) in enumerate(df_dic.items()):\n",
    "    ax = axs[i]\n",
    "    df.boxplot(ax=ax)\n",
    "    ax.set_title(key)\n",
    "    ax.set_ylabel('Balanced Accuracy')\n",
    "\n",
    "plt.tight_layout()\n",
    "plt.show()"
   ]
  },
  {
   "cell_type": "markdown",
   "metadata": {},
   "source": [
    "# Compare with other methods"
   ]
  },
  {
   "cell_type": "code",
   "execution_count": 32,
   "metadata": {},
   "outputs": [],
   "source": [
    "df_dic = {}\n",
    "optimizers = ['SGD',  'IWLS', 'Adam', 'LDA', 'QDA', 'DecisionTree', 'RandomForest']\n",
    "sets = ['banana', 'magic_telescope', 'penguins', 'sonar', 'covertype', 'ionosphere', 'breast_cancer', 'airline', 'breast_cancer', 'pcos']\n",
    "for set_name in sets:\n",
    "    df_dic[set_name] = pd.DataFrame(columns=optimizers)\n",
    "    for opt_name in optimizers:\n",
    "        df_dic[set_name][opt_name] = results[set_name][opt_name]['score']\n",
    "\n",
    "\n",
    "df_dic['mean'] = pd.DataFrame(columns=optimizers)\n",
    "for opt_name in optimizers:\n",
    "        all_scores = []\n",
    "        for set_name in sets:\n",
    "            all_scores.extend([np.mean(results[set_name][opt_name]['score'])])\n",
    "\n",
    "        df_dic['mean'][opt_name] = all_scores\n"
   ]
  },
  {
   "cell_type": "code",
   "execution_count": 33,
   "metadata": {},
   "outputs": [
    {
     "data": {
      "image/png": "[encoded data removed]",
      "text/plain": [
       "<Figure size 1500x2000 with 10 Axes>"
      ]
     },
     "metadata": {},
     "output_type": "display_data"
    }
   ],
   "source": [
    "# Plotting the histograms in a 3x3 grid\n",
    "fig, axs = plt.subplots(5, 2, figsize=(15, 20))\n",
    "\n",
    "# Flatten the axis array for easy iteration\n",
    "axs = axs.flatten()\n",
    "\n",
    "for i, (key, df) in enumerate(df_dic.items()):\n",
    "    ax = axs[i]\n",
    "    df.boxplot(ax=ax)\n",
    "    ax.set_title(key)\n",
    "    ax.set_ylabel('Balanced Accuracy')\n",
    "\n",
    "# Hide empty subplots\n",
    "for i in range(len(df_dic), len(axs)):\n",
    "    axs[i].axis('off')\n",
    "\n",
    "\n",
    "plt.tight_layout()\n",
    "plt.show()"
   ]
  }
 ],
 "metadata": {
  "kernelspec": {
   "display_name": "base",
   "language": "python",
   "name": "python3"
  },
  "language_info": {
   "codemirror_mode": {
    "name": "ipython",
    "version": 3
   },
   "file_extension": ".py",
   "mimetype": "text/x-python",
   "name": "python",
   "nbconvert_exporter": "python",
   "pygments_lexer": "ipython3",
   "version": "3.9.7"
  }
 },
 "nbformat": 4,
 "nbformat_minor": 2
}
